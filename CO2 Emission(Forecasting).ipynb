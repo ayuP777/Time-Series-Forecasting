{
 "cells": [
  {
   "cell_type": "code",
   "execution_count": null,
   "id": "d84a89f7",
   "metadata": {
    "colab": {
     "base_uri": "https://localhost:8080/",
     "height": 374
    },
    "executionInfo": {
     "elapsed": 1442,
     "status": "error",
     "timestamp": 1642166200090,
     "user": {
      "displayName": "Pustode Ayush",
      "photoUrl": "https://lh3.googleusercontent.com/a-/AOh14GiJlrCGz-UuexLNV8mFDI-NmLjTcQ047vLC8lOAsp0=s64",
      "userId": "17475338800285129425"
     },
     "user_tz": -330
    },
    "id": "d84a89f7",
    "outputId": "a079eb7f-a330-464f-85b0-7bca07ccc7a8",
    "scrolled": true
   },
   "outputs": [],
   "source": [
    "#Importing important librabies\n",
    "import pandas as pd\n",
    "import matplotlib.pyplot as plt\n",
    "import sweetviz as sv\n",
    "import seaborn as sns\n",
    "from statsmodels.tsa.api import SimpleExpSmoothing, ExponentialSmoothing, Holt\n",
    "\n",
    "\n",
    "import matplotlib as mtl \n",
    "%matplotlib inline\n",
    "!pip install sweetviz"
   ]
  },
  {
   "cell_type": "code",
   "execution_count": null,
   "id": "65cb70a0",
   "metadata": {
    "executionInfo": {
     "elapsed": 697,
     "status": "aborted",
     "timestamp": 1642166200028,
     "user": {
      "displayName": "Pustode Ayush",
      "photoUrl": "https://lh3.googleusercontent.com/a-/AOh14GiJlrCGz-UuexLNV8mFDI-NmLjTcQ047vLC8lOAsp0=s64",
      "userId": "17475338800285129425"
     },
     "user_tz": -330
    },
    "id": "65cb70a0",
    "scrolled": true
   },
   "outputs": [],
   "source": []
  },
  {
   "cell_type": "code",
   "execution_count": null,
   "id": "a59adb47",
   "metadata": {
    "executionInfo": {
     "elapsed": 698,
     "status": "aborted",
     "timestamp": 1642166200029,
     "user": {
      "displayName": "Pustode Ayush",
      "photoUrl": "https://lh3.googleusercontent.com/a-/AOh14GiJlrCGz-UuexLNV8mFDI-NmLjTcQ047vLC8lOAsp0=s64",
      "userId": "17475338800285129425"
     },
     "user_tz": -330
    },
    "id": "a59adb47",
    "scrolled": true
   },
   "outputs": [],
   "source": [
    "import warnings\n",
    "warnings.filterwarnings('ignore')"
   ]
  },
  {
   "cell_type": "code",
   "execution_count": null,
   "id": "d590677f",
   "metadata": {
    "executionInfo": {
     "elapsed": 698,
     "status": "aborted",
     "timestamp": 1642166200030,
     "user": {
      "displayName": "Pustode Ayush",
      "photoUrl": "https://lh3.googleusercontent.com/a-/AOh14GiJlrCGz-UuexLNV8mFDI-NmLjTcQ047vLC8lOAsp0=s64",
      "userId": "17475338800285129425"
     },
     "user_tz": -330
    },
    "id": "d590677f",
    "scrolled": true
   },
   "outputs": [],
   "source": [
    "air_quality = pd.read_excel(\"CO2.xlsx\")   #importing the dataset"
   ]
  },
  {
   "cell_type": "code",
   "execution_count": null,
   "id": "e22c1ece",
   "metadata": {
    "executionInfo": {
     "elapsed": 698,
     "status": "aborted",
     "timestamp": 1642166200030,
     "user": {
      "displayName": "Pustode Ayush",
      "photoUrl": "https://lh3.googleusercontent.com/a-/AOh14GiJlrCGz-UuexLNV8mFDI-NmLjTcQ047vLC8lOAsp0=s64",
      "userId": "17475338800285129425"
     },
     "user_tz": -330
    },
    "id": "e22c1ece",
    "scrolled": true
   },
   "outputs": [],
   "source": [
    "air_quality.head()  "
   ]
  },
  {
   "cell_type": "markdown",
   "id": "bd9849e3",
   "metadata": {
    "id": "bd9849e3"
   },
   "source": [
    "The dataset has one variable dependent w.r.t. time hence we call the dataset as 'Univariant dataset'."
   ]
  },
  {
   "cell_type": "markdown",
   "id": "0e9955c8",
   "metadata": {
    "id": "0e9955c8"
   },
   "source": [
    "## EDA (Exploratory Data Analysis)"
   ]
  },
  {
   "cell_type": "code",
   "execution_count": null,
   "id": "a930b249",
   "metadata": {
    "executionInfo": {
     "elapsed": 698,
     "status": "aborted",
     "timestamp": 1642166200030,
     "user": {
      "displayName": "Pustode Ayush",
      "photoUrl": "https://lh3.googleusercontent.com/a-/AOh14GiJlrCGz-UuexLNV8mFDI-NmLjTcQ047vLC8lOAsp0=s64",
      "userId": "17475338800285129425"
     },
     "user_tz": -330
    },
    "id": "a930b249",
    "scrolled": true
   },
   "outputs": [],
   "source": [
    "#Checking for Non-null values, datatypes of variables\n",
    "air_quality.info()"
   ]
  },
  {
   "cell_type": "code",
   "execution_count": null,
   "id": "4e07fc04",
   "metadata": {
    "executionInfo": {
     "elapsed": 698,
     "status": "aborted",
     "timestamp": 1642166200030,
     "user": {
      "displayName": "Pustode Ayush",
      "photoUrl": "https://lh3.googleusercontent.com/a-/AOh14GiJlrCGz-UuexLNV8mFDI-NmLjTcQ047vLC8lOAsp0=s64",
      "userId": "17475338800285129425"
     },
     "user_tz": -330
    },
    "id": "4e07fc04",
    "scrolled": true
   },
   "outputs": [],
   "source": [
    "#Count of duplicated rows\n",
    "air_quality[air_quality.duplicated()].shape"
   ]
  },
  {
   "cell_type": "code",
   "execution_count": null,
   "id": "b45c546d",
   "metadata": {
    "executionInfo": {
     "elapsed": 699,
     "status": "aborted",
     "timestamp": 1642166200031,
     "user": {
      "displayName": "Pustode Ayush",
      "photoUrl": "https://lh3.googleusercontent.com/a-/AOh14GiJlrCGz-UuexLNV8mFDI-NmLjTcQ047vLC8lOAsp0=s64",
      "userId": "17475338800285129425"
     },
     "user_tz": -330
    },
    "id": "b45c546d",
    "scrolled": true
   },
   "outputs": [],
   "source": [
    "#Data Structure \n",
    "air_quality.shape"
   ]
  },
  {
   "cell_type": "code",
   "execution_count": null,
   "id": "f4a0a5a2",
   "metadata": {
    "executionInfo": {
     "elapsed": 699,
     "status": "aborted",
     "timestamp": 1642166200031,
     "user": {
      "displayName": "Pustode Ayush",
      "photoUrl": "https://lh3.googleusercontent.com/a-/AOh14GiJlrCGz-UuexLNV8mFDI-NmLjTcQ047vLC8lOAsp0=s64",
      "userId": "17475338800285129425"
     },
     "user_tz": -330
    },
    "id": "f4a0a5a2",
    "scrolled": true
   },
   "outputs": [],
   "source": [
    "#data types\n",
    "air_quality.dtypes"
   ]
  },
  {
   "cell_type": "code",
   "execution_count": null,
   "id": "cc4e1d03",
   "metadata": {
    "executionInfo": {
     "elapsed": 698,
     "status": "aborted",
     "timestamp": 1642166200031,
     "user": {
      "displayName": "Pustode Ayush",
      "photoUrl": "https://lh3.googleusercontent.com/a-/AOh14GiJlrCGz-UuexLNV8mFDI-NmLjTcQ047vLC8lOAsp0=s64",
      "userId": "17475338800285129425"
     },
     "user_tz": -330
    },
    "id": "cc4e1d03",
    "scrolled": true
   },
   "outputs": [],
   "source": [
    "#Parsing Year column as dates (for time series analysis time should be always in date_time dtype)\n",
    "# then using it as index column fr further analysis\n",
    "\n",
    "air_quality = pd.read_excel(\"CO2.xlsx\",parse_dates=['Year'],index_col='Year')\n",
    "air_quality"
   ]
  },
  {
   "cell_type": "code",
   "execution_count": null,
   "id": "7dbff74f",
   "metadata": {
    "executionInfo": {
     "elapsed": 698,
     "status": "aborted",
     "timestamp": 1642166200031,
     "user": {
      "displayName": "Pustode Ayush",
      "photoUrl": "https://lh3.googleusercontent.com/a-/AOh14GiJlrCGz-UuexLNV8mFDI-NmLjTcQ047vLC8lOAsp0=s64",
      "userId": "17475338800285129425"
     },
     "user_tz": -330
    },
    "id": "7dbff74f",
    "scrolled": true
   },
   "outputs": [],
   "source": [
    "# we can do convinient slicing for a specific time period\n",
    "\n",
    "air_quality['1850-01-01':'1950-01-01']"
   ]
  },
  {
   "cell_type": "code",
   "execution_count": null,
   "id": "57285b6a",
   "metadata": {
    "executionInfo": {
     "elapsed": 699,
     "status": "aborted",
     "timestamp": 1642166200032,
     "user": {
      "displayName": "Pustode Ayush",
      "photoUrl": "https://lh3.googleusercontent.com/a-/AOh14GiJlrCGz-UuexLNV8mFDI-NmLjTcQ047vLC8lOAsp0=s64",
      "userId": "17475338800285129425"
     },
     "user_tz": -330
    },
    "id": "57285b6a",
    "scrolled": true
   },
   "outputs": [],
   "source": [
    "# we can check values corresponding to a specific time point\n",
    "air_quality.loc['2008']"
   ]
  },
  {
   "cell_type": "code",
   "execution_count": null,
   "id": "a5f04ed8",
   "metadata": {
    "executionInfo": {
     "elapsed": 699,
     "status": "aborted",
     "timestamp": 1642166200032,
     "user": {
      "displayName": "Pustode Ayush",
      "photoUrl": "https://lh3.googleusercontent.com/a-/AOh14GiJlrCGz-UuexLNV8mFDI-NmLjTcQ047vLC8lOAsp0=s64",
      "userId": "17475338800285129425"
     },
     "user_tz": -330
    },
    "id": "a5f04ed8",
    "scrolled": true
   },
   "outputs": [],
   "source": [
    "#Descriptive stat\n",
    "\n",
    "air_quality['CO2'].describe()"
   ]
  },
  {
   "cell_type": "code",
   "execution_count": null,
   "id": "3541bb9f",
   "metadata": {
    "executionInfo": {
     "elapsed": 699,
     "status": "aborted",
     "timestamp": 1642166200032,
     "user": {
      "displayName": "Pustode Ayush",
      "photoUrl": "https://lh3.googleusercontent.com/a-/AOh14GiJlrCGz-UuexLNV8mFDI-NmLjTcQ047vLC8lOAsp0=s64",
      "userId": "17475338800285129425"
     },
     "user_tz": -330
    },
    "id": "3541bb9f",
    "scrolled": true
   },
   "outputs": [],
   "source": [
    "sweet_report = sv.analyze(air_quality)\n",
    "sweet_report.show_notebook(layout='widescreen' , w=880, h=700, scale=0.8)"
   ]
  },
  {
   "cell_type": "markdown",
   "id": "180f7dab",
   "metadata": {
    "id": "180f7dab"
   },
   "source": [
    "## Outlier detection"
   ]
  },
  {
   "cell_type": "code",
   "execution_count": null,
   "id": "aa20aa8d",
   "metadata": {
    "executionInfo": {
     "elapsed": 700,
     "status": "aborted",
     "timestamp": 1642166200033,
     "user": {
      "displayName": "Pustode Ayush",
      "photoUrl": "https://lh3.googleusercontent.com/a-/AOh14GiJlrCGz-UuexLNV8mFDI-NmLjTcQ047vLC8lOAsp0=s64",
      "userId": "17475338800285129425"
     },
     "user_tz": -330
    },
    "id": "aa20aa8d",
    "scrolled": true
   },
   "outputs": [],
   "source": [
    "#Box plot\n",
    "air_quality.boxplot(column=['CO2'],vert=False)"
   ]
  },
  {
   "cell_type": "markdown",
   "id": "fdb1ac97",
   "metadata": {
    "id": "fdb1ac97"
   },
   "source": [
    "No Outlier has been detected"
   ]
  },
  {
   "cell_type": "markdown",
   "id": "2199eebe",
   "metadata": {
    "id": "2199eebe"
   },
   "source": [
    "## Visualization "
   ]
  },
  {
   "cell_type": "code",
   "execution_count": null,
   "id": "2461ba8a",
   "metadata": {
    "executionInfo": {
     "elapsed": 700,
     "status": "aborted",
     "timestamp": 1642166200033,
     "user": {
      "displayName": "Pustode Ayush",
      "photoUrl": "https://lh3.googleusercontent.com/a-/AOh14GiJlrCGz-UuexLNV8mFDI-NmLjTcQ047vLC8lOAsp0=s64",
      "userId": "17475338800285129425"
     },
     "user_tz": -330
    },
    "id": "2461ba8a",
    "scrolled": true
   },
   "outputs": [],
   "source": [
    "! pip install plotly\n",
    "import plotly.graph_objects as go\n",
    "import plotly.express as px\n",
    "from plotly.subplots import make_subplots"
   ]
  },
  {
   "cell_type": "code",
   "execution_count": null,
   "id": "4bd1a8d5",
   "metadata": {
    "executionInfo": {
     "elapsed": 699,
     "status": "aborted",
     "timestamp": 1642166200033,
     "user": {
      "displayName": "Pustode Ayush",
      "photoUrl": "https://lh3.googleusercontent.com/a-/AOh14GiJlrCGz-UuexLNV8mFDI-NmLjTcQ047vLC8lOAsp0=s64",
      "userId": "17475338800285129425"
     },
     "user_tz": -330
    },
    "id": "4bd1a8d5",
    "scrolled": true
   },
   "outputs": [],
   "source": [
    "air = pd.read_excel(\"CO2.xlsx\")   #importing the dataset"
   ]
  },
  {
   "cell_type": "code",
   "execution_count": null,
   "id": "1eb635cc",
   "metadata": {
    "executionInfo": {
     "elapsed": 699,
     "status": "aborted",
     "timestamp": 1642166200033,
     "user": {
      "displayName": "Pustode Ayush",
      "photoUrl": "https://lh3.googleusercontent.com/a-/AOh14GiJlrCGz-UuexLNV8mFDI-NmLjTcQ047vLC8lOAsp0=s64",
      "userId": "17475338800285129425"
     },
     "user_tz": -330
    },
    "id": "1eb635cc",
    "scrolled": true
   },
   "outputs": [],
   "source": [
    "#plotting a line plot using plotly\n",
    "\n",
    "fig = px.line(air, x=air.Year, y=[air['CO2']],\n",
    "             labels={'Year': 'Year','value':'CO2 Emmision'})\n",
    "fig.update_layout(title_text='CO2 emmision chart', font_size=15, font_color='black',legend_title_text='CO2 Parameters')\n",
    "fig.update_xaxes(showgrid=True)\n",
    "fig.update_yaxes(showgrid=True)\n",
    "fig.show()\n"
   ]
  },
  {
   "cell_type": "markdown",
   "id": "2233c564",
   "metadata": {
    "id": "2233c564"
   },
   "source": [
    "## Inference"
   ]
  },
  {
   "cell_type": "markdown",
   "id": "d73224bb",
   "metadata": {
    "id": "d73224bb"
   },
   "source": [
    "### Here we can see sudden increase in CO2 emission between 1840-1860 and 1950-1990\n",
    "### Lets split the data and have a close look at these time periods"
   ]
  },
  {
   "cell_type": "code",
   "execution_count": null,
   "id": "f6e204d1",
   "metadata": {
    "executionInfo": {
     "elapsed": 700,
     "status": "aborted",
     "timestamp": 1642166200034,
     "user": {
      "displayName": "Pustode Ayush",
      "photoUrl": "https://lh3.googleusercontent.com/a-/AOh14GiJlrCGz-UuexLNV8mFDI-NmLjTcQ047vLC8lOAsp0=s64",
      "userId": "17475338800285129425"
     },
     "user_tz": -330
    },
    "id": "f6e204d1",
    "scrolled": true
   },
   "outputs": [],
   "source": [
    "#Splitting the data\n",
    "\n",
    "df1 = air_quality['1840':'1860']\n",
    "df2 = air_quality['1950':'1990']"
   ]
  },
  {
   "cell_type": "code",
   "execution_count": null,
   "id": "1d6006bb",
   "metadata": {
    "executionInfo": {
     "elapsed": 700,
     "status": "aborted",
     "timestamp": 1642166200034,
     "user": {
      "displayName": "Pustode Ayush",
      "photoUrl": "https://lh3.googleusercontent.com/a-/AOh14GiJlrCGz-UuexLNV8mFDI-NmLjTcQ047vLC8lOAsp0=s64",
      "userId": "17475338800285129425"
     },
     "user_tz": -330
    },
    "id": "1d6006bb",
    "scrolled": true
   },
   "outputs": [],
   "source": [
    "# Checking for time period of 1840-1860\n",
    "\n",
    "ax1 = df1.plot()\n",
    "ax1.set_ylabel('CO2 emission');"
   ]
  },
  {
   "cell_type": "markdown",
   "id": "6af900f6",
   "metadata": {
    "id": "6af900f6"
   },
   "source": [
    "### Inference :\n",
    "As here we see there is sudden rise in CO2 emission after 1845 that is because of the starting of Industrialization which was led by United Kingdom at that time period, with USA as second highest emitters in the world. "
   ]
  },
  {
   "cell_type": "code",
   "execution_count": null,
   "id": "23ca715b",
   "metadata": {
    "executionInfo": {
     "elapsed": 700,
     "status": "aborted",
     "timestamp": 1642166200034,
     "user": {
      "displayName": "Pustode Ayush",
      "photoUrl": "https://lh3.googleusercontent.com/a-/AOh14GiJlrCGz-UuexLNV8mFDI-NmLjTcQ047vLC8lOAsp0=s64",
      "userId": "17475338800285129425"
     },
     "user_tz": -330
    },
    "id": "23ca715b",
    "scrolled": true
   },
   "outputs": [],
   "source": [
    "# Checking for time period of 1950':'1990\n",
    "\n",
    "ax2 = df2.plot()\n",
    "ax2.set_ylabel('CO2 emission');"
   ]
  },
  {
   "cell_type": "markdown",
   "id": "030d7560",
   "metadata": {
    "id": "030d7560"
   },
   "source": [
    "### Inference :\n",
    "Here we can see immense growth in CO2 emission after 1960. \n",
    "As the reason we found that there were some new developments after 1960. Along with America & Europe, Asian countries also started Industrializaing which caused this increased  emission."
   ]
  },
  {
   "cell_type": "code",
   "execution_count": null,
   "id": "040d6c01",
   "metadata": {
    "executionInfo": {
     "elapsed": 699,
     "status": "aborted",
     "timestamp": 1642166200034,
     "user": {
      "displayName": "Pustode Ayush",
      "photoUrl": "https://lh3.googleusercontent.com/a-/AOh14GiJlrCGz-UuexLNV8mFDI-NmLjTcQ047vLC8lOAsp0=s64",
      "userId": "17475338800285129425"
     },
     "user_tz": -330
    },
    "id": "040d6c01",
    "scrolled": false
   },
   "outputs": [],
   "source": [
    "#plotting Heatmap  \n",
    "\n",
    "ax = sns.heatmap(air_quality)"
   ]
  },
  {
   "cell_type": "code",
   "execution_count": null,
   "id": "53146eac",
   "metadata": {
    "executionInfo": {
     "elapsed": 700,
     "status": "aborted",
     "timestamp": 1642166200035,
     "user": {
      "displayName": "Pustode Ayush",
      "photoUrl": "https://lh3.googleusercontent.com/a-/AOh14GiJlrCGz-UuexLNV8mFDI-NmLjTcQ047vLC8lOAsp0=s64",
      "userId": "17475338800285129425"
     },
     "user_tz": -330
    },
    "id": "53146eac",
    "scrolled": true
   },
   "outputs": [],
   "source": []
  },
  {
   "cell_type": "markdown",
   "id": "4f24d2f8",
   "metadata": {
    "id": "4f24d2f8"
   },
   "source": [
    "### Simple Moving Average"
   ]
  },
  {
   "cell_type": "code",
   "execution_count": null,
   "id": "6d6154b4",
   "metadata": {
    "executionInfo": {
     "elapsed": 700,
     "status": "aborted",
     "timestamp": 1642166200035,
     "user": {
      "displayName": "Pustode Ayush",
      "photoUrl": "https://lh3.googleusercontent.com/a-/AOh14GiJlrCGz-UuexLNV8mFDI-NmLjTcQ047vLC8lOAsp0=s64",
      "userId": "17475338800285129425"
     },
     "user_tz": -330
    },
    "id": "6d6154b4",
    "scrolled": true
   },
   "outputs": [],
   "source": [
    "#rolling average transform\n",
    "\n",
    "rollingseries = air_quality.rolling(window = 10)\n",
    "\n",
    "rollingmean = rollingseries.mean()    #finding rolling mean MA(5)\n"
   ]
  },
  {
   "cell_type": "code",
   "execution_count": null,
   "id": "df663576",
   "metadata": {
    "executionInfo": {
     "elapsed": 700,
     "status": "aborted",
     "timestamp": 1642166200035,
     "user": {
      "displayName": "Pustode Ayush",
      "photoUrl": "https://lh3.googleusercontent.com/a-/AOh14GiJlrCGz-UuexLNV8mFDI-NmLjTcQ047vLC8lOAsp0=s64",
      "userId": "17475338800285129425"
     },
     "user_tz": -330
    },
    "id": "df663576",
    "scrolled": true
   },
   "outputs": [],
   "source": [
    "air_quality.head(20)"
   ]
  },
  {
   "cell_type": "code",
   "execution_count": null,
   "id": "41decfa0",
   "metadata": {
    "executionInfo": {
     "elapsed": 699,
     "status": "aborted",
     "timestamp": 1642166200035,
     "user": {
      "displayName": "Pustode Ayush",
      "photoUrl": "https://lh3.googleusercontent.com/a-/AOh14GiJlrCGz-UuexLNV8mFDI-NmLjTcQ047vLC8lOAsp0=s64",
      "userId": "17475338800285129425"
     },
     "user_tz": -330
    },
    "id": "41decfa0",
    "scrolled": true
   },
   "outputs": [],
   "source": [
    "rollingmean.head(20)"
   ]
  },
  {
   "cell_type": "code",
   "execution_count": null,
   "id": "59d38085",
   "metadata": {
    "executionInfo": {
     "elapsed": 699,
     "status": "aborted",
     "timestamp": 1642166200035,
     "user": {
      "displayName": "Pustode Ayush",
      "photoUrl": "https://lh3.googleusercontent.com/a-/AOh14GiJlrCGz-UuexLNV8mFDI-NmLjTcQ047vLC8lOAsp0=s64",
      "userId": "17475338800285129425"
     },
     "user_tz": -330
    },
    "id": "59d38085",
    "scrolled": true
   },
   "outputs": [],
   "source": [
    "# plot transformed data\n",
    "print(\"Graph with Moving Averages\")\n",
    "rollingmean.plot(color = 'red')\n",
    "plt.show()\n"
   ]
  },
  {
   "cell_type": "code",
   "execution_count": null,
   "id": "dea7cce6",
   "metadata": {
    "executionInfo": {
     "elapsed": 700,
     "status": "aborted",
     "timestamp": 1642166200036,
     "user": {
      "displayName": "Pustode Ayush",
      "photoUrl": "https://lh3.googleusercontent.com/a-/AOh14GiJlrCGz-UuexLNV8mFDI-NmLjTcQ047vLC8lOAsp0=s64",
      "userId": "17475338800285129425"
     },
     "user_tz": -330
    },
    "id": "dea7cce6",
    "scrolled": true
   },
   "outputs": [],
   "source": [
    "print(\"Graph with Original Values\")\n",
    "air_quality.plot(color = 'blue')\n",
    "plt.show()"
   ]
  },
  {
   "cell_type": "markdown",
   "id": "ebe962b9",
   "metadata": {
    "id": "ebe962b9"
   },
   "source": [
    "### Simple Exponential Smoothing"
   ]
  },
  {
   "cell_type": "code",
   "execution_count": null,
   "id": "4bfbc8bd",
   "metadata": {
    "executionInfo": {
     "elapsed": 700,
     "status": "aborted",
     "timestamp": 1642166200036,
     "user": {
      "displayName": "Pustode Ayush",
      "photoUrl": "https://lh3.googleusercontent.com/a-/AOh14GiJlrCGz-UuexLNV8mFDI-NmLjTcQ047vLC8lOAsp0=s64",
      "userId": "17475338800285129425"
     },
     "user_tz": -330
    },
    "id": "4bfbc8bd",
    "scrolled": true
   },
   "outputs": [],
   "source": [
    "# exponential smoothing - single\n",
    "\n",
    "fit1 = SimpleExpSmoothing(air_quality).fit(smoothing_level=0.2,optimized=False)\n",
    "\n",
    "fit2 = SimpleExpSmoothing(air_quality).fit(smoothing_level=0.1,optimized=False)\n"
   ]
  },
  {
   "cell_type": "code",
   "execution_count": null,
   "id": "5fa681e9",
   "metadata": {
    "executionInfo": {
     "elapsed": 700,
     "status": "aborted",
     "timestamp": 1642166200036,
     "user": {
      "displayName": "Pustode Ayush",
      "photoUrl": "https://lh3.googleusercontent.com/a-/AOh14GiJlrCGz-UuexLNV8mFDI-NmLjTcQ047vLC8lOAsp0=s64",
      "userId": "17475338800285129425"
     },
     "user_tz": -330
    },
    "id": "5fa681e9",
    "scrolled": true
   },
   "outputs": [],
   "source": [
    "plt.figure(figsize=(18,8))\n",
    "plt.plot(air_quality,  color = 'blue')         #a blue line will show original datapoints\n",
    "\n",
    "plt.plot(fit1.fittedvalues, color = 'red')     #a red line will show smothened values with smoothing level of 0.2\n",
    "\n",
    "plt.plot(fit2.fittedvalues, color = 'green')   #a green line will show smothened values with smoothing level of 0.10"
   ]
  },
  {
   "cell_type": "markdown",
   "id": "44caef15",
   "metadata": {
    "id": "44caef15"
   },
   "source": [
    "### Holt's Method of Exponential Smoothing"
   ]
  },
  {
   "cell_type": "code",
   "execution_count": null,
   "id": "2c22a622",
   "metadata": {
    "executionInfo": {
     "elapsed": 699,
     "status": "aborted",
     "timestamp": 1642166200036,
     "user": {
      "displayName": "Pustode Ayush",
      "photoUrl": "https://lh3.googleusercontent.com/a-/AOh14GiJlrCGz-UuexLNV8mFDI-NmLjTcQ047vLC8lOAsp0=s64",
      "userId": "17475338800285129425"
     },
     "user_tz": -330
    },
    "id": "2c22a622",
    "scrolled": true
   },
   "outputs": [],
   "source": [
    "fit1 = Holt(air_quality).fit()    #Assuming linear trend\n",
    "\n",
    "fit2 = Holt(air_quality, exponential=True).fit()    #Assuming exponential trend"
   ]
  },
  {
   "cell_type": "code",
   "execution_count": null,
   "id": "0c85ac8d",
   "metadata": {
    "executionInfo": {
     "elapsed": 699,
     "status": "aborted",
     "timestamp": 1642166200036,
     "user": {
      "displayName": "Pustode Ayush",
      "photoUrl": "https://lh3.googleusercontent.com/a-/AOh14GiJlrCGz-UuexLNV8mFDI-NmLjTcQ047vLC8lOAsp0=s64",
      "userId": "17475338800285129425"
     },
     "user_tz": -330
    },
    "id": "0c85ac8d",
    "scrolled": true
   },
   "outputs": [],
   "source": [
    "plt.plot(air_quality, color = 'blue')\n",
    "plt.xticks(rotation=30)\n",
    " \n",
    "plt.plot(fit1.fittedvalues, color = 'red')\n",
    "\n",
    "plt.plot(fit2.fittedvalues, color = 'green')"
   ]
  },
  {
   "cell_type": "markdown",
   "id": "cec1209e",
   "metadata": {
    "id": "cec1209e"
   },
   "source": [
    "### Comparison of Exponential and Holt's Methods of Forecasting"
   ]
  },
  {
   "cell_type": "code",
   "execution_count": null,
   "id": "fd430cac",
   "metadata": {
    "executionInfo": {
     "elapsed": 700,
     "status": "aborted",
     "timestamp": 1642166200037,
     "user": {
      "displayName": "Pustode Ayush",
      "photoUrl": "https://lh3.googleusercontent.com/a-/AOh14GiJlrCGz-UuexLNV8mFDI-NmLjTcQ047vLC8lOAsp0=s64",
      "userId": "17475338800285129425"
     },
     "user_tz": -330
    },
    "id": "fd430cac",
    "scrolled": true
   },
   "outputs": [],
   "source": [
    "fit1 = SimpleExpSmoothing(air_quality, initialization_method=\"estimated\").fit()\n",
    "fcast1 = fit1.forecast(30).rename(\"SES\")\n",
    "\n",
    "fit2 = Holt(air_quality, initialization_method=\"estimated\").fit()\n",
    "fcast2 = fit2.forecast(30).rename(\"Holt's\")\n",
    "\n",
    "fit3 = Holt(air_quality, exponential=True, initialization_method=\"estimated\").fit()\n",
    "fcast3 = fit3.forecast(30).rename(\"Exponential\")\n",
    "\n",
    "fit4 = Holt(air_quality, damped_trend=True, initialization_method=\"estimated\").fit(damping_trend=0.98)\n",
    "fcast4 = fit4.forecast(30).rename(\"Additive Damped\")\n",
    "\n",
    "fit5 = Holt(air_quality, exponential=True, damped_trend=True, initialization_method=\"estimated\").fit()\n",
    "fcast5 = fit5.forecast(30).rename(\"Multiplicative Damped\")\n",
    "\n",
    "ax = air_quality.plot(color=\"black\", figsize=(18, 8))\n",
    "air_quality.plot(ax=ax, color=\"black\", legend=False)\n",
    "fcast1.plot(ax=ax, color=\"red\", legend=True)\n",
    "fcast2.plot(ax=ax, color=\"green\", legend=True)\n",
    "fcast3.plot(ax=ax, color=\"blue\", legend=True)\n",
    "fcast4.plot(ax=ax, color=\"cyan\", legend=True)\n",
    "fcast5.plot(ax=ax, color=\"magenta\", legend=True)\n",
    "ax.set_ylabel(\"CO2 Emission\")\n",
    "plt.show()\n"
   ]
  },
  {
   "cell_type": "code",
   "execution_count": null,
   "id": "9203ec31",
   "metadata": {
    "executionInfo": {
     "elapsed": 700,
     "status": "aborted",
     "timestamp": 1642166200037,
     "user": {
      "displayName": "Pustode Ayush",
      "photoUrl": "https://lh3.googleusercontent.com/a-/AOh14GiJlrCGz-UuexLNV8mFDI-NmLjTcQ047vLC8lOAsp0=s64",
      "userId": "17475338800285129425"
     },
     "user_tz": -330
    },
    "id": "9203ec31",
    "scrolled": true
   },
   "outputs": [],
   "source": [
    "a = fcast1.mean()\n",
    "b = fcast2.mean()\n",
    "c = fcast3.mean()\n",
    "d = fcast4.mean()\n",
    "e = fcast5.mean()"
   ]
  },
  {
   "cell_type": "code",
   "execution_count": null,
   "id": "3e7dda53",
   "metadata": {
    "executionInfo": {
     "elapsed": 699,
     "status": "aborted",
     "timestamp": 1642166200037,
     "user": {
      "displayName": "Pustode Ayush",
      "photoUrl": "https://lh3.googleusercontent.com/a-/AOh14GiJlrCGz-UuexLNV8mFDI-NmLjTcQ047vLC8lOAsp0=s64",
      "userId": "17475338800285129425"
     },
     "user_tz": -330
    },
    "id": "3e7dda53",
    "scrolled": true
   },
   "outputs": [],
   "source": [
    "data = {\"Smoothing Methods\":pd.Series([\"Simple Exponential\",\"Holt's\",\"Holt's Exponential\",\"Holt's Additive Damped\",\"Holt's Multiplicative Damped\"]),\"Average Emission(for next 30 yr)\":pd.Series([a,b,c,d,e])}\n",
    "table_smooth=pd.DataFrame(data)\n",
    "table_smooth"
   ]
  },
  {
   "cell_type": "markdown",
   "id": "87e3cd6a",
   "metadata": {
    "id": "87e3cd6a"
   },
   "source": [
    "### Seasoal decomposition and ADF Test"
   ]
  },
  {
   "cell_type": "code",
   "execution_count": null,
   "id": "732c0487",
   "metadata": {
    "executionInfo": {
     "elapsed": 699,
     "status": "aborted",
     "timestamp": 1642166200037,
     "user": {
      "displayName": "Pustode Ayush",
      "photoUrl": "https://lh3.googleusercontent.com/a-/AOh14GiJlrCGz-UuexLNV8mFDI-NmLjTcQ047vLC8lOAsp0=s64",
      "userId": "17475338800285129425"
     },
     "user_tz": -330
    },
    "id": "732c0487",
    "scrolled": true
   },
   "outputs": [],
   "source": [
    "#import seasonal decomposition package library from statsmodels\n",
    "from statsmodels.tsa.seasonal import seasonal_decompose\n",
    "from statsmodels.tsa.stattools import adfuller"
   ]
  },
  {
   "cell_type": "code",
   "execution_count": null,
   "id": "8360e2c0",
   "metadata": {
    "executionInfo": {
     "elapsed": 699,
     "status": "aborted",
     "timestamp": 1642166200037,
     "user": {
      "displayName": "Pustode Ayush",
      "photoUrl": "https://lh3.googleusercontent.com/a-/AOh14GiJlrCGz-UuexLNV8mFDI-NmLjTcQ047vLC8lOAsp0=s64",
      "userId": "17475338800285129425"
     },
     "user_tz": -330
    },
    "id": "8360e2c0",
    "scrolled": true
   },
   "outputs": [],
   "source": [
    "test_result = adfuller(air_quality['CO2'])"
   ]
  },
  {
   "cell_type": "code",
   "execution_count": null,
   "id": "de9e4344",
   "metadata": {
    "executionInfo": {
     "elapsed": 700,
     "status": "aborted",
     "timestamp": 1642166200038,
     "user": {
      "displayName": "Pustode Ayush",
      "photoUrl": "https://lh3.googleusercontent.com/a-/AOh14GiJlrCGz-UuexLNV8mFDI-NmLjTcQ047vLC8lOAsp0=s64",
      "userId": "17475338800285129425"
     },
     "user_tz": -330
    },
    "id": "de9e4344",
    "scrolled": true
   },
   "outputs": [],
   "source": [
    "# check for stationarity of data using dicky fuller test\n",
    "\n",
    "# Ho : It is non-stationary (Null hypothesis)\n",
    "# H1 : It is stationary  (Alternative hypothesis)\n",
    "\n",
    "def adfuller_test(emission):\n",
    "    result = adfuller(emission)\n",
    "    labels =  ['ADF test statistic', 'p value', '#Lags used','No. of observations used']\n",
    "    for value, label in zip(result,labels):\n",
    "        print(label+':'+str(value))\n",
    "    if result[1] <= 0.05 :\n",
    "        print('Strong evidence against null hypothesis, data is stationary')\n",
    "    else:\n",
    "        print('Weak evidence against null hypothesis, data is non-stationary')\n",
    "        "
   ]
  },
  {
   "cell_type": "code",
   "execution_count": null,
   "id": "90413c72",
   "metadata": {
    "executionInfo": {
     "elapsed": 700,
     "status": "aborted",
     "timestamp": 1642166200038,
     "user": {
      "displayName": "Pustode Ayush",
      "photoUrl": "https://lh3.googleusercontent.com/a-/AOh14GiJlrCGz-UuexLNV8mFDI-NmLjTcQ047vLC8lOAsp0=s64",
      "userId": "17475338800285129425"
     },
     "user_tz": -330
    },
    "id": "90413c72",
    "scrolled": false
   },
   "outputs": [],
   "source": [
    "adfuller_test(air_quality.CO2)"
   ]
  },
  {
   "cell_type": "markdown",
   "id": "9f34b0de",
   "metadata": {
    "id": "9f34b0de"
   },
   "source": [
    "#### So here we can see the data is non-stationary, we have to make it stationary"
   ]
  },
  {
   "cell_type": "code",
   "execution_count": null,
   "id": "670160d2",
   "metadata": {
    "executionInfo": {
     "elapsed": 700,
     "status": "aborted",
     "timestamp": 1642166200038,
     "user": {
      "displayName": "Pustode Ayush",
      "photoUrl": "https://lh3.googleusercontent.com/a-/AOh14GiJlrCGz-UuexLNV8mFDI-NmLjTcQ047vLC8lOAsp0=s64",
      "userId": "17475338800285129425"
     },
     "user_tz": -330
    },
    "id": "670160d2",
    "scrolled": true
   },
   "outputs": [],
   "source": [
    "df_mul_decompose = seasonal_decompose(air_quality, period=50 )\n",
    "df_mul_decompose.plot()\n",
    "plt.show()"
   ]
  },
  {
   "cell_type": "markdown",
   "id": "b4edbba4",
   "metadata": {
    "id": "b4edbba4"
   },
   "source": [
    "### Rolling Statistics Test"
   ]
  },
  {
   "cell_type": "code",
   "execution_count": null,
   "id": "01d835ff",
   "metadata": {
    "executionInfo": {
     "elapsed": 699,
     "status": "aborted",
     "timestamp": 1642166200038,
     "user": {
      "displayName": "Pustode Ayush",
      "photoUrl": "https://lh3.googleusercontent.com/a-/AOh14GiJlrCGz-UuexLNV8mFDI-NmLjTcQ047vLC8lOAsp0=s64",
      "userId": "17475338800285129425"
     },
     "user_tz": -330
    },
    "id": "01d835ff",
    "scrolled": true
   },
   "outputs": [],
   "source": [
    "rmean=air_quality.rolling(window=12).mean()\n",
    "rstd=air_quality.rolling(window=12).std()\n",
    "print(rmean,rstd)\n",
    "orig=plt.plot(air_quality , color='black',label='Original')\n",
    "mean= plt.plot(rmean , color='red',label='Rolling Mean')\n",
    "std=plt.plot(rstd,color='blue',label = 'Rolling Standard Deviation')\n",
    "plt.legend(loc='best')\n",
    "plt.title(\"Rolling mean and standard deviation\")\n",
    "plt.show(block=False)"
   ]
  },
  {
   "cell_type": "markdown",
   "id": "ce168c26",
   "metadata": {
    "id": "ce168c26"
   },
   "source": [
    "### Autocorrelation using ACF and PACF"
   ]
  },
  {
   "cell_type": "code",
   "execution_count": null,
   "id": "2cf0b357",
   "metadata": {
    "executionInfo": {
     "elapsed": 699,
     "status": "aborted",
     "timestamp": 1642166200038,
     "user": {
      "displayName": "Pustode Ayush",
      "photoUrl": "https://lh3.googleusercontent.com/a-/AOh14GiJlrCGz-UuexLNV8mFDI-NmLjTcQ047vLC8lOAsp0=s64",
      "userId": "17475338800285129425"
     },
     "user_tz": -330
    },
    "id": "2cf0b357",
    "scrolled": true
   },
   "outputs": [],
   "source": [
    "import numpy as np\n",
    "from pandas.plotting import autocorrelation_plot\n",
    "from statsmodels.tsa.stattools import acf, pacf\n",
    "from statsmodels.graphics.tsaplots import plot_acf, plot_pacf\n",
    "from matplotlib import rcParams\n",
    "from cycler import cycler"
   ]
  },
  {
   "cell_type": "code",
   "execution_count": null,
   "id": "1b9c5573",
   "metadata": {
    "executionInfo": {
     "elapsed": 700,
     "status": "aborted",
     "timestamp": 1642166200039,
     "user": {
      "displayName": "Pustode Ayush",
      "photoUrl": "https://lh3.googleusercontent.com/a-/AOh14GiJlrCGz-UuexLNV8mFDI-NmLjTcQ047vLC8lOAsp0=s64",
      "userId": "17475338800285129425"
     },
     "user_tz": -330
    },
    "id": "1b9c5573",
    "scrolled": true
   },
   "outputs": [],
   "source": [
    "autocorrelation_plot(air_quality)\n",
    "plt.show()"
   ]
  },
  {
   "cell_type": "markdown",
   "id": "6ff0de95",
   "metadata": {
    "id": "6ff0de95"
   },
   "source": [
    "#### ACF"
   ]
  },
  {
   "cell_type": "code",
   "execution_count": null,
   "id": "f730d48c",
   "metadata": {
    "executionInfo": {
     "elapsed": 700,
     "status": "aborted",
     "timestamp": 1642166200039,
     "user": {
      "displayName": "Pustode Ayush",
      "photoUrl": "https://lh3.googleusercontent.com/a-/AOh14GiJlrCGz-UuexLNV8mFDI-NmLjTcQ047vLC8lOAsp0=s64",
      "userId": "17475338800285129425"
     },
     "user_tz": -330
    },
    "id": "f730d48c",
    "scrolled": true
   },
   "outputs": [],
   "source": [
    "# Calculate autocorrelation\n",
    "acf_values = acf(air_quality['CO2'])"
   ]
  },
  {
   "cell_type": "code",
   "execution_count": null,
   "id": "fc433276",
   "metadata": {
    "executionInfo": {
     "elapsed": 700,
     "status": "aborted",
     "timestamp": 1642166200039,
     "user": {
      "displayName": "Pustode Ayush",
      "photoUrl": "https://lh3.googleusercontent.com/a-/AOh14GiJlrCGz-UuexLNV8mFDI-NmLjTcQ047vLC8lOAsp0=s64",
      "userId": "17475338800285129425"
     },
     "user_tz": -330
    },
    "id": "fc433276",
    "scrolled": true
   },
   "outputs": [],
   "source": [
    "# ACF values\n",
    "np.round(acf_values,2)"
   ]
  },
  {
   "cell_type": "code",
   "execution_count": null,
   "id": "9969b76c",
   "metadata": {
    "executionInfo": {
     "elapsed": 700,
     "status": "aborted",
     "timestamp": 1642166200039,
     "user": {
      "displayName": "Pustode Ayush",
      "photoUrl": "https://lh3.googleusercontent.com/a-/AOh14GiJlrCGz-UuexLNV8mFDI-NmLjTcQ047vLC8lOAsp0=s64",
      "userId": "17475338800285129425"
     },
     "user_tz": -330
    },
    "id": "9969b76c",
    "scrolled": true
   },
   "outputs": [],
   "source": [
    "# Plot autocorrelation\n",
    "plot_acf(air_quality['CO2'], lags=30);"
   ]
  },
  {
   "cell_type": "markdown",
   "id": "34964e9b",
   "metadata": {
    "id": "34964e9b"
   },
   "source": [
    "We can see here ACF shows strong positive statistical significance correlation at upto 30 lags that doesn't decay to zero this suggests that the series is non-stationary."
   ]
  },
  {
   "cell_type": "markdown",
   "id": "c74d6b7d",
   "metadata": {
    "id": "c74d6b7d"
   },
   "source": [
    "#### PACF"
   ]
  },
  {
   "cell_type": "code",
   "execution_count": null,
   "id": "47d82e6e",
   "metadata": {
    "executionInfo": {
     "elapsed": 700,
     "status": "aborted",
     "timestamp": 1642166200039,
     "user": {
      "displayName": "Pustode Ayush",
      "photoUrl": "https://lh3.googleusercontent.com/a-/AOh14GiJlrCGz-UuexLNV8mFDI-NmLjTcQ047vLC8lOAsp0=s64",
      "userId": "17475338800285129425"
     },
     "user_tz": -330
    },
    "id": "47d82e6e",
    "scrolled": true
   },
   "outputs": [],
   "source": [
    "# Calculate partial autocorrelation\n",
    "pacf_values = pacf(air_quality['CO2'])"
   ]
  },
  {
   "cell_type": "code",
   "execution_count": null,
   "id": "6d4ef3be",
   "metadata": {
    "executionInfo": {
     "elapsed": 700,
     "status": "aborted",
     "timestamp": 1642166200040,
     "user": {
      "displayName": "Pustode Ayush",
      "photoUrl": "https://lh3.googleusercontent.com/a-/AOh14GiJlrCGz-UuexLNV8mFDI-NmLjTcQ047vLC8lOAsp0=s64",
      "userId": "17475338800285129425"
     },
     "user_tz": -330
    },
    "id": "6d4ef3be",
    "scrolled": true
   },
   "outputs": [],
   "source": [
    "# PACF values\n",
    "np.round(pacf_values,2)"
   ]
  },
  {
   "cell_type": "code",
   "execution_count": null,
   "id": "afbf7e8a",
   "metadata": {
    "executionInfo": {
     "elapsed": 700,
     "status": "aborted",
     "timestamp": 1642166200040,
     "user": {
      "displayName": "Pustode Ayush",
      "photoUrl": "https://lh3.googleusercontent.com/a-/AOh14GiJlrCGz-UuexLNV8mFDI-NmLjTcQ047vLC8lOAsp0=s64",
      "userId": "17475338800285129425"
     },
     "user_tz": -330
    },
    "id": "afbf7e8a",
    "scrolled": true
   },
   "outputs": [],
   "source": [
    "# Plot partial autocorrelation\n",
    "plot_pacf(air_quality['CO2'], lags=30);"
   ]
  },
  {
   "cell_type": "markdown",
   "id": "c72a1cad",
   "metadata": {
    "id": "c72a1cad"
   },
   "source": [
    "We can see 3-4 lags are exceeding the positive as well as negative threshold area while remaining lags are bounce around between being positive and negative inside the threshold"
   ]
  },
  {
   "cell_type": "code",
   "execution_count": null,
   "id": "ac835a40",
   "metadata": {
    "executionInfo": {
     "elapsed": 700,
     "status": "aborted",
     "timestamp": 1642166200040,
     "user": {
      "displayName": "Pustode Ayush",
      "photoUrl": "https://lh3.googleusercontent.com/a-/AOh14GiJlrCGz-UuexLNV8mFDI-NmLjTcQ047vLC8lOAsp0=s64",
      "userId": "17475338800285129425"
     },
     "user_tz": -330
    },
    "id": "ac835a40",
    "scrolled": false
   },
   "outputs": [],
   "source": [
    "air_quality.agg(['skew', 'kurtosis']).transpose()"
   ]
  },
  {
   "cell_type": "code",
   "execution_count": null,
   "id": "b526e616",
   "metadata": {
    "executionInfo": {
     "elapsed": 700,
     "status": "aborted",
     "timestamp": 1642166200040,
     "user": {
      "displayName": "Pustode Ayush",
      "photoUrl": "https://lh3.googleusercontent.com/a-/AOh14GiJlrCGz-UuexLNV8mFDI-NmLjTcQ047vLC8lOAsp0=s64",
      "userId": "17475338800285129425"
     },
     "user_tz": -330
    },
    "id": "b526e616",
    "scrolled": true
   },
   "outputs": [],
   "source": [
    "# air_quality.hist(grid=False,\n",
    "#        figsize=(8, 4),\n",
    "#        bins=30)"
   ]
  },
  {
   "cell_type": "markdown",
   "id": "87332989",
   "metadata": {
    "id": "87332989"
   },
   "source": [
    "### Transformations"
   ]
  },
  {
   "cell_type": "code",
   "execution_count": null,
   "id": "537576f3",
   "metadata": {
    "executionInfo": {
     "elapsed": 700,
     "status": "aborted",
     "timestamp": 1642166200040,
     "user": {
      "displayName": "Pustode Ayush",
      "photoUrl": "https://lh3.googleusercontent.com/a-/AOh14GiJlrCGz-UuexLNV8mFDI-NmLjTcQ047vLC8lOAsp0=s64",
      "userId": "17475338800285129425"
     },
     "user_tz": -330
    },
    "id": "537576f3",
    "scrolled": true
   },
   "outputs": [],
   "source": [
    "import numpy as np\n",
    "import pylab\n",
    "import scipy.stats as stat"
   ]
  },
  {
   "cell_type": "markdown",
   "id": "51320ec0",
   "metadata": {
    "id": "51320ec0"
   },
   "source": [
    "#### Normal/Gaussian Transformation"
   ]
  },
  {
   "cell_type": "code",
   "execution_count": null,
   "id": "1b27ab8a",
   "metadata": {
    "executionInfo": {
     "elapsed": 701,
     "status": "aborted",
     "timestamp": 1642166200041,
     "user": {
      "displayName": "Pustode Ayush",
      "photoUrl": "https://lh3.googleusercontent.com/a-/AOh14GiJlrCGz-UuexLNV8mFDI-NmLjTcQ047vLC8lOAsp0=s64",
      "userId": "17475338800285129425"
     },
     "user_tz": -330
    },
    "id": "1b27ab8a",
    "scrolled": true
   },
   "outputs": [],
   "source": [
    "def plot_data(air_quality,feature):\n",
    "    plt.figure(figsize=(8,4))\n",
    "    plt.subplot(1,2,1)\n",
    "    air_quality[feature].hist()\n",
    "    plt.subplot(1,2,2)\n",
    "    stat.probplot(air_quality[feature],dist='norm',plot=pylab)\n",
    "    plt.show()\n",
    "   "
   ]
  },
  {
   "cell_type": "code",
   "execution_count": null,
   "id": "894a17f7",
   "metadata": {
    "executionInfo": {
     "elapsed": 700,
     "status": "aborted",
     "timestamp": 1642166200041,
     "user": {
      "displayName": "Pustode Ayush",
      "photoUrl": "https://lh3.googleusercontent.com/a-/AOh14GiJlrCGz-UuexLNV8mFDI-NmLjTcQ047vLC8lOAsp0=s64",
      "userId": "17475338800285129425"
     },
     "user_tz": -330
    },
    "id": "894a17f7",
    "scrolled": true
   },
   "outputs": [],
   "source": [
    "plot_data(air_quality,'CO2')"
   ]
  },
  {
   "cell_type": "code",
   "execution_count": null,
   "id": "90752dfc",
   "metadata": {
    "executionInfo": {
     "elapsed": 700,
     "status": "aborted",
     "timestamp": 1642166200041,
     "user": {
      "displayName": "Pustode Ayush",
      "photoUrl": "https://lh3.googleusercontent.com/a-/AOh14GiJlrCGz-UuexLNV8mFDI-NmLjTcQ047vLC8lOAsp0=s64",
      "userId": "17475338800285129425"
     },
     "user_tz": -330
    },
    "id": "90752dfc",
    "scrolled": true
   },
   "outputs": [],
   "source": [
    "anorm = air_quality['CO2'].mean()"
   ]
  },
  {
   "cell_type": "markdown",
   "id": "e0c854b7",
   "metadata": {
    "id": "e0c854b7"
   },
   "source": [
    "#### Square Root Transformation"
   ]
  },
  {
   "cell_type": "code",
   "execution_count": null,
   "id": "a724bd3f",
   "metadata": {
    "executionInfo": {
     "elapsed": 700,
     "status": "aborted",
     "timestamp": 1642166200041,
     "user": {
      "displayName": "Pustode Ayush",
      "photoUrl": "https://lh3.googleusercontent.com/a-/AOh14GiJlrCGz-UuexLNV8mFDI-NmLjTcQ047vLC8lOAsp0=s64",
      "userId": "17475338800285129425"
     },
     "user_tz": -330
    },
    "id": "a724bd3f",
    "scrolled": true
   },
   "outputs": [],
   "source": [
    "air_quality['CO2_square']=air_quality.CO2**(1/2)\n",
    "plot_data(air_quality,'CO2_square')"
   ]
  },
  {
   "cell_type": "code",
   "execution_count": null,
   "id": "cf8099f7",
   "metadata": {
    "executionInfo": {
     "elapsed": 700,
     "status": "aborted",
     "timestamp": 1642166200041,
     "user": {
      "displayName": "Pustode Ayush",
      "photoUrl": "https://lh3.googleusercontent.com/a-/AOh14GiJlrCGz-UuexLNV8mFDI-NmLjTcQ047vLC8lOAsp0=s64",
      "userId": "17475338800285129425"
     },
     "user_tz": -330
    },
    "id": "cf8099f7",
    "scrolled": true
   },
   "outputs": [],
   "source": [
    "asquare = air_quality['CO2_square'].mean()"
   ]
  },
  {
   "cell_type": "markdown",
   "id": "4838a7c8",
   "metadata": {
    "id": "4838a7c8"
   },
   "source": [
    "#### Log Transformation"
   ]
  },
  {
   "cell_type": "code",
   "execution_count": null,
   "id": "b9577a8e",
   "metadata": {
    "executionInfo": {
     "elapsed": 701,
     "status": "aborted",
     "timestamp": 1642166200042,
     "user": {
      "displayName": "Pustode Ayush",
      "photoUrl": "https://lh3.googleusercontent.com/a-/AOh14GiJlrCGz-UuexLNV8mFDI-NmLjTcQ047vLC8lOAsp0=s64",
      "userId": "17475338800285129425"
     },
     "user_tz": -330
    },
    "id": "b9577a8e",
    "scrolled": true
   },
   "outputs": [],
   "source": [
    "air_quality['CO2_log']=np.log(air_quality['CO2'])\n",
    "plot_data(air_quality,'CO2_log')\n"
   ]
  },
  {
   "cell_type": "code",
   "execution_count": null,
   "id": "9833967d",
   "metadata": {
    "executionInfo": {
     "elapsed": 700,
     "status": "aborted",
     "timestamp": 1642166200042,
     "user": {
      "displayName": "Pustode Ayush",
      "photoUrl": "https://lh3.googleusercontent.com/a-/AOh14GiJlrCGz-UuexLNV8mFDI-NmLjTcQ047vLC8lOAsp0=s64",
      "userId": "17475338800285129425"
     },
     "user_tz": -330
    },
    "id": "9833967d",
    "scrolled": true
   },
   "outputs": [],
   "source": [
    "alog = air_quality['CO2_log'].mean()"
   ]
  },
  {
   "cell_type": "markdown",
   "id": "e298eca5",
   "metadata": {
    "id": "e298eca5"
   },
   "source": [
    "#### Exponential Transformation"
   ]
  },
  {
   "cell_type": "code",
   "execution_count": null,
   "id": "0cba47ca",
   "metadata": {
    "executionInfo": {
     "elapsed": 700,
     "status": "aborted",
     "timestamp": 1642166200042,
     "user": {
      "displayName": "Pustode Ayush",
      "photoUrl": "https://lh3.googleusercontent.com/a-/AOh14GiJlrCGz-UuexLNV8mFDI-NmLjTcQ047vLC8lOAsp0=s64",
      "userId": "17475338800285129425"
     },
     "user_tz": -330
    },
    "id": "0cba47ca",
    "scrolled": true
   },
   "outputs": [],
   "source": [
    "air_quality['CO2_exponential']=air_quality.CO2**(1/1.2)\n",
    "plot_data(air_quality,'CO2_exponential')\n"
   ]
  },
  {
   "cell_type": "code",
   "execution_count": null,
   "id": "ac33f216",
   "metadata": {
    "executionInfo": {
     "elapsed": 700,
     "status": "aborted",
     "timestamp": 1642166200042,
     "user": {
      "displayName": "Pustode Ayush",
      "photoUrl": "https://lh3.googleusercontent.com/a-/AOh14GiJlrCGz-UuexLNV8mFDI-NmLjTcQ047vLC8lOAsp0=s64",
      "userId": "17475338800285129425"
     },
     "user_tz": -330
    },
    "id": "ac33f216",
    "scrolled": true
   },
   "outputs": [],
   "source": [
    "aexp = air_quality['CO2_exponential'].mean()"
   ]
  },
  {
   "cell_type": "markdown",
   "id": "8c89c358",
   "metadata": {
    "id": "8c89c358"
   },
   "source": [
    "### Box Cox Transformation"
   ]
  },
  {
   "cell_type": "code",
   "execution_count": null,
   "id": "bbd8f66c",
   "metadata": {
    "executionInfo": {
     "elapsed": 701,
     "status": "aborted",
     "timestamp": 1642166200043,
     "user": {
      "displayName": "Pustode Ayush",
      "photoUrl": "https://lh3.googleusercontent.com/a-/AOh14GiJlrCGz-UuexLNV8mFDI-NmLjTcQ047vLC8lOAsp0=s64",
      "userId": "17475338800285129425"
     },
     "user_tz": -330
    },
    "id": "bbd8f66c",
    "scrolled": true
   },
   "outputs": [],
   "source": [
    "air_quality['CO2_boxcox'],parameters=stat.boxcox(air_quality['CO2'])"
   ]
  },
  {
   "cell_type": "code",
   "execution_count": null,
   "id": "6168eaa3",
   "metadata": {
    "executionInfo": {
     "elapsed": 701,
     "status": "aborted",
     "timestamp": 1642166200043,
     "user": {
      "displayName": "Pustode Ayush",
      "photoUrl": "https://lh3.googleusercontent.com/a-/AOh14GiJlrCGz-UuexLNV8mFDI-NmLjTcQ047vLC8lOAsp0=s64",
      "userId": "17475338800285129425"
     },
     "user_tz": -330
    },
    "id": "6168eaa3",
    "scrolled": true
   },
   "outputs": [],
   "source": [
    "plot_data(air_quality,'CO2_boxcox')"
   ]
  },
  {
   "cell_type": "code",
   "execution_count": null,
   "id": "0f6158a7",
   "metadata": {
    "executionInfo": {
     "elapsed": 701,
     "status": "aborted",
     "timestamp": 1642166200044,
     "user": {
      "displayName": "Pustode Ayush",
      "photoUrl": "https://lh3.googleusercontent.com/a-/AOh14GiJlrCGz-UuexLNV8mFDI-NmLjTcQ047vLC8lOAsp0=s64",
      "userId": "17475338800285129425"
     },
     "user_tz": -330
    },
    "id": "0f6158a7",
    "scrolled": true
   },
   "outputs": [],
   "source": [
    "abox = air_quality['CO2_boxcox'].mean()"
   ]
  },
  {
   "cell_type": "code",
   "execution_count": null,
   "id": "a54c1f17",
   "metadata": {
    "executionInfo": {
     "elapsed": 701,
     "status": "aborted",
     "timestamp": 1642166200044,
     "user": {
      "displayName": "Pustode Ayush",
      "photoUrl": "https://lh3.googleusercontent.com/a-/AOh14GiJlrCGz-UuexLNV8mFDI-NmLjTcQ047vLC8lOAsp0=s64",
      "userId": "17475338800285129425"
     },
     "user_tz": -330
    },
    "id": "a54c1f17",
    "scrolled": false
   },
   "outputs": [],
   "source": [
    "data = {\"Transformation\":pd.Series([\"Normal/Gaussian\",\"Square Root\",\"Logarithmic\",\"Exponential\",\"Box-Cox\"]),\"Average Transformed Value of CO2\":pd.Series([anorm,asquare,alog,aexp,abox])}\n",
    "table_transform=pd.DataFrame(data)\n",
    "table_transform"
   ]
  },
  {
   "cell_type": "markdown",
   "id": "e57d623e",
   "metadata": {
    "id": "e57d623e"
   },
   "source": [
    "# Model Building"
   ]
  },
  {
   "cell_type": "markdown",
   "id": "2517c89c",
   "metadata": {
    "id": "2517c89c"
   },
   "source": [
    "### Splitting Data"
   ]
  },
  {
   "cell_type": "code",
   "execution_count": null,
   "id": "927d1b06",
   "metadata": {
    "executionInfo": {
     "elapsed": 702,
     "status": "aborted",
     "timestamp": 1642166200045,
     "user": {
      "displayName": "Pustode Ayush",
      "photoUrl": "https://lh3.googleusercontent.com/a-/AOh14GiJlrCGz-UuexLNV8mFDI-NmLjTcQ047vLC8lOAsp0=s64",
      "userId": "17475338800285129425"
     },
     "user_tz": -330
    },
    "id": "927d1b06",
    "scrolled": true
   },
   "outputs": [],
   "source": [
    "air_quality = pd.read_excel(\"CO2.xlsx\")   #importing the dataset"
   ]
  },
  {
   "cell_type": "code",
   "execution_count": null,
   "id": "2f29c2d0",
   "metadata": {
    "executionInfo": {
     "elapsed": 701,
     "status": "aborted",
     "timestamp": 1642166200045,
     "user": {
      "displayName": "Pustode Ayush",
      "photoUrl": "https://lh3.googleusercontent.com/a-/AOh14GiJlrCGz-UuexLNV8mFDI-NmLjTcQ047vLC8lOAsp0=s64",
      "userId": "17475338800285129425"
     },
     "user_tz": -330
    },
    "id": "2f29c2d0",
    "scrolled": true
   },
   "outputs": [],
   "source": [
    "air_quality['CO2_square']=air_quality.CO2**(1/12)\n",
    "air_quality\n"
   ]
  },
  {
   "cell_type": "code",
   "execution_count": null,
   "id": "41ac959f",
   "metadata": {
    "executionInfo": {
     "elapsed": 701,
     "status": "aborted",
     "timestamp": 1642166200045,
     "user": {
      "displayName": "Pustode Ayush",
      "photoUrl": "https://lh3.googleusercontent.com/a-/AOh14GiJlrCGz-UuexLNV8mFDI-NmLjTcQ047vLC8lOAsp0=s64",
      "userId": "17475338800285129425"
     },
     "user_tz": -330
    },
    "id": "41ac959f",
    "scrolled": true
   },
   "outputs": [],
   "source": [
    "Train = air_quality.head(150)\n",
    "Test =  air_quality.tail(65)"
   ]
  },
  {
   "cell_type": "markdown",
   "id": "3a827d3d",
   "metadata": {
    "id": "3a827d3d"
   },
   "source": [
    "### Evaluation Metric MAPE"
   ]
  },
  {
   "cell_type": "code",
   "execution_count": null,
   "id": "19c230cb",
   "metadata": {
    "executionInfo": {
     "elapsed": 701,
     "status": "aborted",
     "timestamp": 1642166200045,
     "user": {
      "displayName": "Pustode Ayush",
      "photoUrl": "https://lh3.googleusercontent.com/a-/AOh14GiJlrCGz-UuexLNV8mFDI-NmLjTcQ047vLC8lOAsp0=s64",
      "userId": "17475338800285129425"
     },
     "user_tz": -330
    },
    "id": "19c230cb",
    "scrolled": true
   },
   "outputs": [],
   "source": [
    "def MAPE(pred,org):\n",
    "    temp = np.abs((pred-org)/org)*100\n",
    "    return np.mean(temp)"
   ]
  },
  {
   "cell_type": "markdown",
   "id": "a86306ed",
   "metadata": {
    "id": "a86306ed"
   },
   "source": [
    "### Simple Exponential Method"
   ]
  },
  {
   "cell_type": "code",
   "execution_count": null,
   "id": "e487452a",
   "metadata": {
    "executionInfo": {
     "elapsed": 702,
     "status": "aborted",
     "timestamp": 1642166200046,
     "user": {
      "displayName": "Pustode Ayush",
      "photoUrl": "https://lh3.googleusercontent.com/a-/AOh14GiJlrCGz-UuexLNV8mFDI-NmLjTcQ047vLC8lOAsp0=s64",
      "userId": "17475338800285129425"
     },
     "user_tz": -330
    },
    "id": "e487452a",
    "scrolled": true
   },
   "outputs": [],
   "source": [
    "ses_model = SimpleExpSmoothing(Train.CO2).fit(smoothing_level=0.2)\n",
    "pred_ses = ses_model.predict(start = Test.index[0],end = Test.index[-1])\n",
    "MAPE(pred_ses,Test.CO2) \n"
   ]
  },
  {
   "cell_type": "markdown",
   "id": "03573e13",
   "metadata": {
    "id": "03573e13"
   },
   "source": [
    "### Holt method "
   ]
  },
  {
   "cell_type": "code",
   "execution_count": null,
   "id": "22a2b43a",
   "metadata": {
    "executionInfo": {
     "elapsed": 702,
     "status": "aborted",
     "timestamp": 1642166200046,
     "user": {
      "displayName": "Pustode Ayush",
      "photoUrl": "https://lh3.googleusercontent.com/a-/AOh14GiJlrCGz-UuexLNV8mFDI-NmLjTcQ047vLC8lOAsp0=s64",
      "userId": "17475338800285129425"
     },
     "user_tz": -330
    },
    "id": "22a2b43a",
    "scrolled": true
   },
   "outputs": [],
   "source": [
    "# Holt method \n",
    "hw_model = Holt(Train[\"CO2\"]).fit(smoothing_level=0.8, smoothing_slope=0.2)\n",
    "pred_hw = hw_model.predict(start = Test.index[0],end = Test.index[-1])\n",
    "MAPE(pred_hw,Test.CO2) "
   ]
  },
  {
   "cell_type": "markdown",
   "id": "fc7235ab",
   "metadata": {
    "id": "fc7235ab"
   },
   "source": [
    "### Holts winter exponential smoothing with additive seasonality and additive trend"
   ]
  },
  {
   "cell_type": "code",
   "execution_count": null,
   "id": "ec8b2c6b",
   "metadata": {
    "executionInfo": {
     "elapsed": 702,
     "status": "aborted",
     "timestamp": 1642166200046,
     "user": {
      "displayName": "Pustode Ayush",
      "photoUrl": "https://lh3.googleusercontent.com/a-/AOh14GiJlrCGz-UuexLNV8mFDI-NmLjTcQ047vLC8lOAsp0=s64",
      "userId": "17475338800285129425"
     },
     "user_tz": -330
    },
    "id": "ec8b2c6b",
    "scrolled": true
   },
   "outputs": [],
   "source": [
    "hwe_model_add_add = ExponentialSmoothing(Train[\"CO2\"],seasonal=\"add\",trend=\"add\",seasonal_periods=12).fit() #add the trend to the model\n",
    "pred_hwe_add_add = hwe_model_add_add.predict(start = Test.index[0],end = Test.index[-1])\n",
    "MAPE(pred_hwe_add_add,Test.CO2) "
   ]
  },
  {
   "cell_type": "markdown",
   "id": "b9165ffd",
   "metadata": {
    "id": "b9165ffd"
   },
   "source": [
    "### Holts winter exponential smoothing with multiplicative seasonality and additive trend"
   ]
  },
  {
   "cell_type": "code",
   "execution_count": null,
   "id": "0390a0a8",
   "metadata": {
    "executionInfo": {
     "elapsed": 703,
     "status": "aborted",
     "timestamp": 1642166200047,
     "user": {
      "displayName": "Pustode Ayush",
      "photoUrl": "https://lh3.googleusercontent.com/a-/AOh14GiJlrCGz-UuexLNV8mFDI-NmLjTcQ047vLC8lOAsp0=s64",
      "userId": "17475338800285129425"
     },
     "user_tz": -330
    },
    "id": "0390a0a8",
    "scrolled": true
   },
   "outputs": [],
   "source": [
    "hwe_model_mul_add = ExponentialSmoothing(Train[\"CO2\"],seasonal=\"mul\",trend=\"add\",seasonal_periods=12).fit() \n",
    "pred_hwe_mul_add = hwe_model_mul_add.predict(start = Test.index[0],end = Test.index[-1])\n",
    "MAPE(pred_hwe_mul_add,Test.CO2)"
   ]
  },
  {
   "cell_type": "markdown",
   "id": "1a91137a",
   "metadata": {
    "id": "1a91137a"
   },
   "source": [
    "## MODEL BUILDING"
   ]
  },
  {
   "cell_type": "code",
   "execution_count": null,
   "id": "f54f2527",
   "metadata": {
    "executionInfo": {
     "elapsed": 703,
     "status": "aborted",
     "timestamp": 1642166200047,
     "user": {
      "displayName": "Pustode Ayush",
      "photoUrl": "https://lh3.googleusercontent.com/a-/AOh14GiJlrCGz-UuexLNV8mFDI-NmLjTcQ047vLC8lOAsp0=s64",
      "userId": "17475338800285129425"
     },
     "user_tz": -330
    },
    "id": "f54f2527",
    "scrolled": true
   },
   "outputs": [],
   "source": [
    "#Linear Model\n",
    "import statsmodels.formula.api as smf \n",
    "\n",
    "linear_model = smf.ols('CO2~Year',data=Train).fit()\n",
    "pred_linear =  pd.Series(linear_model.predict(pd.DataFrame(Test['Year'])))\n",
    "rmse_linear = np.sqrt(np.mean((np.array(Test['CO2'])-np.array(pred_linear))**2))\n",
    "rmse_linear"
   ]
  },
  {
   "cell_type": "code",
   "execution_count": null,
   "id": "5fd9af9b",
   "metadata": {
    "executionInfo": {
     "elapsed": 704,
     "status": "aborted",
     "timestamp": 1642166200048,
     "user": {
      "displayName": "Pustode Ayush",
      "photoUrl": "https://lh3.googleusercontent.com/a-/AOh14GiJlrCGz-UuexLNV8mFDI-NmLjTcQ047vLC8lOAsp0=s64",
      "userId": "17475338800285129425"
     },
     "user_tz": -330
    },
    "id": "5fd9af9b",
    "scrolled": true
   },
   "outputs": [],
   "source": [
    "plt.plot(pred_linear)\n",
    "plt.show()"
   ]
  },
  {
   "cell_type": "code",
   "execution_count": null,
   "id": "2a68e317",
   "metadata": {
    "executionInfo": {
     "elapsed": 704,
     "status": "aborted",
     "timestamp": 1642166200048,
     "user": {
      "displayName": "Pustode Ayush",
      "photoUrl": "https://lh3.googleusercontent.com/a-/AOh14GiJlrCGz-UuexLNV8mFDI-NmLjTcQ047vLC8lOAsp0=s64",
      "userId": "17475338800285129425"
     },
     "user_tz": -330
    },
    "id": "2a68e317",
    "scrolled": true
   },
   "outputs": [],
   "source": [
    "#Exponential Model\n",
    "\n",
    "Exp = smf.ols('np.log(CO2)~Year',data=Train).fit()\n",
    "pred_Exp = pd.Series(Exp.predict(pd.DataFrame(Test['Year'])))\n",
    "rmse_Exp = np.sqrt(np.mean((np.array(Test['CO2'])-np.array(np.exp(pred_Exp)))**2))\n",
    "rmse_Exp"
   ]
  },
  {
   "cell_type": "code",
   "execution_count": null,
   "id": "3a19f9c1",
   "metadata": {
    "executionInfo": {
     "elapsed": 703,
     "status": "aborted",
     "timestamp": 1642166200048,
     "user": {
      "displayName": "Pustode Ayush",
      "photoUrl": "https://lh3.googleusercontent.com/a-/AOh14GiJlrCGz-UuexLNV8mFDI-NmLjTcQ047vLC8lOAsp0=s64",
      "userId": "17475338800285129425"
     },
     "user_tz": -330
    },
    "id": "3a19f9c1",
    "scrolled": true
   },
   "outputs": [],
   "source": [
    "plt.plot(pred_Exp)\n",
    "plt.show()"
   ]
  },
  {
   "cell_type": "code",
   "execution_count": null,
   "id": "741fc61d",
   "metadata": {
    "executionInfo": {
     "elapsed": 704,
     "status": "aborted",
     "timestamp": 1642166200049,
     "user": {
      "displayName": "Pustode Ayush",
      "photoUrl": "https://lh3.googleusercontent.com/a-/AOh14GiJlrCGz-UuexLNV8mFDI-NmLjTcQ047vLC8lOAsp0=s64",
      "userId": "17475338800285129425"
     },
     "user_tz": -330
    },
    "id": "741fc61d",
    "scrolled": false
   },
   "outputs": [],
   "source": [
    "#Quadratic \n",
    "\n",
    "Quad = smf.ols('Year~CO2+CO2_square',data=Train).fit()\n",
    "pred_Quad = pd.Series(Quad.predict(Test[[\"CO2\",\"CO2_square\"]]))\n",
    "rmse_Quad = np.sqrt(np.mean((np.array(Test['Year'])-np.array(pred_Quad))**2))\n",
    "rmse_Quad"
   ]
  },
  {
   "cell_type": "code",
   "execution_count": null,
   "id": "29414ee7",
   "metadata": {
    "executionInfo": {
     "elapsed": 704,
     "status": "aborted",
     "timestamp": 1642166200049,
     "user": {
      "displayName": "Pustode Ayush",
      "photoUrl": "https://lh3.googleusercontent.com/a-/AOh14GiJlrCGz-UuexLNV8mFDI-NmLjTcQ047vLC8lOAsp0=s64",
      "userId": "17475338800285129425"
     },
     "user_tz": -330
    },
    "id": "29414ee7",
    "scrolled": true
   },
   "outputs": [],
   "source": [
    "plt.plot(pred_Quad)\n",
    "plt.show()"
   ]
  },
  {
   "cell_type": "markdown",
   "id": "2bb94fab",
   "metadata": {
    "id": "2bb94fab"
   },
   "source": [
    "## Autoregression(AR)"
   ]
  },
  {
   "cell_type": "code",
   "execution_count": null,
   "id": "c4503feb",
   "metadata": {
    "executionInfo": {
     "elapsed": 705,
     "status": "aborted",
     "timestamp": 1642166200050,
     "user": {
      "displayName": "Pustode Ayush",
      "photoUrl": "https://lh3.googleusercontent.com/a-/AOh14GiJlrCGz-UuexLNV8mFDI-NmLjTcQ047vLC8lOAsp0=s64",
      "userId": "17475338800285129425"
     },
     "user_tz": -330
    },
    "id": "c4503feb",
    "scrolled": true
   },
   "outputs": [],
   "source": [
    "from statsmodels.tsa.ar_model import AutoReg\n",
    "from random import random\n",
    "from matplotlib import pyplot\n"
   ]
  },
  {
   "cell_type": "code",
   "execution_count": null,
   "id": "0c2400ca",
   "metadata": {
    "executionInfo": {
     "elapsed": 705,
     "status": "aborted",
     "timestamp": 1642166200050,
     "user": {
      "displayName": "Pustode Ayush",
      "photoUrl": "https://lh3.googleusercontent.com/a-/AOh14GiJlrCGz-UuexLNV8mFDI-NmLjTcQ047vLC8lOAsp0=s64",
      "userId": "17475338800285129425"
     },
     "user_tz": -330
    },
    "id": "0c2400ca",
    "scrolled": true
   },
   "outputs": [],
   "source": [
    "data=air_quality['CO2']\n",
    "data"
   ]
  },
  {
   "cell_type": "code",
   "execution_count": null,
   "id": "a9820e28",
   "metadata": {
    "executionInfo": {
     "elapsed": 705,
     "status": "aborted",
     "timestamp": 1642166200050,
     "user": {
      "displayName": "Pustode Ayush",
      "photoUrl": "https://lh3.googleusercontent.com/a-/AOh14GiJlrCGz-UuexLNV8mFDI-NmLjTcQ047vLC8lOAsp0=s64",
      "userId": "17475338800285129425"
     },
     "user_tz": -330
    },
    "id": "a9820e28",
    "scrolled": true
   },
   "outputs": [],
   "source": [
    "data.plot()"
   ]
  },
  {
   "cell_type": "code",
   "execution_count": null,
   "id": "bcaed9f3",
   "metadata": {
    "executionInfo": {
     "elapsed": 706,
     "status": "aborted",
     "timestamp": 1642166200051,
     "user": {
      "displayName": "Pustode Ayush",
      "photoUrl": "https://lh3.googleusercontent.com/a-/AOh14GiJlrCGz-UuexLNV8mFDI-NmLjTcQ047vLC8lOAsp0=s64",
      "userId": "17475338800285129425"
     },
     "user_tz": -330
    },
    "id": "bcaed9f3",
    "scrolled": true
   },
   "outputs": [],
   "source": [
    "train=data[:len(data)-10]\n",
    "test =data[len(data)-10:]"
   ]
  },
  {
   "cell_type": "code",
   "execution_count": null,
   "id": "60441272",
   "metadata": {
    "executionInfo": {
     "elapsed": 705,
     "status": "aborted",
     "timestamp": 1642166200051,
     "user": {
      "displayName": "Pustode Ayush",
      "photoUrl": "https://lh3.googleusercontent.com/a-/AOh14GiJlrCGz-UuexLNV8mFDI-NmLjTcQ047vLC8lOAsp0=s64",
      "userId": "17475338800285129425"
     },
     "user_tz": -330
    },
    "id": "60441272",
    "scrolled": true
   },
   "outputs": [],
   "source": [
    "model= AutoReg(train,lags=9).fit()"
   ]
  },
  {
   "cell_type": "code",
   "execution_count": null,
   "id": "a0219005",
   "metadata": {
    "executionInfo": {
     "elapsed": 706,
     "status": "aborted",
     "timestamp": 1642166200052,
     "user": {
      "displayName": "Pustode Ayush",
      "photoUrl": "https://lh3.googleusercontent.com/a-/AOh14GiJlrCGz-UuexLNV8mFDI-NmLjTcQ047vLC8lOAsp0=s64",
      "userId": "17475338800285129425"
     },
     "user_tz": -330
    },
    "id": "a0219005",
    "scrolled": true
   },
   "outputs": [],
   "source": [
    "print(model.summary())"
   ]
  },
  {
   "cell_type": "code",
   "execution_count": null,
   "id": "775ff64f",
   "metadata": {
    "executionInfo": {
     "elapsed": 709,
     "status": "aborted",
     "timestamp": 1642166200054,
     "user": {
      "displayName": "Pustode Ayush",
      "photoUrl": "https://lh3.googleusercontent.com/a-/AOh14GiJlrCGz-UuexLNV8mFDI-NmLjTcQ047vLC8lOAsp0=s64",
      "userId": "17475338800285129425"
     },
     "user_tz": -330
    },
    "id": "775ff64f",
    "scrolled": true
   },
   "outputs": [],
   "source": [
    "# # fit model\n",
    "# model = AutoReg(data, lags=1)\n",
    "# model_fit = model.fit()\n",
    "# # make prediction\n",
    "# yhat = model_fit.predict(len(data), len(data))\n",
    "# print(\"value of yhat = \", yhat)"
   ]
  },
  {
   "cell_type": "code",
   "execution_count": null,
   "id": "4d615e63",
   "metadata": {
    "executionInfo": {
     "elapsed": 709,
     "status": "aborted",
     "timestamp": 1642166200055,
     "user": {
      "displayName": "Pustode Ayush",
      "photoUrl": "https://lh3.googleusercontent.com/a-/AOh14GiJlrCGz-UuexLNV8mFDI-NmLjTcQ047vLC8lOAsp0=s64",
      "userId": "17475338800285129425"
     },
     "user_tz": -330
    },
    "id": "4d615e63",
    "scrolled": true
   },
   "outputs": [],
   "source": [
    "pred=model.predict(start=len(train),end=len(data)-1,dynamic=False)"
   ]
  },
  {
   "cell_type": "code",
   "execution_count": null,
   "id": "31595e55",
   "metadata": {
    "executionInfo": {
     "elapsed": 709,
     "status": "aborted",
     "timestamp": 1642166200056,
     "user": {
      "displayName": "Pustode Ayush",
      "photoUrl": "https://lh3.googleusercontent.com/a-/AOh14GiJlrCGz-UuexLNV8mFDI-NmLjTcQ047vLC8lOAsp0=s64",
      "userId": "17475338800285129425"
     },
     "user_tz": -330
    },
    "id": "31595e55",
    "scrolled": true
   },
   "outputs": [],
   "source": [
    "pyplot.plot(pred)\n",
    "pyplot.plot(test,color='red')\n"
   ]
  },
  {
   "cell_type": "code",
   "execution_count": null,
   "id": "41bec2bb",
   "metadata": {
    "executionInfo": {
     "elapsed": 709,
     "status": "aborted",
     "timestamp": 1642166200056,
     "user": {
      "displayName": "Pustode Ayush",
      "photoUrl": "https://lh3.googleusercontent.com/a-/AOh14GiJlrCGz-UuexLNV8mFDI-NmLjTcQ047vLC8lOAsp0=s64",
      "userId": "17475338800285129425"
     },
     "user_tz": -330
    },
    "id": "41bec2bb",
    "scrolled": true
   },
   "outputs": [],
   "source": []
  },
  {
   "cell_type": "markdown",
   "id": "21895799",
   "metadata": {
    "id": "21895799"
   },
   "source": [
    "## Calculate Error"
   ]
  },
  {
   "cell_type": "code",
   "execution_count": null,
   "id": "d5e47604",
   "metadata": {
    "executionInfo": {
     "elapsed": 710,
     "status": "aborted",
     "timestamp": 1642166200057,
     "user": {
      "displayName": "Pustode Ayush",
      "photoUrl": "https://lh3.googleusercontent.com/a-/AOh14GiJlrCGz-UuexLNV8mFDI-NmLjTcQ047vLC8lOAsp0=s64",
      "userId": "17475338800285129425"
     },
     "user_tz": -330
    },
    "id": "d5e47604",
    "scrolled": true
   },
   "outputs": [],
   "source": [
    "from math import sqrt\n",
    "from sklearn.metrics import mean_squared_error\n",
    "rmse_AR=sqrt(mean_squared_error(test,pred))\n",
    "mse=mean_squared_error(test,pred)\n",
    "print('RMSE value :',rmse_AR)\n",
    "print('MSE value :', mse)"
   ]
  },
  {
   "cell_type": "code",
   "execution_count": null,
   "id": "e20d7e69",
   "metadata": {
    "executionInfo": {
     "elapsed": 710,
     "status": "aborted",
     "timestamp": 1642166200057,
     "user": {
      "displayName": "Pustode Ayush",
      "photoUrl": "https://lh3.googleusercontent.com/a-/AOh14GiJlrCGz-UuexLNV8mFDI-NmLjTcQ047vLC8lOAsp0=s64",
      "userId": "17475338800285129425"
     },
     "user_tz": -330
    },
    "id": "e20d7e69",
    "scrolled": true
   },
   "outputs": [],
   "source": []
  },
  {
   "cell_type": "markdown",
   "id": "55db3dbb",
   "metadata": {
    "id": "55db3dbb"
   },
   "source": [
    "## Making Future Predication"
   ]
  },
  {
   "cell_type": "code",
   "execution_count": null,
   "id": "1704d6e4",
   "metadata": {
    "executionInfo": {
     "elapsed": 710,
     "status": "aborted",
     "timestamp": 1642166200057,
     "user": {
      "displayName": "Pustode Ayush",
      "photoUrl": "https://lh3.googleusercontent.com/a-/AOh14GiJlrCGz-UuexLNV8mFDI-NmLjTcQ047vLC8lOAsp0=s64",
      "userId": "17475338800285129425"
     },
     "user_tz": -330
    },
    "id": "1704d6e4",
    "scrolled": true
   },
   "outputs": [],
   "source": [
    "pred_future=model.predict(start=len(data)+1, end=len(data)+10,dynamic=False)\n",
    "print(\"The Future prediction for the next 10 Year\")\n",
    "print(pred_future)\n",
    "print('Number of prediction Made for Year : \\t',len(pred_future))\n"
   ]
  },
  {
   "cell_type": "code",
   "execution_count": null,
   "id": "842eb93e",
   "metadata": {
    "executionInfo": {
     "elapsed": 711,
     "status": "aborted",
     "timestamp": 1642166200058,
     "user": {
      "displayName": "Pustode Ayush",
      "photoUrl": "https://lh3.googleusercontent.com/a-/AOh14GiJlrCGz-UuexLNV8mFDI-NmLjTcQ047vLC8lOAsp0=s64",
      "userId": "17475338800285129425"
     },
     "user_tz": -330
    },
    "id": "842eb93e",
    "scrolled": true
   },
   "outputs": [],
   "source": [
    "pred_future.plot()"
   ]
  },
  {
   "cell_type": "code",
   "execution_count": null,
   "id": "93e82d28",
   "metadata": {
    "executionInfo": {
     "elapsed": 711,
     "status": "aborted",
     "timestamp": 1642166200058,
     "user": {
      "displayName": "Pustode Ayush",
      "photoUrl": "https://lh3.googleusercontent.com/a-/AOh14GiJlrCGz-UuexLNV8mFDI-NmLjTcQ047vLC8lOAsp0=s64",
      "userId": "17475338800285129425"
     },
     "user_tz": -330
    },
    "id": "93e82d28",
    "scrolled": true
   },
   "outputs": [],
   "source": []
  },
  {
   "cell_type": "markdown",
   "id": "32389c31",
   "metadata": {
    "id": "32389c31"
   },
   "source": [
    "## Moving Average(MA)"
   ]
  },
  {
   "cell_type": "code",
   "execution_count": null,
   "id": "6eea1dab",
   "metadata": {
    "executionInfo": {
     "elapsed": 712,
     "status": "aborted",
     "timestamp": 1642166200059,
     "user": {
      "displayName": "Pustode Ayush",
      "photoUrl": "https://lh3.googleusercontent.com/a-/AOh14GiJlrCGz-UuexLNV8mFDI-NmLjTcQ047vLC8lOAsp0=s64",
      "userId": "17475338800285129425"
     },
     "user_tz": -330
    },
    "id": "6eea1dab",
    "scrolled": true
   },
   "outputs": [],
   "source": [
    "from statsmodels.tsa.arima.model import ARIMA"
   ]
  },
  {
   "cell_type": "code",
   "execution_count": null,
   "id": "5a770e26",
   "metadata": {
    "executionInfo": {
     "elapsed": 712,
     "status": "aborted",
     "timestamp": 1642166200059,
     "user": {
      "displayName": "Pustode Ayush",
      "photoUrl": "https://lh3.googleusercontent.com/a-/AOh14GiJlrCGz-UuexLNV8mFDI-NmLjTcQ047vLC8lOAsp0=s64",
      "userId": "17475338800285129425"
     },
     "user_tz": -330
    },
    "id": "5a770e26",
    "scrolled": true
   },
   "outputs": [],
   "source": [
    "train=data[:len(data)-10]\n",
    "test =data[len(data)-10:]"
   ]
  },
  {
   "cell_type": "code",
   "execution_count": null,
   "id": "f4106747",
   "metadata": {
    "executionInfo": {
     "elapsed": 712,
     "status": "aborted",
     "timestamp": 1642166200059,
     "user": {
      "displayName": "Pustode Ayush",
      "photoUrl": "https://lh3.googleusercontent.com/a-/AOh14GiJlrCGz-UuexLNV8mFDI-NmLjTcQ047vLC8lOAsp0=s64",
      "userId": "17475338800285129425"
     },
     "user_tz": -330
    },
    "id": "f4106747",
    "scrolled": true
   },
   "outputs": [],
   "source": [
    "model= ARIMA(train,order=(0, 0, 1)).fit()"
   ]
  },
  {
   "cell_type": "code",
   "execution_count": null,
   "id": "2c1f3472",
   "metadata": {
    "executionInfo": {
     "elapsed": 712,
     "status": "aborted",
     "timestamp": 1642166200060,
     "user": {
      "displayName": "Pustode Ayush",
      "photoUrl": "https://lh3.googleusercontent.com/a-/AOh14GiJlrCGz-UuexLNV8mFDI-NmLjTcQ047vLC8lOAsp0=s64",
      "userId": "17475338800285129425"
     },
     "user_tz": -330
    },
    "id": "2c1f3472",
    "scrolled": true
   },
   "outputs": [],
   "source": [
    "print(model.summary())"
   ]
  },
  {
   "cell_type": "code",
   "execution_count": null,
   "id": "6c34db6b",
   "metadata": {
    "executionInfo": {
     "elapsed": 712,
     "status": "aborted",
     "timestamp": 1642166200060,
     "user": {
      "displayName": "Pustode Ayush",
      "photoUrl": "https://lh3.googleusercontent.com/a-/AOh14GiJlrCGz-UuexLNV8mFDI-NmLjTcQ047vLC8lOAsp0=s64",
      "userId": "17475338800285129425"
     },
     "user_tz": -330
    },
    "id": "6c34db6b",
    "scrolled": true
   },
   "outputs": [],
   "source": [
    "pred_ma=model.predict(start=len(train),end=len(data)-1,dynamic=False)"
   ]
  },
  {
   "cell_type": "code",
   "execution_count": null,
   "id": "21c006ff",
   "metadata": {
    "executionInfo": {
     "elapsed": 712,
     "status": "aborted",
     "timestamp": 1642166200060,
     "user": {
      "displayName": "Pustode Ayush",
      "photoUrl": "https://lh3.googleusercontent.com/a-/AOh14GiJlrCGz-UuexLNV8mFDI-NmLjTcQ047vLC8lOAsp0=s64",
      "userId": "17475338800285129425"
     },
     "user_tz": -330
    },
    "id": "21c006ff",
    "scrolled": true
   },
   "outputs": [],
   "source": [
    "pyplot.plot(pred)\n",
    "pyplot.plot(test,color='red')\n",
    "print(pred)"
   ]
  },
  {
   "cell_type": "code",
   "execution_count": null,
   "id": "60327cf7",
   "metadata": {
    "executionInfo": {
     "elapsed": 713,
     "status": "aborted",
     "timestamp": 1642166200061,
     "user": {
      "displayName": "Pustode Ayush",
      "photoUrl": "https://lh3.googleusercontent.com/a-/AOh14GiJlrCGz-UuexLNV8mFDI-NmLjTcQ047vLC8lOAsp0=s64",
      "userId": "17475338800285129425"
     },
     "user_tz": -330
    },
    "id": "60327cf7",
    "scrolled": true
   },
   "outputs": [],
   "source": []
  },
  {
   "cell_type": "markdown",
   "id": "f35460a1",
   "metadata": {
    "id": "f35460a1"
   },
   "source": [
    "## Calculate Error"
   ]
  },
  {
   "cell_type": "code",
   "execution_count": null,
   "id": "d9018cc4",
   "metadata": {
    "executionInfo": {
     "elapsed": 713,
     "status": "aborted",
     "timestamp": 1642166200061,
     "user": {
      "displayName": "Pustode Ayush",
      "photoUrl": "https://lh3.googleusercontent.com/a-/AOh14GiJlrCGz-UuexLNV8mFDI-NmLjTcQ047vLC8lOAsp0=s64",
      "userId": "17475338800285129425"
     },
     "user_tz": -330
    },
    "id": "d9018cc4",
    "scrolled": true
   },
   "outputs": [],
   "source": [
    "from math import sqrt\n",
    "from sklearn.metrics import mean_squared_error\n",
    "rmse_MA=sqrt(mean_squared_error(test,pred_ma))\n",
    "print(rmse_MA)"
   ]
  },
  {
   "cell_type": "code",
   "execution_count": null,
   "id": "b3dc7c28",
   "metadata": {
    "executionInfo": {
     "elapsed": 713,
     "status": "aborted",
     "timestamp": 1642166200061,
     "user": {
      "displayName": "Pustode Ayush",
      "photoUrl": "https://lh3.googleusercontent.com/a-/AOh14GiJlrCGz-UuexLNV8mFDI-NmLjTcQ047vLC8lOAsp0=s64",
      "userId": "17475338800285129425"
     },
     "user_tz": -330
    },
    "id": "b3dc7c28",
    "scrolled": true
   },
   "outputs": [],
   "source": []
  },
  {
   "cell_type": "markdown",
   "id": "2e75859d",
   "metadata": {
    "id": "2e75859d"
   },
   "source": [
    "## Making Future prediction"
   ]
  },
  {
   "cell_type": "code",
   "execution_count": null,
   "id": "d1b526a0",
   "metadata": {
    "executionInfo": {
     "elapsed": 713,
     "status": "aborted",
     "timestamp": 1642166200061,
     "user": {
      "displayName": "Pustode Ayush",
      "photoUrl": "https://lh3.googleusercontent.com/a-/AOh14GiJlrCGz-UuexLNV8mFDI-NmLjTcQ047vLC8lOAsp0=s64",
      "userId": "17475338800285129425"
     },
     "user_tz": -330
    },
    "id": "d1b526a0",
    "scrolled": true
   },
   "outputs": [],
   "source": [
    "pred_future_ma=model.predict(start=len(data)+1, end=len(data)+10,dynamic=False)\n",
    "print(\"The Future prediction for the next 10 Year\")\n",
    "print(pred_future)\n",
    "print('Number of prediction Made for Year : \\t',len(pred_future_ma))"
   ]
  },
  {
   "cell_type": "code",
   "execution_count": null,
   "id": "ee81dcc7",
   "metadata": {
    "executionInfo": {
     "elapsed": 714,
     "status": "aborted",
     "timestamp": 1642166200062,
     "user": {
      "displayName": "Pustode Ayush",
      "photoUrl": "https://lh3.googleusercontent.com/a-/AOh14GiJlrCGz-UuexLNV8mFDI-NmLjTcQ047vLC8lOAsp0=s64",
      "userId": "17475338800285129425"
     },
     "user_tz": -330
    },
    "id": "ee81dcc7",
    "scrolled": true
   },
   "outputs": [],
   "source": [
    "pred_future.plot()"
   ]
  },
  {
   "cell_type": "code",
   "execution_count": null,
   "id": "35e49467",
   "metadata": {
    "executionInfo": {
     "elapsed": 714,
     "status": "aborted",
     "timestamp": 1642166200062,
     "user": {
      "displayName": "Pustode Ayush",
      "photoUrl": "https://lh3.googleusercontent.com/a-/AOh14GiJlrCGz-UuexLNV8mFDI-NmLjTcQ047vLC8lOAsp0=s64",
      "userId": "17475338800285129425"
     },
     "user_tz": -330
    },
    "id": "35e49467",
    "scrolled": true
   },
   "outputs": [],
   "source": [
    "# MA example\n",
    "from statsmodels.tsa.arima.model import ARIMA\n",
    "# fit model\n",
    "model = ARIMA(data, order=(0, 0, 1))\n",
    "model_fit = model.fit()\n",
    "# make prediction\n",
    "yhat = model_fit.predict(len(data), len(data))\n",
    "print(\"value of yhat = \", yhat)"
   ]
  },
  {
   "cell_type": "markdown",
   "id": "eb51b4c8",
   "metadata": {
    "id": "eb51b4c8"
   },
   "source": [
    "## Autoregressive intergrated moving Average(ARIMA)¶"
   ]
  },
  {
   "cell_type": "code",
   "execution_count": null,
   "id": "781ce1d4",
   "metadata": {
    "executionInfo": {
     "elapsed": 713,
     "status": "aborted",
     "timestamp": 1642166200062,
     "user": {
      "displayName": "Pustode Ayush",
      "photoUrl": "https://lh3.googleusercontent.com/a-/AOh14GiJlrCGz-UuexLNV8mFDI-NmLjTcQ047vLC8lOAsp0=s64",
      "userId": "17475338800285129425"
     },
     "user_tz": -330
    },
    "id": "781ce1d4",
    "scrolled": true
   },
   "outputs": [],
   "source": [
    "import datetime as dt\n",
    "import matplotlib.pyplot as plt"
   ]
  },
  {
   "cell_type": "code",
   "execution_count": null,
   "id": "d5e26498",
   "metadata": {
    "executionInfo": {
     "elapsed": 713,
     "status": "aborted",
     "timestamp": 1642166200062,
     "user": {
      "displayName": "Pustode Ayush",
      "photoUrl": "https://lh3.googleusercontent.com/a-/AOh14GiJlrCGz-UuexLNV8mFDI-NmLjTcQ047vLC8lOAsp0=s64",
      "userId": "17475338800285129425"
     },
     "user_tz": -330
    },
    "id": "d5e26498",
    "scrolled": true
   },
   "outputs": [],
   "source": [
    "data_str= air_quality.Year.astype(str)\n",
    "data_str"
   ]
  },
  {
   "cell_type": "code",
   "execution_count": null,
   "id": "9994fbd8",
   "metadata": {
    "executionInfo": {
     "elapsed": 714,
     "status": "aborted",
     "timestamp": 1642166200063,
     "user": {
      "displayName": "Pustode Ayush",
      "photoUrl": "https://lh3.googleusercontent.com/a-/AOh14GiJlrCGz-UuexLNV8mFDI-NmLjTcQ047vLC8lOAsp0=s64",
      "userId": "17475338800285129425"
     },
     "user_tz": -330
    },
    "id": "9994fbd8",
    "scrolled": false
   },
   "outputs": [],
   "source": [
    "x = [dt.datetime.strptime(d,\"%Y\").date() for d in air_quality['Year'].astype(str)]\n",
    "y = air_quality[\"CO2\"]\n",
    "\n",
    "plt.plot(x,y)\n",
    "plt.show()"
   ]
  },
  {
   "cell_type": "code",
   "execution_count": null,
   "id": "5b995062",
   "metadata": {
    "executionInfo": {
     "elapsed": 714,
     "status": "aborted",
     "timestamp": 1642166200063,
     "user": {
      "displayName": "Pustode Ayush",
      "photoUrl": "https://lh3.googleusercontent.com/a-/AOh14GiJlrCGz-UuexLNV8mFDI-NmLjTcQ047vLC8lOAsp0=s64",
      "userId": "17475338800285129425"
     },
     "user_tz": -330
    },
    "id": "5b995062",
    "scrolled": true
   },
   "outputs": [],
   "source": [
    "data"
   ]
  },
  {
   "cell_type": "code",
   "execution_count": null,
   "id": "3b02ce2f",
   "metadata": {
    "executionInfo": {
     "elapsed": 714,
     "status": "aborted",
     "timestamp": 1642166200063,
     "user": {
      "displayName": "Pustode Ayush",
      "photoUrl": "https://lh3.googleusercontent.com/a-/AOh14GiJlrCGz-UuexLNV8mFDI-NmLjTcQ047vLC8lOAsp0=s64",
      "userId": "17475338800285129425"
     },
     "user_tz": -330
    },
    "id": "3b02ce2f",
    "scrolled": true
   },
   "outputs": [],
   "source": [
    "from statsmodels.tsa.arima_model import ARIMA\n",
    "from matplotlib import pyplot\n",
    "from pandas import DataFrame\n",
    " \n",
    "def parser(x):\n",
    "\treturn dt.datetime.strptime(x, \"%Y\")\n",
    " \n",
    "data = pd.read_excel(\"CO2.xlsx\", header=0, parse_dates=[0], index_col=0, squeeze=True, date_parser=parser)\n",
    "\n",
    "#arimaM = ARIMA(data, order=(5,1,0))\n",
    "arimaM = ARIMA(data, order=(1,1,0))\n",
    "\n",
    "arimaMfit = arimaM.fit(disp=1)\n",
    "print(arimaMfit.summary())\n",
    "# plot residual errors\n",
    "errors = DataFrame(arimaMfit.resid)\n",
    "errors.plot()\n",
    "pyplot.show()\n",
    "errors.plot(kind='kde')\n",
    "pyplot.show()\n",
    "print(errors.describe())"
   ]
  },
  {
   "cell_type": "code",
   "execution_count": null,
   "id": "b349861a",
   "metadata": {
    "executionInfo": {
     "elapsed": 715,
     "status": "aborted",
     "timestamp": 1642166200064,
     "user": {
      "displayName": "Pustode Ayush",
      "photoUrl": "https://lh3.googleusercontent.com/a-/AOh14GiJlrCGz-UuexLNV8mFDI-NmLjTcQ047vLC8lOAsp0=s64",
      "userId": "17475338800285129425"
     },
     "user_tz": -330
    },
    "id": "b349861a",
    "scrolled": true
   },
   "outputs": [],
   "source": [
    "def parser(x):\n",
    "\treturn dt.datetime.strptime(x, \"%Y\")\n",
    " \n",
    "data = pd.read_excel(\"CO2.xlsx\", header=0, parse_dates=[0], index_col=0, squeeze=True, date_parser=parser)\n",
    "X = data.values\n",
    "size = int(len(X) * 0.66)\n",
    "limitCount = 50\n",
    "train, test = X[0:size], X[size:size+limitCount]\n",
    "history = [x for x in train]\n",
    "predictions = list()\n",
    "for t in range(len(test)):\n",
    "\tmodel = ARIMA(history, order=(1,1,0))\n",
    "\tmodel_fit = model.fit(disp=(0))\n",
    "\toutput = model_fit.forecast()\n",
    "\tyhat = output[0]\n",
    "\tpredictions.append(yhat)\n",
    "\tobs = test[t]\n",
    "\thistory.append(obs)\n",
    "\tprint('pred=%f, exp=%f' % (yhat, obs))\n",
    "error = mean_squared_error(test, predictions)\n",
    "print('Mean Squared Error: %.3f' % error)\n",
    "# plot\n",
    "pyplot.plot(test)\n",
    "pyplot.plot(predictions, color='red')\n",
    "pyplot.show()\n"
   ]
  },
  {
   "cell_type": "code",
   "execution_count": null,
   "id": "a9573b3f",
   "metadata": {
    "executionInfo": {
     "elapsed": 715,
     "status": "aborted",
     "timestamp": 1642166200064,
     "user": {
      "displayName": "Pustode Ayush",
      "photoUrl": "https://lh3.googleusercontent.com/a-/AOh14GiJlrCGz-UuexLNV8mFDI-NmLjTcQ047vLC8lOAsp0=s64",
      "userId": "17475338800285129425"
     },
     "user_tz": -330
    },
    "id": "a9573b3f",
    "scrolled": true
   },
   "outputs": [],
   "source": [
    "forecast=model_fit.forecast(steps=10)[0]\n",
    "model_fit.plot_predict(1,80)"
   ]
  },
  {
   "cell_type": "code",
   "execution_count": null,
   "id": "77e28e36",
   "metadata": {
    "executionInfo": {
     "elapsed": 715,
     "status": "aborted",
     "timestamp": 1642166200064,
     "user": {
      "displayName": "Pustode Ayush",
      "photoUrl": "https://lh3.googleusercontent.com/a-/AOh14GiJlrCGz-UuexLNV8mFDI-NmLjTcQ047vLC8lOAsp0=s64",
      "userId": "17475338800285129425"
     },
     "user_tz": -330
    },
    "id": "77e28e36",
    "scrolled": true
   },
   "outputs": [],
   "source": [
    "forecast"
   ]
  },
  {
   "cell_type": "code",
   "execution_count": null,
   "id": "0a2c9a7a",
   "metadata": {
    "executionInfo": {
     "elapsed": 714,
     "status": "aborted",
     "timestamp": 1642166200064,
     "user": {
      "displayName": "Pustode Ayush",
      "photoUrl": "https://lh3.googleusercontent.com/a-/AOh14GiJlrCGz-UuexLNV8mFDI-NmLjTcQ047vLC8lOAsp0=s64",
      "userId": "17475338800285129425"
     },
     "user_tz": -330
    },
    "id": "0a2c9a7a",
    "scrolled": true
   },
   "outputs": [],
   "source": [
    "rmse_ARIMA=sqrt(error)\n",
    "print('RMSE value :',rmse_ARIMA)"
   ]
  },
  {
   "cell_type": "markdown",
   "id": "2a0b8f7f",
   "metadata": {
    "id": "2a0b8f7f"
   },
   "source": [
    "## SEASONAL ARIMA"
   ]
  },
  {
   "cell_type": "code",
   "execution_count": null,
   "id": "93af7e4b",
   "metadata": {
    "executionInfo": {
     "elapsed": 715,
     "status": "aborted",
     "timestamp": 1642166200065,
     "user": {
      "displayName": "Pustode Ayush",
      "photoUrl": "https://lh3.googleusercontent.com/a-/AOh14GiJlrCGz-UuexLNV8mFDI-NmLjTcQ047vLC8lOAsp0=s64",
      "userId": "17475338800285129425"
     },
     "user_tz": -330
    },
    "id": "93af7e4b",
    "scrolled": true
   },
   "outputs": [],
   "source": [
    "%matplotlib inline\n",
    "import numpy as np\n",
    "import matplotlib.pylab\n",
    "from matplotlib.pylab import rcParams\n",
    "rcParams['figure.figsize'] = 12, 8\n",
    "import warnings\n",
    "import itertools\n",
    "warnings.filterwarnings(\"ignore\")\n",
    "import statsmodels\n",
    "import statsmodels.api as sm\n",
    "from statsmodels.tsa.stattools import coint, adfuller"
   ]
  },
  {
   "cell_type": "code",
   "execution_count": null,
   "id": "c28357f5",
   "metadata": {
    "executionInfo": {
     "elapsed": 715,
     "status": "aborted",
     "timestamp": 1642166200065,
     "user": {
      "displayName": "Pustode Ayush",
      "photoUrl": "https://lh3.googleusercontent.com/a-/AOh14GiJlrCGz-UuexLNV8mFDI-NmLjTcQ047vLC8lOAsp0=s64",
      "userId": "17475338800285129425"
     },
     "user_tz": -330
    },
    "id": "c28357f5",
    "scrolled": true
   },
   "outputs": [],
   "source": [
    "df = pd.read_excel(\"CO2.xlsx\")\n",
    "df.head()"
   ]
  },
  {
   "cell_type": "code",
   "execution_count": null,
   "id": "87e5d8b1",
   "metadata": {
    "executionInfo": {
     "elapsed": 715,
     "status": "aborted",
     "timestamp": 1642166200065,
     "user": {
      "displayName": "Pustode Ayush",
      "photoUrl": "https://lh3.googleusercontent.com/a-/AOh14GiJlrCGz-UuexLNV8mFDI-NmLjTcQ047vLC8lOAsp0=s64",
      "userId": "17475338800285129425"
     },
     "user_tz": -330
    },
    "id": "87e5d8b1",
    "scrolled": true
   },
   "outputs": [],
   "source": [
    "dateparse = lambda x: pd.to_datetime(x, format='%Y', errors = 'coerce')\n",
    "df = pd.read_excel(\"CO2.xlsx\", parse_dates=['Year'], index_col='Year', date_parser=dateparse) \n",
    "df.head()\n"
   ]
  },
  {
   "cell_type": "code",
   "execution_count": null,
   "id": "cac8081b",
   "metadata": {
    "executionInfo": {
     "elapsed": 716,
     "status": "aborted",
     "timestamp": 1642166200066,
     "user": {
      "displayName": "Pustode Ayush",
      "photoUrl": "https://lh3.googleusercontent.com/a-/AOh14GiJlrCGz-UuexLNV8mFDI-NmLjTcQ047vLC8lOAsp0=s64",
      "userId": "17475338800285129425"
     },
     "user_tz": -330
    },
    "id": "cac8081b",
    "scrolled": true
   },
   "outputs": [],
   "source": [
    "mte_exp_wighted_avg = df.ewm(span=2).mean()\n",
    "plt.plot(df)\n",
    "plt.plot(mte_exp_wighted_avg, color='red')\n",
    "plt.xticks(fontsize = 25)\n",
    "plt.yticks(fontsize = 25)\n",
    "plt.xlabel('Time (years)', fontsize = 25)\n",
    "plt.ylabel('CO2 Emission (MMT)', fontsize = 25)\n",
    "plt.title('CO2 emission', fontsize = 25)\n",
    "plt.show()"
   ]
  },
  {
   "cell_type": "markdown",
   "id": "14f9c63f",
   "metadata": {
    "id": "14f9c63f"
   },
   "source": [
    "## Exponentail weighted moving average"
   ]
  },
  {
   "cell_type": "markdown",
   "id": "23c53018",
   "metadata": {
    "id": "23c53018"
   },
   "source": [
    "###### Another technique is to take the ‘weighted moving average’ where more recent values are given a higher weight. The popular method to assign the waights is using the exponential weighted moving average. Where weights are assigned to all previous values with a decay factor."
   ]
  },
  {
   "cell_type": "code",
   "execution_count": null,
   "id": "3a95ab6e",
   "metadata": {
    "executionInfo": {
     "elapsed": 716,
     "status": "aborted",
     "timestamp": 1642166200066,
     "user": {
      "displayName": "Pustode Ayush",
      "photoUrl": "https://lh3.googleusercontent.com/a-/AOh14GiJlrCGz-UuexLNV8mFDI-NmLjTcQ047vLC8lOAsp0=s64",
      "userId": "17475338800285129425"
     },
     "user_tz": -330
    },
    "id": "3a95ab6e",
    "scrolled": true
   },
   "outputs": [],
   "source": [
    "def TestStationaryPlot(ts):\n",
    "    rol_mean = ts.rolling(window = 12, center = False).mean()\n",
    "    rol_std = ts.rolling(window = 12, center = False).std()\n",
    "    \n",
    "    plt.plot(ts, color = 'blue',label = 'Original Data')\n",
    "    plt.plot(rol_mean, color = 'red', label = 'Rolling Mean')\n",
    "    plt.plot(rol_std, color ='black', label = 'Rolling Std')\n",
    "    plt.xticks(fontsize = 25)\n",
    "    plt.yticks(fontsize = 25)\n",
    "    \n",
    "    plt.xlabel('Time in Years', fontsize = 25)\n",
    "    plt.ylabel('Total Emissions', fontsize = 25)\n",
    "    plt.legend(loc='best', fontsize = 25)\n",
    "    plt.title('Rolling Mean & Standard Deviation', fontsize = 25)\n",
    "    plt.show(block= True)"
   ]
  },
  {
   "cell_type": "code",
   "execution_count": null,
   "id": "a3624de9",
   "metadata": {
    "executionInfo": {
     "elapsed": 716,
     "status": "aborted",
     "timestamp": 1642166200066,
     "user": {
      "displayName": "Pustode Ayush",
      "photoUrl": "https://lh3.googleusercontent.com/a-/AOh14GiJlrCGz-UuexLNV8mFDI-NmLjTcQ047vLC8lOAsp0=s64",
      "userId": "17475338800285129425"
     },
     "user_tz": -330
    },
    "id": "a3624de9",
    "scrolled": true
   },
   "outputs": [],
   "source": [
    "mte_ewma_diff = df - mte_exp_wighted_avg\n",
    "TestStationaryPlot(mte_ewma_diff)"
   ]
  },
  {
   "cell_type": "code",
   "execution_count": null,
   "id": "bbe0ef2b",
   "metadata": {
    "executionInfo": {
     "elapsed": 716,
     "status": "aborted",
     "timestamp": 1642166200066,
     "user": {
      "displayName": "Pustode Ayush",
      "photoUrl": "https://lh3.googleusercontent.com/a-/AOh14GiJlrCGz-UuexLNV8mFDI-NmLjTcQ047vLC8lOAsp0=s64",
      "userId": "17475338800285129425"
     },
     "user_tz": -330
    },
    "id": "bbe0ef2b",
    "scrolled": true
   },
   "outputs": [],
   "source": [
    "def TestStationaryAdfuller(ts, cutoff = 0.01):\n",
    "    ts_test = adfuller(ts, autolag = 'AIC')\n",
    "    ts_test_output = pd.Series(ts_test[0:4], index=['Test Statistic','p-value','#Lags Used','Number of Observations Used'])\n",
    "    \n",
    "    for key,value in ts_test[4].items():\n",
    "        ts_test_output['Critical Value (%s)'%key] = value\n",
    "    print(ts_test_output)\n",
    "    \n",
    "    if ts_test[1] <= cutoff:\n",
    "        print(\"Strong evidence against the null hypothesis, reject the null hypothesis. Data has no unit root, hence it is stationary\")\n",
    "    else:\n",
    "        print(\"Weak evidence against null hypothesis, time series has a unit root, indicating it is non-stationary \")\n"
   ]
  },
  {
   "cell_type": "code",
   "execution_count": null,
   "id": "f8238fa4",
   "metadata": {
    "executionInfo": {
     "elapsed": 716,
     "status": "aborted",
     "timestamp": 1642166200066,
     "user": {
      "displayName": "Pustode Ayush",
      "photoUrl": "https://lh3.googleusercontent.com/a-/AOh14GiJlrCGz-UuexLNV8mFDI-NmLjTcQ047vLC8lOAsp0=s64",
      "userId": "17475338800285129425"
     },
     "user_tz": -330
    },
    "id": "f8238fa4",
    "scrolled": true
   },
   "outputs": [],
   "source": [
    "TestStationaryAdfuller(mte_ewma_diff)"
   ]
  },
  {
   "cell_type": "markdown",
   "id": "63800967",
   "metadata": {
    "id": "63800967"
   },
   "source": [
    "###### This time series has lesser variations in mean and standard deviation compared to the orginal ddataset. Also, the Test Statistic is smaller than the 5% and 10% critical value, which is better than the original case. There will be no missing values as all values from starting are given weights. So, it will work even with no previous values. In this case, we can say with 95% confidence level the series is a stationary series."
   ]
  },
  {
   "cell_type": "markdown",
   "id": "f92433d4",
   "metadata": {
    "id": "f92433d4"
   },
   "source": [
    "## Eliminating trend and seasonality: Differencing"
   ]
  },
  {
   "cell_type": "markdown",
   "id": "0125f77d",
   "metadata": {
    "id": "0125f77d"
   },
   "source": [
    "###### One of the most common method of dealing with both trend and seasonality is differencing. In this technique, we take the difference of the original observation at a particular instant with that at the previous instant. This mostly works well to improve stationarity. First order differencing can be done as follows"
   ]
  },
  {
   "cell_type": "code",
   "execution_count": null,
   "id": "1a7d8972",
   "metadata": {
    "executionInfo": {
     "elapsed": 717,
     "status": "aborted",
     "timestamp": 1642166200068,
     "user": {
      "displayName": "Pustode Ayush",
      "photoUrl": "https://lh3.googleusercontent.com/a-/AOh14GiJlrCGz-UuexLNV8mFDI-NmLjTcQ047vLC8lOAsp0=s64",
      "userId": "17475338800285129425"
     },
     "user_tz": -330
    },
    "id": "1a7d8972",
    "scrolled": true
   },
   "outputs": [],
   "source": [
    "mte_first_difference = df - df.shift(1)  \n",
    "TestStationaryPlot(mte_first_difference.dropna(inplace=False))"
   ]
  },
  {
   "cell_type": "code",
   "execution_count": null,
   "id": "b9b54eea",
   "metadata": {
    "executionInfo": {
     "elapsed": 66,
     "status": "aborted",
     "timestamp": 1642166200068,
     "user": {
      "displayName": "Pustode Ayush",
      "photoUrl": "https://lh3.googleusercontent.com/a-/AOh14GiJlrCGz-UuexLNV8mFDI-NmLjTcQ047vLC8lOAsp0=s64",
      "userId": "17475338800285129425"
     },
     "user_tz": -330
    },
    "id": "b9b54eea",
    "scrolled": true
   },
   "outputs": [],
   "source": [
    "TestStationaryAdfuller(mte_first_difference.dropna(inplace=False))"
   ]
  },
  {
   "cell_type": "markdown",
   "id": "9158d067",
   "metadata": {
    "id": "9158d067"
   },
   "source": [
    "The first difference improves the stationarity of the series significantly. Let us use also the seasonal difference to remove the seasonality of the data and see how that impacts stationarity of the data."
   ]
  },
  {
   "cell_type": "code",
   "execution_count": null,
   "id": "862432e5",
   "metadata": {
    "executionInfo": {
     "elapsed": 67,
     "status": "aborted",
     "timestamp": 1642166200069,
     "user": {
      "displayName": "Pustode Ayush",
      "photoUrl": "https://lh3.googleusercontent.com/a-/AOh14GiJlrCGz-UuexLNV8mFDI-NmLjTcQ047vLC8lOAsp0=s64",
      "userId": "17475338800285129425"
     },
     "user_tz": -330
    },
    "id": "862432e5",
    "scrolled": true
   },
   "outputs": [],
   "source": [
    "mte_seasonal_difference = df - df.shift(12)  \n",
    "TestStationaryPlot(mte_seasonal_difference.dropna(inplace=False))\n",
    "TestStationaryAdfuller(mte_seasonal_difference.dropna(inplace=False))"
   ]
  },
  {
   "cell_type": "code",
   "execution_count": null,
   "id": "b69371f2",
   "metadata": {
    "executionInfo": {
     "elapsed": 67,
     "status": "aborted",
     "timestamp": 1642166200069,
     "user": {
      "displayName": "Pustode Ayush",
      "photoUrl": "https://lh3.googleusercontent.com/a-/AOh14GiJlrCGz-UuexLNV8mFDI-NmLjTcQ047vLC8lOAsp0=s64",
      "userId": "17475338800285129425"
     },
     "user_tz": -330
    },
    "id": "b69371f2",
    "scrolled": true
   },
   "outputs": [],
   "source": [
    "mte_seasonal_first_difference = mte_first_difference - mte_first_difference.shift(12)  \n",
    "TestStationaryPlot(mte_seasonal_first_difference.dropna(inplace=False))"
   ]
  },
  {
   "cell_type": "code",
   "execution_count": null,
   "id": "dcab9a20",
   "metadata": {
    "executionInfo": {
     "elapsed": 67,
     "status": "aborted",
     "timestamp": 1642166200069,
     "user": {
      "displayName": "Pustode Ayush",
      "photoUrl": "https://lh3.googleusercontent.com/a-/AOh14GiJlrCGz-UuexLNV8mFDI-NmLjTcQ047vLC8lOAsp0=s64",
      "userId": "17475338800285129425"
     },
     "user_tz": -330
    },
    "id": "dcab9a20",
    "scrolled": true
   },
   "outputs": [],
   "source": [
    "TestStationaryAdfuller(mte_seasonal_first_difference.dropna(inplace=False))"
   ]
  },
  {
   "cell_type": "code",
   "execution_count": null,
   "id": "a46b130c",
   "metadata": {
    "executionInfo": {
     "elapsed": 67,
     "status": "aborted",
     "timestamp": 1642166200069,
     "user": {
      "displayName": "Pustode Ayush",
      "photoUrl": "https://lh3.googleusercontent.com/a-/AOh14GiJlrCGz-UuexLNV8mFDI-NmLjTcQ047vLC8lOAsp0=s64",
      "userId": "17475338800285129425"
     },
     "user_tz": -330
    },
    "id": "a46b130c",
    "scrolled": true
   },
   "outputs": [],
   "source": [
    "from statsmodels.tsa.seasonal import seasonal_decompose\n",
    "decomposition = seasonal_decompose(df)\n",
    "\n",
    "trend = decomposition.trend\n",
    "seasonal = decomposition.seasonal\n",
    "residual = decomposition.resid\n",
    "\n",
    "plt.subplot(411)\n",
    "plt.plot(df, label='Original')\n",
    "plt.legend(loc='best')\n",
    "plt.subplot(412)\n",
    "plt.plot(trend, label='Trend')\n",
    "plt.legend(loc='best')\n",
    "plt.subplot(413)\n",
    "plt.plot(seasonal,label='Seasonality')\n",
    "plt.legend(loc='best')\n",
    "plt.subplot(414)\n",
    "plt.plot(residual, label='Residuals')\n",
    "plt.legend(loc='best')\n",
    "plt.tight_layout()"
   ]
  },
  {
   "cell_type": "markdown",
   "id": "d2987f12",
   "metadata": {
    "id": "d2987f12"
   },
   "source": [
    "## Find optimal parameters and build SARIMA model"
   ]
  },
  {
   "cell_type": "markdown",
   "id": "1e2e78eb",
   "metadata": {
    "id": "1e2e78eb"
   },
   "source": [
    "When looking to fit time series dataset with seasonal ARIMA model, our first goal is to find the values of SARIMA(p,d,q)(P,D,Q)s that optimize our metric of interest. Before moving directly how to find the optimal values of the parameters let us see the two situations in stationarities: A strictly stationary series with no dependence among the values. This is the easy case wherein we can model the residuals as white noise. The second case being a series with significant dependence among values and needs statistical models like ARIMA to forecast future oucomes.\n",
    "\n",
    "Auto-Regressive Integrated Moving Average (ARIMA): The ARIMA forecasting for a stationary time series is a linear funcion similar to linear regression. The predictors mainly depend on the parameters (p,d,q) of the ARIMA model:\n",
    "\n",
    "Number of Auto-Regressive (AR) terms (p): AR terms are just lags of dependent variable. For instance if p is 4, the predictors for x(t) will depend on x(t-1)….x(t-4). This term allows us to incorporate the effect of past values into our model. This would be similar to stating that the weather is likely to be warm tomorrow if it has been warm the past 4 days. Number of Moving Average(MA) terms (q): MA terms are lagged forecast errors in prediction function. This term allows us to set the error of our model as a linear combination of the error values observed at previous time points in the past. For instance if q is 4, the predictors for x(t) will be e(t-1)….e(t-4) where e(i) is the difference between the moving average at ith instant and actual value. Number of Differences (d): These are the number of nonseasonal differences, i.e., if we took the first order difference. So either we can pass the first order difference variable and put d=0 or pass the original observed variable and put d=1. Both will generate same results. This term explains the number of past time points to subtract from the current value. This would be similar to stating that it is likely to be same temperature tomorrow if the difference in temperature in the last three days has been very small."
   ]
  },
  {
   "cell_type": "markdown",
   "id": "ed55c9aa",
   "metadata": {
    "id": "ed55c9aa"
   },
   "source": [
    "## Plot the ACF and PACF charts and find the optimal parameters"
   ]
  },
  {
   "cell_type": "markdown",
   "id": "7e154fe8",
   "metadata": {
    "id": "7e154fe8"
   },
   "source": [
    "Autocorrelation Function (ACF): It is a measure of the correlation between the the time series (ts) with a lagged version of itself. For instance at lag 4, ACF would compare series at time instant ‘t1’…’t2’ with series at instant ‘t1-4’…’t2-4’ (t1-4 and t2 being end points of the range). Partial Autocorrelation Function (PACF): This measures the correlation between the ts with a lagged version of itself but after eliminating the variations already explained by the intervening comparisons. Eg at lag 4, it will check the correlation but remove the effects already explained by lags 1 to 3. Therefore, the next step will be determing the tuning parameters (p and q) of the model by looking at the autocorrelation and partial autocorrelation graphs. The chart below provides a brief guide on how to read the autocorrelation and partial autocorrelation graphs inorder to select the parameters."
   ]
  },
  {
   "cell_type": "code",
   "execution_count": null,
   "id": "f5756348",
   "metadata": {
    "executionInfo": {
     "elapsed": 66,
     "status": "aborted",
     "timestamp": 1642166200069,
     "user": {
      "displayName": "Pustode Ayush",
      "photoUrl": "https://lh3.googleusercontent.com/a-/AOh14GiJlrCGz-UuexLNV8mFDI-NmLjTcQ047vLC8lOAsp0=s64",
      "userId": "17475338800285129425"
     },
     "user_tz": -330
    },
    "id": "f5756348",
    "scrolled": true
   },
   "outputs": [],
   "source": [
    "fig = plt.figure(figsize=(12,8))\n",
    "ax1 = fig.add_subplot(211)\n",
    "fig = sm.graphics.tsa.plot_acf(mte_seasonal_first_difference.iloc[13:], lags=40, ax=ax1)\n",
    "ax2 = fig.add_subplot(212)\n",
    "fig = sm.graphics.tsa.plot_pacf(mte_seasonal_first_difference.iloc[13:], lags=40, ax=ax2)"
   ]
  },
  {
   "cell_type": "code",
   "execution_count": null,
   "id": "f9ac0cfd",
   "metadata": {
    "executionInfo": {
     "elapsed": 67,
     "status": "aborted",
     "timestamp": 1642166200070,
     "user": {
      "displayName": "Pustode Ayush",
      "photoUrl": "https://lh3.googleusercontent.com/a-/AOh14GiJlrCGz-UuexLNV8mFDI-NmLjTcQ047vLC8lOAsp0=s64",
      "userId": "17475338800285129425"
     },
     "user_tz": -330
    },
    "id": "f9ac0cfd",
    "scrolled": true
   },
   "outputs": [],
   "source": [
    "p = d = q = range(0, 2) # Define the p, d and q parameters to take any value between 0 and 2\n",
    "pdq = list(itertools.product(p, d, q)) # Generate all different combinations of p, q and q triplets\n",
    "pdq_x_QDQs = [(x[0], x[1], x[2], 12) for x in list(itertools.product(p, d, q))] # Generate all different combinations of seasonal p, q and q triplets\n",
    "print('Examples of Seasonal ARIMA parameter combinations for Seasonal ARIMA...')\n",
    "print('SARIMAX: {} x {}'.format(pdq[1], pdq_x_QDQs[1]))\n",
    "print('SARIMAX: {} x {}'.format(pdq[2], pdq_x_QDQs[2]))"
   ]
  },
  {
   "cell_type": "code",
   "execution_count": null,
   "id": "c27c66c4",
   "metadata": {
    "executionInfo": {
     "elapsed": 67,
     "status": "aborted",
     "timestamp": 1642166200070,
     "user": {
      "displayName": "Pustode Ayush",
      "photoUrl": "https://lh3.googleusercontent.com/a-/AOh14GiJlrCGz-UuexLNV8mFDI-NmLjTcQ047vLC8lOAsp0=s64",
      "userId": "17475338800285129425"
     },
     "user_tz": -330
    },
    "id": "c27c66c4",
    "scrolled": true
   },
   "outputs": [],
   "source": [
    "for param in pdq:\n",
    "    for seasonal_param in pdq_x_QDQs:\n",
    "        try:\n",
    "            mod = sm.tsa.statespace.SARIMAX(df,\n",
    "                                            order=param,\n",
    "                                            seasonal_order=seasonal_param,\n",
    "                                            enforce_stationarity=False,\n",
    "                                            enforce_invertibility=False)\n",
    "            results = mod.fit()\n",
    "            print('ARIMA{}x{} - AIC:{}'.format(param, param_seasonal, results.aic))\n",
    "        except:\n",
    "            continue"
   ]
  },
  {
   "cell_type": "code",
   "execution_count": null,
   "id": "b083b2b9",
   "metadata": {
    "executionInfo": {
     "elapsed": 67,
     "status": "aborted",
     "timestamp": 1642166200070,
     "user": {
      "displayName": "Pustode Ayush",
      "photoUrl": "https://lh3.googleusercontent.com/a-/AOh14GiJlrCGz-UuexLNV8mFDI-NmLjTcQ047vLC8lOAsp0=s64",
      "userId": "17475338800285129425"
     },
     "user_tz": -330
    },
    "id": "b083b2b9",
    "scrolled": true
   },
   "outputs": [],
   "source": [
    "mod = sm.tsa.statespace.SARIMAX(train, \n",
    "                                order=(1,1,1), \n",
    "                                seasonal_order=(0,1,1,12),   \n",
    "                                enforce_stationarity=False,\n",
    "                                enforce_invertibility=False)\n",
    "results = mod.fit()\n",
    "print(results.summary())"
   ]
  },
  {
   "cell_type": "code",
   "execution_count": null,
   "id": "ffa24f60",
   "metadata": {
    "executionInfo": {
     "elapsed": 67,
     "status": "aborted",
     "timestamp": 1642166200070,
     "user": {
      "displayName": "Pustode Ayush",
      "photoUrl": "https://lh3.googleusercontent.com/a-/AOh14GiJlrCGz-UuexLNV8mFDI-NmLjTcQ047vLC8lOAsp0=s64",
      "userId": "17475338800285129425"
     },
     "user_tz": -330
    },
    "id": "ffa24f60",
    "scrolled": true
   },
   "outputs": [],
   "source": [
    "results"
   ]
  },
  {
   "cell_type": "code",
   "execution_count": null,
   "id": "4055a7af",
   "metadata": {
    "executionInfo": {
     "elapsed": 67,
     "status": "aborted",
     "timestamp": 1642166200070,
     "user": {
      "displayName": "Pustode Ayush",
      "photoUrl": "https://lh3.googleusercontent.com/a-/AOh14GiJlrCGz-UuexLNV8mFDI-NmLjTcQ047vLC8lOAsp0=s64",
      "userId": "17475338800285129425"
     },
     "user_tz": -330
    },
    "id": "4055a7af",
    "scrolled": true
   },
   "outputs": [],
   "source": [
    "import matplotlib.pyplot as plt\n",
    "plt.plot(results.resid)\n",
    "plt.show()"
   ]
  },
  {
   "cell_type": "code",
   "execution_count": null,
   "id": "f6174672",
   "metadata": {
    "executionInfo": {
     "elapsed": 68,
     "status": "aborted",
     "timestamp": 1642166200071,
     "user": {
      "displayName": "Pustode Ayush",
      "photoUrl": "https://lh3.googleusercontent.com/a-/AOh14GiJlrCGz-UuexLNV8mFDI-NmLjTcQ047vLC8lOAsp0=s64",
      "userId": "17475338800285129425"
     },
     "user_tz": -330
    },
    "id": "f6174672",
    "scrolled": true
   },
   "outputs": [],
   "source": [
    "dataframe = pd.DataFrame(results.resid, columns= ['values'])\n",
    "dataframe"
   ]
  },
  {
   "cell_type": "code",
   "execution_count": null,
   "id": "15f61b4f",
   "metadata": {
    "executionInfo": {
     "elapsed": 68,
     "status": "aborted",
     "timestamp": 1642166200071,
     "user": {
      "displayName": "Pustode Ayush",
      "photoUrl": "https://lh3.googleusercontent.com/a-/AOh14GiJlrCGz-UuexLNV8mFDI-NmLjTcQ047vLC8lOAsp0=s64",
      "userId": "17475338800285129425"
     },
     "user_tz": -330
    },
    "id": "15f61b4f",
    "scrolled": true
   },
   "outputs": [],
   "source": [
    "print(dataframe.describe())"
   ]
  },
  {
   "cell_type": "code",
   "execution_count": null,
   "id": "f7a79414",
   "metadata": {
    "executionInfo": {
     "elapsed": 68,
     "status": "aborted",
     "timestamp": 1642166200071,
     "user": {
      "displayName": "Pustode Ayush",
      "photoUrl": "https://lh3.googleusercontent.com/a-/AOh14GiJlrCGz-UuexLNV8mFDI-NmLjTcQ047vLC8lOAsp0=s64",
      "userId": "17475338800285129425"
     },
     "user_tz": -330
    },
    "id": "f7a79414",
    "scrolled": true
   },
   "outputs": [],
   "source": [
    "dataframe.plot(kind='kde')\n"
   ]
  },
  {
   "cell_type": "code",
   "execution_count": null,
   "id": "cefd02c8",
   "metadata": {
    "executionInfo": {
     "elapsed": 67,
     "status": "aborted",
     "timestamp": 1642166200071,
     "user": {
      "displayName": "Pustode Ayush",
      "photoUrl": "https://lh3.googleusercontent.com/a-/AOh14GiJlrCGz-UuexLNV8mFDI-NmLjTcQ047vLC8lOAsp0=s64",
      "userId": "17475338800285129425"
     },
     "user_tz": -330
    },
    "id": "cefd02c8",
    "scrolled": true
   },
   "outputs": [],
   "source": [
    "results.plot_diagnostics(figsize=(15, 12))\n",
    "plt.show()"
   ]
  },
  {
   "cell_type": "markdown",
   "id": "82ab0ab4",
   "metadata": {
    "id": "82ab0ab4"
   },
   "source": [
    "## Validating prediction"
   ]
  },
  {
   "cell_type": "code",
   "execution_count": null,
   "id": "a4a35019",
   "metadata": {
    "executionInfo": {
     "elapsed": 67,
     "status": "aborted",
     "timestamp": 1642166200071,
     "user": {
      "displayName": "Pustode Ayush",
      "photoUrl": "https://lh3.googleusercontent.com/a-/AOh14GiJlrCGz-UuexLNV8mFDI-NmLjTcQ047vLC8lOAsp0=s64",
      "userId": "17475338800285129425"
     },
     "user_tz": -330
    },
    "id": "a4a35019",
    "scrolled": true
   },
   "outputs": [],
   "source": [
    "results"
   ]
  },
  {
   "cell_type": "code",
   "execution_count": null,
   "id": "a7c8efa0",
   "metadata": {
    "executionInfo": {
     "elapsed": 68,
     "status": "aborted",
     "timestamp": 1642166200072,
     "user": {
      "displayName": "Pustode Ayush",
      "photoUrl": "https://lh3.googleusercontent.com/a-/AOh14GiJlrCGz-UuexLNV8mFDI-NmLjTcQ047vLC8lOAsp0=s64",
      "userId": "17475338800285129425"
     },
     "user_tz": -330
    },
    "id": "a7c8efa0",
    "scrolled": true
   },
   "outputs": [],
   "source": [
    "pred = results.get_prediction(start=len(data)+1, end=len(data)+10, dynamic=False)\n",
    "pred_ci = pred.conf_int()\n",
    "pred_ci"
   ]
  },
  {
   "cell_type": "markdown",
   "id": "c3530993",
   "metadata": {
    "id": "c3530993"
   },
   "source": [
    "The dynamic=False argument ensures that we produce one-step ahead forecasts, meaning that forecasts at each point are generated using the full history up to that point.\n",
    "\n",
    "We can plot the real and forecasted values of the CO2 emission time series to assess how well the model fits."
   ]
  },
  {
   "cell_type": "code",
   "execution_count": null,
   "id": "99bc2da1",
   "metadata": {
    "executionInfo": {
     "elapsed": 68,
     "status": "aborted",
     "timestamp": 1642166200072,
     "user": {
      "displayName": "Pustode Ayush",
      "photoUrl": "https://lh3.googleusercontent.com/a-/AOh14GiJlrCGz-UuexLNV8mFDI-NmLjTcQ047vLC8lOAsp0=s64",
      "userId": "17475338800285129425"
     },
     "user_tz": -330
    },
    "id": "99bc2da1",
    "scrolled": true
   },
   "outputs": [],
   "source": [
    "ax = df['2001':].plot(label='observed')\n",
    "pred.predicted_mean.plot(ax=ax, label='One-step ahead forecast', alpha=.7)\n",
    "\n",
    "ax.fill_between(pred_ci.index,\n",
    "                pred_ci.iloc[:, 0],\n",
    "                pred_ci.iloc[:, 1], color='r', alpha=.5)\n",
    "\n",
    "ax.set_xlabel('Time (years)')\n",
    "ax.set_ylabel('NG CO2 Emissions')\n",
    "plt.legend()\n",
    "\n",
    "# plt.show()"
   ]
  },
  {
   "cell_type": "code",
   "execution_count": null,
   "id": "df5beefe",
   "metadata": {
    "executionInfo": {
     "elapsed": 68,
     "status": "aborted",
     "timestamp": 1642166200072,
     "user": {
      "displayName": "Pustode Ayush",
      "photoUrl": "https://lh3.googleusercontent.com/a-/AOh14GiJlrCGz-UuexLNV8mFDI-NmLjTcQ047vLC8lOAsp0=s64",
      "userId": "17475338800285129425"
     },
     "user_tz": -330
    },
    "id": "df5beefe",
    "scrolled": true
   },
   "outputs": [],
   "source": [
    "from pandas import Series\n",
    "from numpy.random import randn"
   ]
  },
  {
   "cell_type": "code",
   "execution_count": null,
   "id": "64907ff3",
   "metadata": {
    "executionInfo": {
     "elapsed": 68,
     "status": "aborted",
     "timestamp": 1642166200072,
     "user": {
      "displayName": "Pustode Ayush",
      "photoUrl": "https://lh3.googleusercontent.com/a-/AOh14GiJlrCGz-UuexLNV8mFDI-NmLjTcQ047vLC8lOAsp0=s64",
      "userId": "17475338800285129425"
     },
     "user_tz": -330
    },
    "id": "64907ff3",
    "scrolled": true
   },
   "outputs": [],
   "source": [
    "mte_forecast = pred.predicted_mean\n",
    "mte_truth = df['2005-01-01':]\n",
    "\n",
    "ctn=mte_truth.to_numpy(dtype ='float32')\n",
    "\n",
    "# Compute the mean square error\n",
    "mse = ((mte_forecast - ctn)**2 ).mean()\n",
    "print('The Mean Squared Error (MSE) of the forecast is {}'.format(round(mse, 2)))\n",
    "#print('The Root Mean Square Error (RMSE) of the forcast: {:.4f}'.format(np.sqrt(sum((mte_forecast-ctn)**2)/len(mte_forecast))))\n",
    "print('The Root Mean Square Error (RMSE) of the forcast: {:.4f}'.format(np.sqrt((mte_forecast - ctn)**2 ).mean()))"
   ]
  },
  {
   "cell_type": "code",
   "execution_count": null,
   "id": "64510c26",
   "metadata": {
    "executionInfo": {
     "elapsed": 69,
     "status": "aborted",
     "timestamp": 1642166200073,
     "user": {
      "displayName": "Pustode Ayush",
      "photoUrl": "https://lh3.googleusercontent.com/a-/AOh14GiJlrCGz-UuexLNV8mFDI-NmLjTcQ047vLC8lOAsp0=s64",
      "userId": "17475338800285129425"
     },
     "user_tz": -330
    },
    "id": "64510c26",
    "scrolled": true
   },
   "outputs": [],
   "source": [
    "rmse_SARIMA = 1.1230"
   ]
  },
  {
   "cell_type": "code",
   "execution_count": null,
   "id": "f595a091",
   "metadata": {
    "executionInfo": {
     "elapsed": 69,
     "status": "aborted",
     "timestamp": 1642166200073,
     "user": {
      "displayName": "Pustode Ayush",
      "photoUrl": "https://lh3.googleusercontent.com/a-/AOh14GiJlrCGz-UuexLNV8mFDI-NmLjTcQ047vLC8lOAsp0=s64",
      "userId": "17475338800285129425"
     },
     "user_tz": -330
    },
    "id": "f595a091",
    "scrolled": true
   },
   "outputs": [],
   "source": []
  },
  {
   "cell_type": "markdown",
   "id": "30f696fc",
   "metadata": {
    "id": "30f696fc"
   },
   "source": [
    "## Super vector regression - SVR"
   ]
  },
  {
   "cell_type": "code",
   "execution_count": null,
   "id": "f24e7002",
   "metadata": {
    "executionInfo": {
     "elapsed": 69,
     "status": "aborted",
     "timestamp": 1642166200073,
     "user": {
      "displayName": "Pustode Ayush",
      "photoUrl": "https://lh3.googleusercontent.com/a-/AOh14GiJlrCGz-UuexLNV8mFDI-NmLjTcQ047vLC8lOAsp0=s64",
      "userId": "17475338800285129425"
     },
     "user_tz": -330
    },
    "id": "f24e7002",
    "scrolled": true
   },
   "outputs": [],
   "source": [
    "import pandas as pd\n",
    "import numpy as np\n",
    "import math\n",
    "import datetime as dt\n",
    "from sklearn.metrics import mean_squared_error, mean_absolute_error, explained_variance_score, r2_score \n",
    "from sklearn.metrics import mean_poisson_deviance, mean_gamma_deviance, accuracy_score\n",
    "from sklearn.preprocessing import MinMaxScaler\n",
    "!\n",
    "import tensorflow as tf\n",
    "from tensorflow.keras.models import Sequential\n",
    "from tensorflow.keras.layers import Dense\n",
    "from tensorflow.keras.layers import LSTM, GRU\n",
    "\n",
    "from itertools import cycle\n",
    "\n",
    "# ! pip install plotly\n",
    "import plotly.graph_objects as go\n",
    "import plotly.express as px\n",
    "from plotly.subplots import make_subplots\n"
   ]
  },
  {
   "cell_type": "code",
   "execution_count": null,
   "id": "e5e1ca12",
   "metadata": {
    "executionInfo": {
     "elapsed": 69,
     "status": "aborted",
     "timestamp": 1642166200074,
     "user": {
      "displayName": "Pustode Ayush",
      "photoUrl": "https://lh3.googleusercontent.com/a-/AOh14GiJlrCGz-UuexLNV8mFDI-NmLjTcQ047vLC8lOAsp0=s64",
      "userId": "17475338800285129425"
     },
     "user_tz": -330
    },
    "id": "e5e1ca12",
    "scrolled": true
   },
   "outputs": [],
   "source": [
    "air= air_quality[['Year','CO2']]\n",
    "print(\"Shape of close dataframe:\", air.shape)"
   ]
  },
  {
   "cell_type": "code",
   "execution_count": null,
   "id": "da2947e1",
   "metadata": {
    "executionInfo": {
     "elapsed": 69,
     "status": "aborted",
     "timestamp": 1642166200074,
     "user": {
      "displayName": "Pustode Ayush",
      "photoUrl": "https://lh3.googleusercontent.com/a-/AOh14GiJlrCGz-UuexLNV8mFDI-NmLjTcQ047vLC8lOAsp0=s64",
      "userId": "17475338800285129425"
     },
     "user_tz": -330
    },
    "id": "da2947e1",
    "scrolled": true
   },
   "outputs": [],
   "source": [
    "air"
   ]
  },
  {
   "cell_type": "code",
   "execution_count": null,
   "id": "cbc05b85",
   "metadata": {
    "executionInfo": {
     "elapsed": 69,
     "status": "aborted",
     "timestamp": 1642166200074,
     "user": {
      "displayName": "Pustode Ayush",
      "photoUrl": "https://lh3.googleusercontent.com/a-/AOh14GiJlrCGz-UuexLNV8mFDI-NmLjTcQ047vLC8lOAsp0=s64",
      "userId": "17475338800285129425"
     },
     "user_tz": -330
    },
    "id": "cbc05b85",
    "scrolled": true
   },
   "outputs": [],
   "source": [
    "del air['Year']\n",
    "scaler=MinMaxScaler(feature_range=(0,1))\n",
    "air=scaler.fit_transform(np.array(air).reshape(-1,1))\n",
    "print(air.shape)\n",
    "air"
   ]
  },
  {
   "cell_type": "code",
   "execution_count": null,
   "id": "ac95ecc9",
   "metadata": {
    "executionInfo": {
     "elapsed": 70,
     "status": "aborted",
     "timestamp": 1642166200075,
     "user": {
      "displayName": "Pustode Ayush",
      "photoUrl": "https://lh3.googleusercontent.com/a-/AOh14GiJlrCGz-UuexLNV8mFDI-NmLjTcQ047vLC8lOAsp0=s64",
      "userId": "17475338800285129425"
     },
     "user_tz": -330
    },
    "id": "ac95ecc9",
    "scrolled": true
   },
   "outputs": [],
   "source": [
    "training_size=int(len(air)*0.85)\n",
    "test_size=len(air)-training_size\n",
    "train_data,test_data=air[0:training_size,:],air[training_size:len(air),:1]\n",
    "print(\"train_data: \", train_data.shape)\n",
    "print(\"test_data: \", test_data.shape)"
   ]
  },
  {
   "cell_type": "code",
   "execution_count": null,
   "id": "e18e4ba2",
   "metadata": {
    "executionInfo": {
     "elapsed": 70,
     "status": "aborted",
     "timestamp": 1642166200075,
     "user": {
      "displayName": "Pustode Ayush",
      "photoUrl": "https://lh3.googleusercontent.com/a-/AOh14GiJlrCGz-UuexLNV8mFDI-NmLjTcQ047vLC8lOAsp0=s64",
      "userId": "17475338800285129425"
     },
     "user_tz": -330
    },
    "id": "e18e4ba2",
    "scrolled": true
   },
   "outputs": [],
   "source": [
    "def create_dataset(dataset, time_step=1):\n",
    "    dataX, dataY = [], []\n",
    "    for i in range(len(dataset)-time_step-1):\n",
    "        a = dataset[i:(i+time_step), 0]   ###i=0, 0,1,2,3-----99   100 \n",
    "        dataX.append(a)\n",
    "        dataY.append(dataset[i + time_step, 0])\n",
    "    return np.array(dataX), np.array(dataY)"
   ]
  },
  {
   "cell_type": "code",
   "execution_count": null,
   "id": "16de11d7",
   "metadata": {
    "executionInfo": {
     "elapsed": 71,
     "status": "aborted",
     "timestamp": 1642166200076,
     "user": {
      "displayName": "Pustode Ayush",
      "photoUrl": "https://lh3.googleusercontent.com/a-/AOh14GiJlrCGz-UuexLNV8mFDI-NmLjTcQ047vLC8lOAsp0=s64",
      "userId": "17475338800285129425"
     },
     "user_tz": -330
    },
    "id": "16de11d7",
    "scrolled": true
   },
   "outputs": [],
   "source": [
    "time_step = 15\n",
    "X_train, y_train = create_dataset(train_data, time_step)\n",
    "X_test, y_test = create_dataset(test_data, time_step)\n",
    "\n",
    "print(\"X_train: \", X_train.shape)\n",
    "print(\"y_train: \", y_train.shape)\n",
    "print(\"X_test: \", X_test.shape)\n",
    "print(\"y_test\", y_test.shape)"
   ]
  },
  {
   "cell_type": "code",
   "execution_count": null,
   "id": "aada02af",
   "metadata": {
    "executionInfo": {
     "elapsed": 71,
     "status": "aborted",
     "timestamp": 1642166200076,
     "user": {
      "displayName": "Pustode Ayush",
      "photoUrl": "https://lh3.googleusercontent.com/a-/AOh14GiJlrCGz-UuexLNV8mFDI-NmLjTcQ047vLC8lOAsp0=s64",
      "userId": "17475338800285129425"
     },
     "user_tz": -330
    },
    "id": "aada02af",
    "scrolled": true
   },
   "outputs": [],
   "source": [
    "from sklearn.svm import SVR\n",
    "\n",
    "svr_rbf =SVR(kernel='rbf', degree=3, gamma='scale', \n",
    "              coef0=0.0, tol=0.001, C=1.0, epsilon=0.1, \n",
    "              shrinking=True, cache_size=200, verbose=False, max_iter=- 1)\n",
    "svr_rbf.fit(X_train, y_train)"
   ]
  },
  {
   "cell_type": "code",
   "execution_count": null,
   "id": "19f48d1d",
   "metadata": {
    "executionInfo": {
     "elapsed": 71,
     "status": "aborted",
     "timestamp": 1642166200076,
     "user": {
      "displayName": "Pustode Ayush",
      "photoUrl": "https://lh3.googleusercontent.com/a-/AOh14GiJlrCGz-UuexLNV8mFDI-NmLjTcQ047vLC8lOAsp0=s64",
      "userId": "17475338800285129425"
     },
     "user_tz": -330
    },
    "id": "19f48d1d",
    "scrolled": true
   },
   "outputs": [],
   "source": [
    "train_predict=svr_rbf.predict(X_train)\n",
    "test_predict=svr_rbf.predict(X_test)\n",
    "\n",
    "train_predict = train_predict.reshape(-1,1)\n",
    "test_predict = test_predict.reshape(-1,1)\n",
    "\n",
    "print(\"Train data prediction:\", train_predict.shape)\n",
    "print(\"Test data prediction:\", test_predict.shape)"
   ]
  },
  {
   "cell_type": "code",
   "execution_count": null,
   "id": "7b07d4cc",
   "metadata": {
    "executionInfo": {
     "elapsed": 71,
     "status": "aborted",
     "timestamp": 1642166200077,
     "user": {
      "displayName": "Pustode Ayush",
      "photoUrl": "https://lh3.googleusercontent.com/a-/AOh14GiJlrCGz-UuexLNV8mFDI-NmLjTcQ047vLC8lOAsp0=s64",
      "userId": "17475338800285129425"
     },
     "user_tz": -330
    },
    "id": "7b07d4cc",
    "scrolled": true
   },
   "outputs": [],
   "source": [
    "train_predict = scaler.inverse_transform(train_predict)\n",
    "test_predict = scaler.inverse_transform(test_predict)\n",
    "original_ytrain = scaler.inverse_transform(y_train.reshape(-1,1)) \n",
    "original_ytest = scaler.inverse_transform(y_test.reshape(-1,1))"
   ]
  },
  {
   "cell_type": "markdown",
   "id": "c2f0f1c7",
   "metadata": {
    "id": "c2f0f1c7"
   },
   "source": [
    "### Evaluation metrices RMSE, MSE and MAE"
   ]
  },
  {
   "cell_type": "markdown",
   "id": "0800760c",
   "metadata": {
    "id": "0800760c"
   },
   "source": [
    "Root Mean Square Error (RMSE), Mean Square Error (MSE) and Mean absolute Error (MAE) are a standard way to measure the error of a model in predicting quantitative data."
   ]
  },
  {
   "cell_type": "code",
   "execution_count": null,
   "id": "551ed4e7",
   "metadata": {
    "executionInfo": {
     "elapsed": 72,
     "status": "aborted",
     "timestamp": 1642166200078,
     "user": {
      "displayName": "Pustode Ayush",
      "photoUrl": "https://lh3.googleusercontent.com/a-/AOh14GiJlrCGz-UuexLNV8mFDI-NmLjTcQ047vLC8lOAsp0=s64",
      "userId": "17475338800285129425"
     },
     "user_tz": -330
    },
    "id": "551ed4e7",
    "scrolled": true
   },
   "outputs": [],
   "source": []
  },
  {
   "cell_type": "code",
   "execution_count": null,
   "id": "82051723",
   "metadata": {
    "executionInfo": {
     "elapsed": 73,
     "status": "aborted",
     "timestamp": 1642166200079,
     "user": {
      "displayName": "Pustode Ayush",
      "photoUrl": "https://lh3.googleusercontent.com/a-/AOh14GiJlrCGz-UuexLNV8mFDI-NmLjTcQ047vLC8lOAsp0=s64",
      "userId": "17475338800285129425"
     },
     "user_tz": -330
    },
    "id": "82051723",
    "scrolled": true
   },
   "outputs": [],
   "source": [
    "rmse_svr = math.sqrt(mean_squared_error(original_ytest,test_predict))\n",
    "print(\"Train data RMSE: \", math.sqrt(mean_squared_error(original_ytrain,train_predict)))\n",
    "print(\"Train data MSE: \", mean_squared_error(original_ytrain,train_predict))\n",
    "print(\"Train data MAE: \", mean_absolute_error(original_ytrain,train_predict))\n",
    "print(\"-------------------------------------------------------------------------------------\")\n",
    "print(\"Test data RMSE: \", math.sqrt(mean_squared_error(original_ytest,test_predict)))\n",
    "print(\"Test data MSE: \", mean_squared_error(original_ytest,test_predict))\n",
    "print(\"Test data MAE: \", mean_absolute_error(original_ytest,test_predict))"
   ]
  },
  {
   "cell_type": "markdown",
   "id": "7b30a65b",
   "metadata": {
    "id": "7b30a65b"
   },
   "source": [
    "### Explained variance regression score"
   ]
  },
  {
   "cell_type": "markdown",
   "id": "d2407e75",
   "metadata": {
    "id": "d2407e75"
   },
   "source": [
    "The explained variance score explains the dispersion of errors of a given dataset, and the formula is written as follows: Here, and Var(y) is the variance of prediction errors and actual values respectively. Scores close to 1.0 are highly desired, indicating better squares of standard deviations of errors."
   ]
  },
  {
   "cell_type": "code",
   "execution_count": null,
   "id": "5eefbf47",
   "metadata": {
    "executionInfo": {
     "elapsed": 74,
     "status": "aborted",
     "timestamp": 1642166200080,
     "user": {
      "displayName": "Pustode Ayush",
      "photoUrl": "https://lh3.googleusercontent.com/a-/AOh14GiJlrCGz-UuexLNV8mFDI-NmLjTcQ047vLC8lOAsp0=s64",
      "userId": "17475338800285129425"
     },
     "user_tz": -330
    },
    "id": "5eefbf47",
    "scrolled": true
   },
   "outputs": [],
   "source": [
    "print(\"Train data explained variance regression score:\", explained_variance_score(original_ytrain, train_predict))\n",
    "print(\"Test data explained variance regression score:\", explained_variance_score(original_ytest, test_predict))"
   ]
  },
  {
   "cell_type": "markdown",
   "id": "2ad45273",
   "metadata": {
    "id": "2ad45273"
   },
   "source": [
    "### R2 score for regression"
   ]
  },
  {
   "cell_type": "markdown",
   "id": "34ac70fe",
   "metadata": {
    "id": "34ac70fe"
   },
   "source": [
    "R-squared (R2) is a statistical measure that represents the proportion of the variance for a dependent variable that's explained by an independent variable or variables in a regression model.\n",
    "\n",
    "1 = Best 0 or < 0 = worse"
   ]
  },
  {
   "cell_type": "code",
   "execution_count": null,
   "id": "2528d45e",
   "metadata": {
    "executionInfo": {
     "elapsed": 74,
     "status": "aborted",
     "timestamp": 1642166200080,
     "user": {
      "displayName": "Pustode Ayush",
      "photoUrl": "https://lh3.googleusercontent.com/a-/AOh14GiJlrCGz-UuexLNV8mFDI-NmLjTcQ047vLC8lOAsp0=s64",
      "userId": "17475338800285129425"
     },
     "user_tz": -330
    },
    "id": "2528d45e",
    "scrolled": true
   },
   "outputs": [],
   "source": [
    "print(\"Train data R2 score:\", r2_score(original_ytrain, train_predict))\n",
    "print(\"Test data R2 score:\", r2_score(original_ytest, test_predict))"
   ]
  },
  {
   "cell_type": "markdown",
   "id": "0cdfb972",
   "metadata": {
    "id": "0cdfb972"
   },
   "source": [
    "### Regression Loss Mean Gamma deviance regression loss (MGD) and Mean Poisson deviance regression loss (MPD)"
   ]
  },
  {
   "cell_type": "code",
   "execution_count": null,
   "id": "d1ed1e6d",
   "metadata": {
    "executionInfo": {
     "elapsed": 75,
     "status": "aborted",
     "timestamp": 1642166200081,
     "user": {
      "displayName": "Pustode Ayush",
      "photoUrl": "https://lh3.googleusercontent.com/a-/AOh14GiJlrCGz-UuexLNV8mFDI-NmLjTcQ047vLC8lOAsp0=s64",
      "userId": "17475338800285129425"
     },
     "user_tz": -330
    },
    "id": "d1ed1e6d",
    "scrolled": true
   },
   "outputs": [],
   "source": [
    "print(\"Train data MGD: \", mean_gamma_deviance(original_ytrain, train_predict))\n",
    "print(\"Test data MGD: \", mean_gamma_deviance(original_ytest, test_predict))\n",
    "print(\"----------------------------------------------------------------------\")\n",
    "print(\"Train data MPD: \", mean_poisson_deviance(original_ytrain, train_predict))\n",
    "print(\"Test data MPD: \", mean_poisson_deviance(original_ytest, test_predict))"
   ]
  },
  {
   "cell_type": "code",
   "execution_count": null,
   "id": "cd835405",
   "metadata": {
    "executionInfo": {
     "elapsed": 75,
     "status": "aborted",
     "timestamp": 1642166200081,
     "user": {
      "displayName": "Pustode Ayush",
      "photoUrl": "https://lh3.googleusercontent.com/a-/AOh14GiJlrCGz-UuexLNV8mFDI-NmLjTcQ047vLC8lOAsp0=s64",
      "userId": "17475338800285129425"
     },
     "user_tz": -330
    },
    "id": "cd835405",
    "scrolled": true
   },
   "outputs": [],
   "source": [
    "test_predict"
   ]
  },
  {
   "cell_type": "code",
   "execution_count": null,
   "id": "1d6433ec",
   "metadata": {
    "executionInfo": {
     "elapsed": 76,
     "status": "aborted",
     "timestamp": 1642166200082,
     "user": {
      "displayName": "Pustode Ayush",
      "photoUrl": "https://lh3.googleusercontent.com/a-/AOh14GiJlrCGz-UuexLNV8mFDI-NmLjTcQ047vLC8lOAsp0=s64",
      "userId": "17475338800285129425"
     },
     "user_tz": -330
    },
    "id": "1d6433ec",
    "scrolled": true
   },
   "outputs": [],
   "source": [
    "air_data=air_quality[['Year','CO2']]\n",
    "air_data"
   ]
  },
  {
   "cell_type": "code",
   "execution_count": null,
   "id": "884e1f8d",
   "metadata": {
    "executionInfo": {
     "elapsed": 75,
     "status": "aborted",
     "timestamp": 1642166200082,
     "user": {
      "displayName": "Pustode Ayush",
      "photoUrl": "https://lh3.googleusercontent.com/a-/AOh14GiJlrCGz-UuexLNV8mFDI-NmLjTcQ047vLC8lOAsp0=s64",
      "userId": "17475338800285129425"
     },
     "user_tz": -330
    },
    "id": "884e1f8d",
    "scrolled": true
   },
   "outputs": [],
   "source": [
    "# shift train predictions for plotting\n",
    "\n",
    "look_back=time_step\n",
    "trainPredictPlot = np.empty_like(air)\n",
    "trainPredictPlot[:, :] = np.nan\n",
    "trainPredictPlot[look_back:len(train_predict)+look_back, :] = train_predict\n",
    "print(\"Train predicted data: \", trainPredictPlot.shape)\n",
    "\n",
    "# shift test predictions for plotting\n",
    "testPredictPlot = np.empty_like(air)\n",
    "testPredictPlot[:, :] = np.nan\n",
    "testPredictPlot[len(train_predict)+(look_back*2)+1:len(air)-1, :] = test_predict\n",
    "print(\"Test predicted data: \", testPredictPlot.shape)\n",
    "\n",
    "\n",
    "\n",
    "\n",
    "\n",
    "plotdf = pd.DataFrame({'Year': air_data['Year'],\n",
    "                       'original_CO2': air_data['CO2'],\n",
    "                      'train_predicted_CO2': trainPredictPlot.reshape(1,-1)[0].tolist(),\n",
    "                      'test_predicted_CO2': testPredictPlot.reshape(1,-1)[0].tolist()})\n",
    "\n",
    "fig = px.line(plotdf,x=plotdf['Year'], y=[plotdf['original_CO2'],plotdf['train_predicted_CO2'],\n",
    "                                          plotdf['test_predicted_CO2']],\n",
    "              labels={'value':'co2','year': 'Year'})\n",
    "fig.update_layout(title_text='Comparision between original co2 Level vs predicted co2 level',\n",
    "                  plot_bgcolor='white', font_size=15, font_color='black',legend_title_text='Close Price')\n",
    "\n",
    "\n",
    "fig.update_xaxes(showgrid=False)\n",
    "fig.update_yaxes(showgrid=False)\n",
    "fig.show()"
   ]
  },
  {
   "cell_type": "code",
   "execution_count": null,
   "id": "d7861c2a",
   "metadata": {
    "executionInfo": {
     "elapsed": 75,
     "status": "aborted",
     "timestamp": 1642166200082,
     "user": {
      "displayName": "Pustode Ayush",
      "photoUrl": "https://lh3.googleusercontent.com/a-/AOh14GiJlrCGz-UuexLNV8mFDI-NmLjTcQ047vLC8lOAsp0=s64",
      "userId": "17475338800285129425"
     },
     "user_tz": -330
    },
    "id": "d7861c2a",
    "scrolled": true
   },
   "outputs": [],
   "source": [
    "plotdf = pd.DataFrame({'Year': air_data['Year'],\n",
    "                       'original_CO2': air_data['CO2'],\n",
    "                      'train_predicted_CO2': trainPredictPlot.reshape(1,-1)[0].tolist(),\n",
    "                      'test_predicted_CO2': testPredictPlot.reshape(1,-1)[0].tolist()})\n",
    "plotdf.tail(50)"
   ]
  },
  {
   "cell_type": "markdown",
   "id": "06a90451",
   "metadata": {
    "id": "06a90451"
   },
   "source": [
    "## LSTM Network for Regression"
   ]
  },
  {
   "cell_type": "markdown",
   "id": "f257f7f2",
   "metadata": {
    "id": "f257f7f2"
   },
   "source": [
    "The unit is called a long short-term memory block because the program is using a structure founded on short-term memory processes to create longer-term memory.... In general, LSTM is an accepted and common concept in pioneering recurrent neural networks."
   ]
  },
  {
   "cell_type": "markdown",
   "id": "8df47529",
   "metadata": {
    "id": "8df47529"
   },
   "source": [
    "We can write a simple function to convert our single column of data into a two-column dataset: the first column containing this month’s (t) passenger count and the second column containing next month’s (t+1) passenger count, to be predicted."
   ]
  },
  {
   "cell_type": "code",
   "execution_count": null,
   "id": "de3f5462",
   "metadata": {
    "executionInfo": {
     "elapsed": 76,
     "status": "aborted",
     "timestamp": 1642166200083,
     "user": {
      "displayName": "Pustode Ayush",
      "photoUrl": "https://lh3.googleusercontent.com/a-/AOh14GiJlrCGz-UuexLNV8mFDI-NmLjTcQ047vLC8lOAsp0=s64",
      "userId": "17475338800285129425"
     },
     "user_tz": -330
    },
    "id": "de3f5462",
    "scrolled": true
   },
   "outputs": [],
   "source": [
    "train_size = int(len(air) * 0.67)\n",
    "test_size = len(air) - train_size\n",
    "train, test = air[0:train_size,:], air[train_size:len(air),:]\n",
    "print(len(train), len(test))"
   ]
  },
  {
   "cell_type": "code",
   "execution_count": null,
   "id": "e438521f",
   "metadata": {
    "executionInfo": {
     "elapsed": 76,
     "status": "aborted",
     "timestamp": 1642166200083,
     "user": {
      "displayName": "Pustode Ayush",
      "photoUrl": "https://lh3.googleusercontent.com/a-/AOh14GiJlrCGz-UuexLNV8mFDI-NmLjTcQ047vLC8lOAsp0=s64",
      "userId": "17475338800285129425"
     },
     "user_tz": -330
    },
    "id": "e438521f",
    "scrolled": true
   },
   "outputs": [],
   "source": [
    "training_size=int(len(air)*0.67)\n",
    "test_size=len(air)-training_size\n",
    "train_data,test_data=air[0:training_size,:],air[training_size:len(air),:1]\n",
    "print(\"train_data: \", train_data.shape)\n",
    "print(\"test_data: \", test_data.shape)\n"
   ]
  },
  {
   "cell_type": "code",
   "execution_count": null,
   "id": "60b040ef",
   "metadata": {
    "executionInfo": {
     "elapsed": 77,
     "status": "aborted",
     "timestamp": 1642166200084,
     "user": {
      "displayName": "Pustode Ayush",
      "photoUrl": "https://lh3.googleusercontent.com/a-/AOh14GiJlrCGz-UuexLNV8mFDI-NmLjTcQ047vLC8lOAsp0=s64",
      "userId": "17475338800285129425"
     },
     "user_tz": -330
    },
    "id": "60b040ef",
    "scrolled": true
   },
   "outputs": [],
   "source": [
    "X_train =X_train.reshape(X_train.shape[0],X_train.shape[1] , 1)\n",
    "X_test = X_test.reshape(X_test.shape[0],X_test.shape[1] , 1)\n",
    "\n",
    "print(\"X_train: \", X_train.shape)\n",
    "print(\"X_test: \", X_test.shape)"
   ]
  },
  {
   "cell_type": "code",
   "execution_count": null,
   "id": "cf34d151",
   "metadata": {
    "executionInfo": {
     "elapsed": 77,
     "status": "aborted",
     "timestamp": 1642166200084,
     "user": {
      "displayName": "Pustode Ayush",
      "photoUrl": "https://lh3.googleusercontent.com/a-/AOh14GiJlrCGz-UuexLNV8mFDI-NmLjTcQ047vLC8lOAsp0=s64",
      "userId": "17475338800285129425"
     },
     "user_tz": -330
    },
    "id": "cf34d151",
    "scrolled": true
   },
   "outputs": [],
   "source": [
    "tf.keras.backend.clear_session()\n",
    "model=Sequential()\n",
    "model.add(LSTM(32,return_sequences=True,input_shape=(time_step,1)))\n",
    "model.add(LSTM(32,return_sequences=True))\n",
    "model.add(LSTM(32))\n",
    "model.add(Dense(1))\n",
    "model.compile(loss='mean_squared_error',optimizer='adam')"
   ]
  },
  {
   "cell_type": "code",
   "execution_count": null,
   "id": "1fab0fe6",
   "metadata": {
    "executionInfo": {
     "elapsed": 77,
     "status": "aborted",
     "timestamp": 1642166200084,
     "user": {
      "displayName": "Pustode Ayush",
      "photoUrl": "https://lh3.googleusercontent.com/a-/AOh14GiJlrCGz-UuexLNV8mFDI-NmLjTcQ047vLC8lOAsp0=s64",
      "userId": "17475338800285129425"
     },
     "user_tz": -330
    },
    "id": "1fab0fe6",
    "scrolled": true
   },
   "outputs": [],
   "source": [
    "model.fit(X_train,y_train,validation_data=(X_test,y_test),epochs=200,batch_size=5,verbose=1)"
   ]
  },
  {
   "cell_type": "code",
   "execution_count": null,
   "id": "8cbe6804",
   "metadata": {
    "executionInfo": {
     "elapsed": 78,
     "status": "aborted",
     "timestamp": 1642166200085,
     "user": {
      "displayName": "Pustode Ayush",
      "photoUrl": "https://lh3.googleusercontent.com/a-/AOh14GiJlrCGz-UuexLNV8mFDI-NmLjTcQ047vLC8lOAsp0=s64",
      "userId": "17475338800285129425"
     },
     "user_tz": -330
    },
    "id": "8cbe6804",
    "scrolled": true
   },
   "outputs": [],
   "source": [
    "### Lets Do the prediction and check performance metrics\n",
    "train_predict=model.predict(X_train)\n",
    "test_predict=model.predict(X_test)\n",
    "train_predict.shape, test_predict.shape"
   ]
  },
  {
   "cell_type": "code",
   "execution_count": null,
   "id": "a32bbeea",
   "metadata": {
    "executionInfo": {
     "elapsed": 78,
     "status": "aborted",
     "timestamp": 1642166200085,
     "user": {
      "displayName": "Pustode Ayush",
      "photoUrl": "https://lh3.googleusercontent.com/a-/AOh14GiJlrCGz-UuexLNV8mFDI-NmLjTcQ047vLC8lOAsp0=s64",
      "userId": "17475338800285129425"
     },
     "user_tz": -330
    },
    "id": "a32bbeea",
    "scrolled": true
   },
   "outputs": [],
   "source": [
    "\n",
    "train_predict = scaler.inverse_transform(train_predict)\n",
    "test_predict = scaler.inverse_transform(test_predict)\n",
    "original_ytrain = scaler.inverse_transform(y_train.reshape(-1,1)) \n",
    "original_ytest = scaler.inverse_transform(y_test.reshape(-1,1)) "
   ]
  },
  {
   "cell_type": "markdown",
   "id": "ad160210",
   "metadata": {
    "id": "ad160210"
   },
   "source": [
    "### Evaluation metrices RMSE, MSE and MAE"
   ]
  },
  {
   "cell_type": "markdown",
   "id": "14c3d883",
   "metadata": {
    "id": "14c3d883"
   },
   "source": [
    "Root Mean Square Error (RMSE), Mean Square Error (MSE) and Mean absolute Error (MAE) are a standard way to measure the error of a model in predicting quantitative data"
   ]
  },
  {
   "cell_type": "code",
   "execution_count": 448,
   "id": "fd21703f",
   "metadata": {
    "executionInfo": {
     "elapsed": 77,
     "status": "aborted",
     "timestamp": 1642166200085,
     "user": {
      "displayName": "Pustode Ayush",
      "photoUrl": "https://lh3.googleusercontent.com/a-/AOh14GiJlrCGz-UuexLNV8mFDI-NmLjTcQ047vLC8lOAsp0=s64",
      "userId": "17475338800285129425"
     },
     "user_tz": -330
    },
    "id": "fd21703f",
    "scrolled": true
   },
   "outputs": [
    {
     "name": "stdout",
     "output_type": "stream",
     "text": [
      "Train data RMSE:  1.30761414060647\n",
      "Train data MSE:  1.7098547407139972\n",
      "Test data MAE:  1.1417736251759627\n",
      "-------------------------------------------------------------------------------------\n",
      "Test data RMSE:  1.4787544602602427\n",
      "Test data MSE:  2.1867147537395617\n",
      "Test data MAE:  1.3726134670535506\n"
     ]
    }
   ],
   "source": [
    "lstm_rmse = math.sqrt(mean_squared_error(original_ytrain,train_predict))\n",
    "print(\"Train data RMSE: \", math.sqrt(mean_squared_error(original_ytrain,train_predict)))\n",
    "print(\"Train data MSE: \", mean_squared_error(original_ytrain,train_predict))\n",
    "print(\"Test data MAE: \", mean_absolute_error(original_ytrain,train_predict))\n",
    "print(\"-------------------------------------------------------------------------------------\")\n",
    "print(\"Test data RMSE: \", math.sqrt(mean_squared_error(original_ytest,test_predict)))\n",
    "print(\"Test data MSE: \", mean_squared_error(original_ytest,test_predict))\n",
    "print(\"Test data MAE: \", mean_absolute_error(original_ytest,test_predict))"
   ]
  },
  {
   "cell_type": "markdown",
   "id": "f918f866",
   "metadata": {
    "id": "f918f866"
   },
   "source": [
    "### Explained variance regression score"
   ]
  },
  {
   "cell_type": "markdown",
   "id": "9ae2af3b",
   "metadata": {
    "id": "9ae2af3b"
   },
   "source": [
    "The explained variance score explains the dispersion of errors of a given dataset, and the formula is written as follows: Here, and Var(y) is the variance of prediction errors and actual values respectively. Scores close to 1.0 are highly desired, indicating better squares of standard deviations of errors"
   ]
  },
  {
   "cell_type": "code",
   "execution_count": 449,
   "id": "5a2293e5",
   "metadata": {
    "executionInfo": {
     "elapsed": 77,
     "status": "aborted",
     "timestamp": 1642166200085,
     "user": {
      "displayName": "Pustode Ayush",
      "photoUrl": "https://lh3.googleusercontent.com/a-/AOh14GiJlrCGz-UuexLNV8mFDI-NmLjTcQ047vLC8lOAsp0=s64",
      "userId": "17475338800285129425"
     },
     "user_tz": -330
    },
    "id": "5a2293e5",
    "scrolled": true
   },
   "outputs": [
    {
     "name": "stdout",
     "output_type": "stream",
     "text": [
      "Train data explained variance regression score: 0.953739607796777\n",
      "Test data explained variance regression score: 0.5690105948605151\n"
     ]
    }
   ],
   "source": [
    "print(\"Train data explained variance regression score:\", explained_variance_score(original_ytrain, train_predict))\n",
    "print(\"Test data explained variance regression score:\", explained_variance_score(original_ytest, test_predict))"
   ]
  },
  {
   "cell_type": "markdown",
   "id": "6b1035df",
   "metadata": {
    "id": "6b1035df"
   },
   "source": [
    "### R2 score for regression"
   ]
  },
  {
   "cell_type": "markdown",
   "id": "fe833e34",
   "metadata": {
    "id": "fe833e34"
   },
   "source": [
    "R-squared (R2) is a statistical measure that represents the proportion of the variance for a dependent variable that's explained by an independent variable or variables in a regression model."
   ]
  },
  {
   "cell_type": "markdown",
   "id": "9823552b",
   "metadata": {
    "id": "9823552b"
   },
   "source": [
    "1 = Best\n",
    "0 or < 0 = worse#"
   ]
  },
  {
   "cell_type": "code",
   "execution_count": 450,
   "id": "c362f2ec",
   "metadata": {
    "executionInfo": {
     "elapsed": 77,
     "status": "aborted",
     "timestamp": 1642166200085,
     "user": {
      "displayName": "Pustode Ayush",
      "photoUrl": "https://lh3.googleusercontent.com/a-/AOh14GiJlrCGz-UuexLNV8mFDI-NmLjTcQ047vLC8lOAsp0=s64",
      "userId": "17475338800285129425"
     },
     "user_tz": -330
    },
    "id": "c362f2ec",
    "scrolled": true
   },
   "outputs": [
    {
     "name": "stdout",
     "output_type": "stream",
     "text": [
      "Train data R2 score: 0.9433005300620324\n",
      "Test data R2 score: -2.114026627726093\n"
     ]
    }
   ],
   "source": [
    "print(\"Train data R2 score:\", r2_score(original_ytrain, train_predict))\n",
    "print(\"Test data R2 score:\", r2_score(original_ytest, test_predict))"
   ]
  },
  {
   "cell_type": "markdown",
   "id": "dc448162",
   "metadata": {
    "id": "dc448162"
   },
   "source": [
    "Regression Loss Mean Gamma deviance regression loss (MGD) and Mean Poisson deviance regression loss (MPD)"
   ]
  },
  {
   "cell_type": "code",
   "execution_count": 453,
   "id": "e060f287",
   "metadata": {
    "executionInfo": {
     "elapsed": 78,
     "status": "aborted",
     "timestamp": 1642166200086,
     "user": {
      "displayName": "Pustode Ayush",
      "photoUrl": "https://lh3.googleusercontent.com/a-/AOh14GiJlrCGz-UuexLNV8mFDI-NmLjTcQ047vLC8lOAsp0=s64",
      "userId": "17475338800285129425"
     },
     "user_tz": -330
    },
    "id": "e060f287",
    "scrolled": true
   },
   "outputs": [
    {
     "name": "stdout",
     "output_type": "stream",
     "text": [
      "Train predicted data:  (215, 1)\n",
      "Test predicted data:  (215, 1)\n"
     ]
    },
    {
     "data": {
      "application/vnd.plotly.v1+json": {
       "config": {
        "plotlyServerURL": "https://plot.ly"
       },
       "data": [
        {
         "hovertemplate": "variable=original_CO2<br>Year=%{x}<br>co2=%{y}<extra></extra>",
         "legendgroup": "original_CO2",
         "line": {
          "color": "#636efa",
          "dash": "solid"
         },
         "marker": {
          "symbol": "circle"
         },
         "mode": "lines",
         "name": "original_CO2",
         "orientation": "v",
         "showlegend": true,
         "type": "scatter",
         "x": [
          1800,
          1801,
          1802,
          1803,
          1804,
          1805,
          1806,
          1807,
          1808,
          1809,
          1810,
          1811,
          1812,
          1813,
          1814,
          1815,
          1816,
          1817,
          1818,
          1819,
          1820,
          1821,
          1822,
          1823,
          1824,
          1825,
          1826,
          1827,
          1828,
          1829,
          1830,
          1831,
          1832,
          1833,
          1834,
          1835,
          1836,
          1837,
          1838,
          1839,
          1840,
          1841,
          1842,
          1843,
          1844,
          1845,
          1846,
          1847,
          1848,
          1849,
          1850,
          1851,
          1852,
          1853,
          1854,
          1855,
          1856,
          1857,
          1858,
          1859,
          1860,
          1861,
          1862,
          1863,
          1864,
          1865,
          1866,
          1867,
          1868,
          1869,
          1870,
          1871,
          1872,
          1873,
          1874,
          1875,
          1876,
          1877,
          1878,
          1879,
          1880,
          1881,
          1882,
          1883,
          1884,
          1885,
          1886,
          1887,
          1888,
          1889,
          1890,
          1891,
          1892,
          1893,
          1894,
          1895,
          1896,
          1897,
          1898,
          1899,
          1900,
          1901,
          1902,
          1903,
          1904,
          1905,
          1906,
          1907,
          1908,
          1909,
          1910,
          1911,
          1912,
          1913,
          1914,
          1915,
          1916,
          1917,
          1918,
          1919,
          1920,
          1921,
          1922,
          1923,
          1924,
          1925,
          1926,
          1927,
          1928,
          1929,
          1930,
          1931,
          1932,
          1933,
          1934,
          1935,
          1936,
          1937,
          1938,
          1939,
          1940,
          1941,
          1942,
          1943,
          1944,
          1945,
          1946,
          1947,
          1948,
          1949,
          1950,
          1951,
          1952,
          1953,
          1954,
          1955,
          1956,
          1957,
          1958,
          1959,
          1960,
          1961,
          1962,
          1963,
          1964,
          1965,
          1966,
          1967,
          1968,
          1969,
          1970,
          1971,
          1972,
          1973,
          1974,
          1975,
          1976,
          1977,
          1978,
          1979,
          1980,
          1981,
          1982,
          1983,
          1984,
          1985,
          1986,
          1987,
          1988,
          1989,
          1990,
          1991,
          1992,
          1993,
          1994,
          1995,
          1996,
          1997,
          1998,
          1999,
          2000,
          2001,
          2002,
          2003,
          2004,
          2005,
          2006,
          2007,
          2008,
          2009,
          2010,
          2011,
          2012,
          2013,
          2014
         ],
         "xaxis": "x",
         "y": [
          0.00568,
          0.00561,
          0.00555,
          0.00548,
          0.00542,
          0.00536,
          0.00529,
          0.00523,
          0.00517,
          0.00511,
          0.00504,
          0.00497,
          0.0049,
          0.00483,
          0.00475,
          0.00466,
          0.00457,
          0.00447,
          0.00438,
          0.00427,
          0.00417,
          0.00406,
          0.00395,
          0.00384,
          0.00373,
          0.00362,
          0.0035,
          0.00339,
          0.00327,
          0.00316,
          0.00305,
          0.00294,
          0.00283,
          0.00273,
          0.00263,
          0.00253,
          0.00244,
          0.00235,
          0.00227,
          0.00218,
          0.0021,
          0.00202,
          0.00195,
          0.00188,
          0.00181,
          0.00175,
          0.0118,
          0.0147,
          0.0174,
          0.0198,
          0.0236,
          0.0271,
          0.0318,
          0.0376,
          0.0445,
          0.0522,
          0.0608,
          0.0715,
          0.0853,
          0.0996,
          0.118,
          0.139,
          0.167,
          0.206,
          0.242,
          0.288,
          0.346,
          0.436,
          0.255,
          0.182,
          0.321,
          0.461,
          0.471,
          0.406,
          0.404,
          0.461,
          0.45,
          0.484,
          0.456,
          0.508,
          1.2,
          1.27,
          1.48,
          1.64,
          1.87,
          1.78,
          1.87,
          2.14,
          2.77,
          2.33,
          2.53,
          2.81,
          2.78,
          2.94,
          2.78,
          2.62,
          2.81,
          2.8,
          2.94,
          3.53,
          3.73,
          4.24,
          4.49,
          4.78,
          5.5,
          5.72,
          5.87,
          7.18,
          7.02,
          6.51,
          7.2,
          8.18,
          8.86,
          10.1,
          8.53,
          7.51,
          9.33,
          10.3,
          10.7,
          8.91,
          9.64,
          8.98,
          7.6,
          10.1,
          8.27,
          7.91,
          8.75,
          9.32,
          9.32,
          9.66,
          9.04,
          7.15,
          6.53,
          6.39,
          7.28,
          7.11,
          7.7,
          8.27,
          7.5,
          8.25,
          9.33,
          10.2,
          11,
          11.4,
          11.5,
          10.5,
          11,
          11.2,
          12.1,
          10.8,
          11.2,
          11.5,
          11,
          10.8,
          10.7,
          10.8,
          11.7,
          11,
          10.7,
          10.5,
          10.8,
          10.6,
          11.1,
          11.1,
          12.3,
          12.8,
          12.9,
          13.8,
          14.6,
          14.6,
          15.9,
          16.2,
          17.2,
          17,
          17.1,
          17.2,
          17,
          17.2,
          17.3,
          18.2,
          18.1,
          17.3,
          16.6,
          16.2,
          16.6,
          16.3,
          15.5,
          16.2,
          16.9,
          17,
          15.7,
          15.2,
          15.5,
          15.5,
          15.7,
          15.9,
          16.2,
          16.6,
          16.8,
          16.9,
          17.4,
          17,
          16.6,
          17.5,
          17.3,
          17.3,
          16.7,
          16.8,
          16.8,
          15.9,
          15.6,
          15.6,
          14.8,
          14.7,
          15.1
         ],
         "yaxis": "y"
        },
        {
         "hovertemplate": "variable=train_predicted_CO2<br>Year=%{x}<br>co2=%{y}<extra></extra>",
         "legendgroup": "train_predicted_CO2",
         "line": {
          "color": "#EF553B",
          "dash": "solid"
         },
         "marker": {
          "symbol": "circle"
         },
         "mode": "lines",
         "name": "train_predicted_CO2",
         "orientation": "v",
         "showlegend": true,
         "type": "scatter",
         "x": [
          1800,
          1801,
          1802,
          1803,
          1804,
          1805,
          1806,
          1807,
          1808,
          1809,
          1810,
          1811,
          1812,
          1813,
          1814,
          1815,
          1816,
          1817,
          1818,
          1819,
          1820,
          1821,
          1822,
          1823,
          1824,
          1825,
          1826,
          1827,
          1828,
          1829,
          1830,
          1831,
          1832,
          1833,
          1834,
          1835,
          1836,
          1837,
          1838,
          1839,
          1840,
          1841,
          1842,
          1843,
          1844,
          1845,
          1846,
          1847,
          1848,
          1849,
          1850,
          1851,
          1852,
          1853,
          1854,
          1855,
          1856,
          1857,
          1858,
          1859,
          1860,
          1861,
          1862,
          1863,
          1864,
          1865,
          1866,
          1867,
          1868,
          1869,
          1870,
          1871,
          1872,
          1873,
          1874,
          1875,
          1876,
          1877,
          1878,
          1879,
          1880,
          1881,
          1882,
          1883,
          1884,
          1885,
          1886,
          1887,
          1888,
          1889,
          1890,
          1891,
          1892,
          1893,
          1894,
          1895,
          1896,
          1897,
          1898,
          1899,
          1900,
          1901,
          1902,
          1903,
          1904,
          1905,
          1906,
          1907,
          1908,
          1909,
          1910,
          1911,
          1912,
          1913,
          1914,
          1915,
          1916,
          1917,
          1918,
          1919,
          1920,
          1921,
          1922,
          1923,
          1924,
          1925,
          1926,
          1927,
          1928,
          1929,
          1930,
          1931,
          1932,
          1933,
          1934,
          1935,
          1936,
          1937,
          1938,
          1939,
          1940,
          1941,
          1942,
          1943,
          1944,
          1945,
          1946,
          1947,
          1948,
          1949,
          1950,
          1951,
          1952,
          1953,
          1954,
          1955,
          1956,
          1957,
          1958,
          1959,
          1960,
          1961,
          1962,
          1963,
          1964,
          1965,
          1966,
          1967,
          1968,
          1969,
          1970,
          1971,
          1972,
          1973,
          1974,
          1975,
          1976,
          1977,
          1978,
          1979,
          1980,
          1981,
          1982,
          1983,
          1984,
          1985,
          1986,
          1987,
          1988,
          1989,
          1990,
          1991,
          1992,
          1993,
          1994,
          1995,
          1996,
          1997,
          1998,
          1999,
          2000,
          2001,
          2002,
          2003,
          2004,
          2005,
          2006,
          2007,
          2008,
          2009,
          2010,
          2011,
          2012,
          2013,
          2014
         ],
         "xaxis": "x",
         "y": [
          null,
          null,
          null,
          null,
          null,
          null,
          null,
          null,
          null,
          null,
          null,
          null,
          null,
          null,
          null,
          1.832782202635109,
          1.832773980561363,
          1.8327655611363336,
          1.8327567123533137,
          1.8327477869243074,
          1.8327383373715853,
          1.8327286378766618,
          1.8327185590727022,
          1.8327081379089187,
          1.8326974159543241,
          1.8326864182543119,
          1.832675209593131,
          1.832663545431215,
          1.832651728484228,
          1.8326395188650217,
          1.8326272662488632,
          1.8326149229276858,
          1.8326024751284489,
          1.8325899954760023,
          1.8325775760022642,
          1.8325653356365643,
          1.8325531437519231,
          1.8325412381600352,
          1.8325295103800519,
          1.8325181523292602,
          1.8325068709054684,
          1.8324958582999886,
          1.832485165269024,
          1.8324748790125405,
          1.8324649447245236,
          1.8324552662528486,
          1.832446031061334,
          1.832625152918714,
          1.8328047333679076,
          1.8329796271200995,
          1.833150665509569,
          1.8333830534968827,
          1.833661572893319,
          1.833980889197508,
          1.834346657432445,
          1.8347708118389918,
          1.8352814005380826,
          1.835872634500164,
          1.8366259884940985,
          1.8375846858403335,
          1.8387084447067812,
          1.8400942049669404,
          1.841725112761522,
          1.8438146406915592,
          1.8466337726808344,
          1.8500681775641161,
          1.854425846001544,
          1.860133796791263,
          1.8684216260782074,
          1.869610801237062,
          1.8691612555358423,
          1.8738909895098133,
          1.8836362568042078,
          1.8918788294672566,
          1.8956600087882194,
          1.8996003117299682,
          1.9068846349321424,
          1.9139897360012157,
          1.9212355473789218,
          1.9261892261547537,
          1.932168623790776,
          1.9755994907657624,
          2.0191190678947257,
          2.073558029948573,
          2.141321102595657,
          2.2308245107711473,
          2.3061353814595966,
          2.3846936255606965,
          2.4876336372474417,
          2.663510019312897,
          2.7716245204102044,
          2.8946773620769743,
          3.0563331769607505,
          3.212299289677533,
          3.380833463511889,
          3.5140819364672056,
          3.5984852238068195,
          3.7061202551095835,
          3.8005020521288,
          3.898018440542771,
          4.071846450590532,
          4.2581259791115675,
          4.4980841476496956,
          4.753102646565201,
          4.989649266015042,
          5.367118594315675,
          5.725304772572956,
          6.026564601867153,
          6.543588204950092,
          6.913668935001114,
          7.101538147099635,
          7.408784685624682,
          7.841016421628997,
          8.28142845593084,
          8.799403678611606,
          8.733056397853684,
          8.496004025985519,
          8.854271994299864,
          9.31235800184231,
          9.675312495430553,
          9.363343632167288,
          9.220958756491582,
          9.106131116800235,
          8.906340326689744,
          9.320849669494214,
          9.028338495198659,
          8.684512142841939,
          8.566078933597879,
          8.795953759685522,
          8.928732960050782,
          9.174769266435035,
          8.96624625042366,
          8.345335843550627,
          8.206839285790965,
          7.87611219649391,
          8.054751424311716,
          8.06532272764087,
          7.890048844481828,
          7.959962889236801,
          7.938847974541166,
          8.163941560772077,
          8.617049118910828,
          9.173292057633944,
          9.581255401803594,
          9.889914804138062,
          10.106830025721777,
          10.12243231723246,
          10.386044491682807,
          10.619597061192954,
          11.142132335937156,
          11.001791363892165,
          11.016773196705621,
          11.227859498731426,
          11.254620731550654,
          11.287640003880739,
          11.224642072420346,
          11.211457537506545,
          11.431681887638167,
          11.38316830443747,
          11.156332848032031,
          11.025047308775187,
          11.048132947993789,
          10.956591967391391,
          11.128770414046917,
          11.119813375339792,
          11.486280235828856,
          11.967916423822178,
          12.289019495692825,
          12.887366287080493,
          13.570072848682251,
          14.082613267196784,
          14.793959158899828,
          15.381205648032044,
          15.879482503371953,
          16.225805652430804,
          16.451144424104513,
          16.57662744642369,
          16.62988388619869,
          16.57781794050532,
          16.442411770869402,
          16.281428330997915,
          null,
          null,
          null,
          null,
          null,
          null,
          null,
          null,
          null,
          null,
          null,
          null,
          null,
          null,
          null,
          null,
          null,
          null,
          null,
          null,
          null,
          null,
          null,
          null,
          null,
          null,
          null,
          null,
          null,
          null,
          null,
          null,
          null,
          null
         ],
         "yaxis": "y"
        },
        {
         "hovertemplate": "variable=test_predicted_CO2<br>Year=%{x}<br>co2=%{y}<extra></extra>",
         "legendgroup": "test_predicted_CO2",
         "line": {
          "color": "#00cc96",
          "dash": "solid"
         },
         "marker": {
          "symbol": "circle"
         },
         "mode": "lines",
         "name": "test_predicted_CO2",
         "orientation": "v",
         "showlegend": true,
         "type": "scatter",
         "x": [
          1800,
          1801,
          1802,
          1803,
          1804,
          1805,
          1806,
          1807,
          1808,
          1809,
          1810,
          1811,
          1812,
          1813,
          1814,
          1815,
          1816,
          1817,
          1818,
          1819,
          1820,
          1821,
          1822,
          1823,
          1824,
          1825,
          1826,
          1827,
          1828,
          1829,
          1830,
          1831,
          1832,
          1833,
          1834,
          1835,
          1836,
          1837,
          1838,
          1839,
          1840,
          1841,
          1842,
          1843,
          1844,
          1845,
          1846,
          1847,
          1848,
          1849,
          1850,
          1851,
          1852,
          1853,
          1854,
          1855,
          1856,
          1857,
          1858,
          1859,
          1860,
          1861,
          1862,
          1863,
          1864,
          1865,
          1866,
          1867,
          1868,
          1869,
          1870,
          1871,
          1872,
          1873,
          1874,
          1875,
          1876,
          1877,
          1878,
          1879,
          1880,
          1881,
          1882,
          1883,
          1884,
          1885,
          1886,
          1887,
          1888,
          1889,
          1890,
          1891,
          1892,
          1893,
          1894,
          1895,
          1896,
          1897,
          1898,
          1899,
          1900,
          1901,
          1902,
          1903,
          1904,
          1905,
          1906,
          1907,
          1908,
          1909,
          1910,
          1911,
          1912,
          1913,
          1914,
          1915,
          1916,
          1917,
          1918,
          1919,
          1920,
          1921,
          1922,
          1923,
          1924,
          1925,
          1926,
          1927,
          1928,
          1929,
          1930,
          1931,
          1932,
          1933,
          1934,
          1935,
          1936,
          1937,
          1938,
          1939,
          1940,
          1941,
          1942,
          1943,
          1944,
          1945,
          1946,
          1947,
          1948,
          1949,
          1950,
          1951,
          1952,
          1953,
          1954,
          1955,
          1956,
          1957,
          1958,
          1959,
          1960,
          1961,
          1962,
          1963,
          1964,
          1965,
          1966,
          1967,
          1968,
          1969,
          1970,
          1971,
          1972,
          1973,
          1974,
          1975,
          1976,
          1977,
          1978,
          1979,
          1980,
          1981,
          1982,
          1983,
          1984,
          1985,
          1986,
          1987,
          1988,
          1989,
          1990,
          1991,
          1992,
          1993,
          1994,
          1995,
          1996,
          1997,
          1998,
          1999,
          2000,
          2001,
          2002,
          2003,
          2004,
          2005,
          2006,
          2007,
          2008,
          2009,
          2010,
          2011,
          2012,
          2013,
          2014
         ],
         "xaxis": "x",
         "y": [
          null,
          null,
          null,
          null,
          null,
          null,
          null,
          null,
          null,
          null,
          null,
          null,
          null,
          null,
          null,
          null,
          null,
          null,
          null,
          null,
          null,
          null,
          null,
          null,
          null,
          null,
          null,
          null,
          null,
          null,
          null,
          null,
          null,
          null,
          null,
          null,
          null,
          null,
          null,
          null,
          null,
          null,
          null,
          null,
          null,
          null,
          null,
          null,
          null,
          null,
          null,
          null,
          null,
          null,
          null,
          null,
          null,
          null,
          null,
          null,
          null,
          null,
          null,
          null,
          null,
          null,
          null,
          null,
          null,
          null,
          null,
          null,
          null,
          null,
          null,
          null,
          null,
          null,
          null,
          null,
          null,
          null,
          null,
          null,
          null,
          null,
          null,
          null,
          null,
          null,
          null,
          null,
          null,
          null,
          null,
          null,
          null,
          null,
          null,
          null,
          null,
          null,
          null,
          null,
          null,
          null,
          null,
          null,
          null,
          null,
          null,
          null,
          null,
          null,
          null,
          null,
          null,
          null,
          null,
          null,
          null,
          null,
          null,
          null,
          null,
          null,
          null,
          null,
          null,
          null,
          null,
          null,
          null,
          null,
          null,
          null,
          null,
          null,
          null,
          null,
          null,
          null,
          null,
          null,
          null,
          null,
          null,
          null,
          null,
          null,
          null,
          null,
          null,
          null,
          null,
          null,
          null,
          null,
          null,
          null,
          null,
          null,
          null,
          null,
          null,
          null,
          null,
          null,
          null,
          null,
          null,
          null,
          null,
          null,
          null,
          null,
          null,
          null,
          null,
          null,
          null,
          null,
          null,
          null,
          null,
          null,
          null,
          null,
          null,
          null,
          null,
          null,
          null,
          null,
          null,
          null,
          null,
          14.986035644263882,
          15.058524881813266,
          15.121607039332472,
          15.242972797846537,
          15.34268418643728,
          15.285939463756625,
          15.285466796403284,
          15.481553368126935,
          15.641692396396179,
          15.559266113065194,
          15.370359888565257,
          15.220050263349982,
          15.046677235509664,
          14.83795787142885,
          14.640937080531211,
          14.498583648264736,
          14.345262384998284,
          null
         ],
         "yaxis": "y"
        }
       ],
       "layout": {
        "font": {
         "color": "black",
         "size": 15
        },
        "legend": {
         "title": {
          "text": "Close Price"
         },
         "tracegroupgap": 0
        },
        "margin": {
         "t": 60
        },
        "plot_bgcolor": "white",
        "template": {
         "data": {
          "bar": [
           {
            "error_x": {
             "color": "#2a3f5f"
            },
            "error_y": {
             "color": "#2a3f5f"
            },
            "marker": {
             "line": {
              "color": "#E5ECF6",
              "width": 0.5
             },
             "pattern": {
              "fillmode": "overlay",
              "size": 10,
              "solidity": 0.2
             }
            },
            "type": "bar"
           }
          ],
          "barpolar": [
           {
            "marker": {
             "line": {
              "color": "#E5ECF6",
              "width": 0.5
             },
             "pattern": {
              "fillmode": "overlay",
              "size": 10,
              "solidity": 0.2
             }
            },
            "type": "barpolar"
           }
          ],
          "carpet": [
           {
            "aaxis": {
             "endlinecolor": "#2a3f5f",
             "gridcolor": "white",
             "linecolor": "white",
             "minorgridcolor": "white",
             "startlinecolor": "#2a3f5f"
            },
            "baxis": {
             "endlinecolor": "#2a3f5f",
             "gridcolor": "white",
             "linecolor": "white",
             "minorgridcolor": "white",
             "startlinecolor": "#2a3f5f"
            },
            "type": "carpet"
           }
          ],
          "choropleth": [
           {
            "colorbar": {
             "outlinewidth": 0,
             "ticks": ""
            },
            "type": "choropleth"
           }
          ],
          "contour": [
           {
            "colorbar": {
             "outlinewidth": 0,
             "ticks": ""
            },
            "colorscale": [
             [
              0,
              "#0d0887"
             ],
             [
              0.1111111111111111,
              "#46039f"
             ],
             [
              0.2222222222222222,
              "#7201a8"
             ],
             [
              0.3333333333333333,
              "#9c179e"
             ],
             [
              0.4444444444444444,
              "#bd3786"
             ],
             [
              0.5555555555555556,
              "#d8576b"
             ],
             [
              0.6666666666666666,
              "#ed7953"
             ],
             [
              0.7777777777777778,
              "#fb9f3a"
             ],
             [
              0.8888888888888888,
              "#fdca26"
             ],
             [
              1,
              "#f0f921"
             ]
            ],
            "type": "contour"
           }
          ],
          "contourcarpet": [
           {
            "colorbar": {
             "outlinewidth": 0,
             "ticks": ""
            },
            "type": "contourcarpet"
           }
          ],
          "heatmap": [
           {
            "colorbar": {
             "outlinewidth": 0,
             "ticks": ""
            },
            "colorscale": [
             [
              0,
              "#0d0887"
             ],
             [
              0.1111111111111111,
              "#46039f"
             ],
             [
              0.2222222222222222,
              "#7201a8"
             ],
             [
              0.3333333333333333,
              "#9c179e"
             ],
             [
              0.4444444444444444,
              "#bd3786"
             ],
             [
              0.5555555555555556,
              "#d8576b"
             ],
             [
              0.6666666666666666,
              "#ed7953"
             ],
             [
              0.7777777777777778,
              "#fb9f3a"
             ],
             [
              0.8888888888888888,
              "#fdca26"
             ],
             [
              1,
              "#f0f921"
             ]
            ],
            "type": "heatmap"
           }
          ],
          "heatmapgl": [
           {
            "colorbar": {
             "outlinewidth": 0,
             "ticks": ""
            },
            "colorscale": [
             [
              0,
              "#0d0887"
             ],
             [
              0.1111111111111111,
              "#46039f"
             ],
             [
              0.2222222222222222,
              "#7201a8"
             ],
             [
              0.3333333333333333,
              "#9c179e"
             ],
             [
              0.4444444444444444,
              "#bd3786"
             ],
             [
              0.5555555555555556,
              "#d8576b"
             ],
             [
              0.6666666666666666,
              "#ed7953"
             ],
             [
              0.7777777777777778,
              "#fb9f3a"
             ],
             [
              0.8888888888888888,
              "#fdca26"
             ],
             [
              1,
              "#f0f921"
             ]
            ],
            "type": "heatmapgl"
           }
          ],
          "histogram": [
           {
            "marker": {
             "pattern": {
              "fillmode": "overlay",
              "size": 10,
              "solidity": 0.2
             }
            },
            "type": "histogram"
           }
          ],
          "histogram2d": [
           {
            "colorbar": {
             "outlinewidth": 0,
             "ticks": ""
            },
            "colorscale": [
             [
              0,
              "#0d0887"
             ],
             [
              0.1111111111111111,
              "#46039f"
             ],
             [
              0.2222222222222222,
              "#7201a8"
             ],
             [
              0.3333333333333333,
              "#9c179e"
             ],
             [
              0.4444444444444444,
              "#bd3786"
             ],
             [
              0.5555555555555556,
              "#d8576b"
             ],
             [
              0.6666666666666666,
              "#ed7953"
             ],
             [
              0.7777777777777778,
              "#fb9f3a"
             ],
             [
              0.8888888888888888,
              "#fdca26"
             ],
             [
              1,
              "#f0f921"
             ]
            ],
            "type": "histogram2d"
           }
          ],
          "histogram2dcontour": [
           {
            "colorbar": {
             "outlinewidth": 0,
             "ticks": ""
            },
            "colorscale": [
             [
              0,
              "#0d0887"
             ],
             [
              0.1111111111111111,
              "#46039f"
             ],
             [
              0.2222222222222222,
              "#7201a8"
             ],
             [
              0.3333333333333333,
              "#9c179e"
             ],
             [
              0.4444444444444444,
              "#bd3786"
             ],
             [
              0.5555555555555556,
              "#d8576b"
             ],
             [
              0.6666666666666666,
              "#ed7953"
             ],
             [
              0.7777777777777778,
              "#fb9f3a"
             ],
             [
              0.8888888888888888,
              "#fdca26"
             ],
             [
              1,
              "#f0f921"
             ]
            ],
            "type": "histogram2dcontour"
           }
          ],
          "mesh3d": [
           {
            "colorbar": {
             "outlinewidth": 0,
             "ticks": ""
            },
            "type": "mesh3d"
           }
          ],
          "parcoords": [
           {
            "line": {
             "colorbar": {
              "outlinewidth": 0,
              "ticks": ""
             }
            },
            "type": "parcoords"
           }
          ],
          "pie": [
           {
            "automargin": true,
            "type": "pie"
           }
          ],
          "scatter": [
           {
            "marker": {
             "colorbar": {
              "outlinewidth": 0,
              "ticks": ""
             }
            },
            "type": "scatter"
           }
          ],
          "scatter3d": [
           {
            "line": {
             "colorbar": {
              "outlinewidth": 0,
              "ticks": ""
             }
            },
            "marker": {
             "colorbar": {
              "outlinewidth": 0,
              "ticks": ""
             }
            },
            "type": "scatter3d"
           }
          ],
          "scattercarpet": [
           {
            "marker": {
             "colorbar": {
              "outlinewidth": 0,
              "ticks": ""
             }
            },
            "type": "scattercarpet"
           }
          ],
          "scattergeo": [
           {
            "marker": {
             "colorbar": {
              "outlinewidth": 0,
              "ticks": ""
             }
            },
            "type": "scattergeo"
           }
          ],
          "scattergl": [
           {
            "marker": {
             "colorbar": {
              "outlinewidth": 0,
              "ticks": ""
             }
            },
            "type": "scattergl"
           }
          ],
          "scattermapbox": [
           {
            "marker": {
             "colorbar": {
              "outlinewidth": 0,
              "ticks": ""
             }
            },
            "type": "scattermapbox"
           }
          ],
          "scatterpolar": [
           {
            "marker": {
             "colorbar": {
              "outlinewidth": 0,
              "ticks": ""
             }
            },
            "type": "scatterpolar"
           }
          ],
          "scatterpolargl": [
           {
            "marker": {
             "colorbar": {
              "outlinewidth": 0,
              "ticks": ""
             }
            },
            "type": "scatterpolargl"
           }
          ],
          "scatterternary": [
           {
            "marker": {
             "colorbar": {
              "outlinewidth": 0,
              "ticks": ""
             }
            },
            "type": "scatterternary"
           }
          ],
          "surface": [
           {
            "colorbar": {
             "outlinewidth": 0,
             "ticks": ""
            },
            "colorscale": [
             [
              0,
              "#0d0887"
             ],
             [
              0.1111111111111111,
              "#46039f"
             ],
             [
              0.2222222222222222,
              "#7201a8"
             ],
             [
              0.3333333333333333,
              "#9c179e"
             ],
             [
              0.4444444444444444,
              "#bd3786"
             ],
             [
              0.5555555555555556,
              "#d8576b"
             ],
             [
              0.6666666666666666,
              "#ed7953"
             ],
             [
              0.7777777777777778,
              "#fb9f3a"
             ],
             [
              0.8888888888888888,
              "#fdca26"
             ],
             [
              1,
              "#f0f921"
             ]
            ],
            "type": "surface"
           }
          ],
          "table": [
           {
            "cells": {
             "fill": {
              "color": "#EBF0F8"
             },
             "line": {
              "color": "white"
             }
            },
            "header": {
             "fill": {
              "color": "#C8D4E3"
             },
             "line": {
              "color": "white"
             }
            },
            "type": "table"
           }
          ]
         },
         "layout": {
          "annotationdefaults": {
           "arrowcolor": "#2a3f5f",
           "arrowhead": 0,
           "arrowwidth": 1
          },
          "autotypenumbers": "strict",
          "coloraxis": {
           "colorbar": {
            "outlinewidth": 0,
            "ticks": ""
           }
          },
          "colorscale": {
           "diverging": [
            [
             0,
             "#8e0152"
            ],
            [
             0.1,
             "#c51b7d"
            ],
            [
             0.2,
             "#de77ae"
            ],
            [
             0.3,
             "#f1b6da"
            ],
            [
             0.4,
             "#fde0ef"
            ],
            [
             0.5,
             "#f7f7f7"
            ],
            [
             0.6,
             "#e6f5d0"
            ],
            [
             0.7,
             "#b8e186"
            ],
            [
             0.8,
             "#7fbc41"
            ],
            [
             0.9,
             "#4d9221"
            ],
            [
             1,
             "#276419"
            ]
           ],
           "sequential": [
            [
             0,
             "#0d0887"
            ],
            [
             0.1111111111111111,
             "#46039f"
            ],
            [
             0.2222222222222222,
             "#7201a8"
            ],
            [
             0.3333333333333333,
             "#9c179e"
            ],
            [
             0.4444444444444444,
             "#bd3786"
            ],
            [
             0.5555555555555556,
             "#d8576b"
            ],
            [
             0.6666666666666666,
             "#ed7953"
            ],
            [
             0.7777777777777778,
             "#fb9f3a"
            ],
            [
             0.8888888888888888,
             "#fdca26"
            ],
            [
             1,
             "#f0f921"
            ]
           ],
           "sequentialminus": [
            [
             0,
             "#0d0887"
            ],
            [
             0.1111111111111111,
             "#46039f"
            ],
            [
             0.2222222222222222,
             "#7201a8"
            ],
            [
             0.3333333333333333,
             "#9c179e"
            ],
            [
             0.4444444444444444,
             "#bd3786"
            ],
            [
             0.5555555555555556,
             "#d8576b"
            ],
            [
             0.6666666666666666,
             "#ed7953"
            ],
            [
             0.7777777777777778,
             "#fb9f3a"
            ],
            [
             0.8888888888888888,
             "#fdca26"
            ],
            [
             1,
             "#f0f921"
            ]
           ]
          },
          "colorway": [
           "#636efa",
           "#EF553B",
           "#00cc96",
           "#ab63fa",
           "#FFA15A",
           "#19d3f3",
           "#FF6692",
           "#B6E880",
           "#FF97FF",
           "#FECB52"
          ],
          "font": {
           "color": "#2a3f5f"
          },
          "geo": {
           "bgcolor": "white",
           "lakecolor": "white",
           "landcolor": "#E5ECF6",
           "showlakes": true,
           "showland": true,
           "subunitcolor": "white"
          },
          "hoverlabel": {
           "align": "left"
          },
          "hovermode": "closest",
          "mapbox": {
           "style": "light"
          },
          "paper_bgcolor": "white",
          "plot_bgcolor": "#E5ECF6",
          "polar": {
           "angularaxis": {
            "gridcolor": "white",
            "linecolor": "white",
            "ticks": ""
           },
           "bgcolor": "#E5ECF6",
           "radialaxis": {
            "gridcolor": "white",
            "linecolor": "white",
            "ticks": ""
           }
          },
          "scene": {
           "xaxis": {
            "backgroundcolor": "#E5ECF6",
            "gridcolor": "white",
            "gridwidth": 2,
            "linecolor": "white",
            "showbackground": true,
            "ticks": "",
            "zerolinecolor": "white"
           },
           "yaxis": {
            "backgroundcolor": "#E5ECF6",
            "gridcolor": "white",
            "gridwidth": 2,
            "linecolor": "white",
            "showbackground": true,
            "ticks": "",
            "zerolinecolor": "white"
           },
           "zaxis": {
            "backgroundcolor": "#E5ECF6",
            "gridcolor": "white",
            "gridwidth": 2,
            "linecolor": "white",
            "showbackground": true,
            "ticks": "",
            "zerolinecolor": "white"
           }
          },
          "shapedefaults": {
           "line": {
            "color": "#2a3f5f"
           }
          },
          "ternary": {
           "aaxis": {
            "gridcolor": "white",
            "linecolor": "white",
            "ticks": ""
           },
           "baxis": {
            "gridcolor": "white",
            "linecolor": "white",
            "ticks": ""
           },
           "bgcolor": "#E5ECF6",
           "caxis": {
            "gridcolor": "white",
            "linecolor": "white",
            "ticks": ""
           }
          },
          "title": {
           "x": 0.05
          },
          "xaxis": {
           "automargin": true,
           "gridcolor": "white",
           "linecolor": "white",
           "ticks": "",
           "title": {
            "standoff": 15
           },
           "zerolinecolor": "white",
           "zerolinewidth": 2
          },
          "yaxis": {
           "automargin": true,
           "gridcolor": "white",
           "linecolor": "white",
           "ticks": "",
           "title": {
            "standoff": 15
           },
           "zerolinecolor": "white",
           "zerolinewidth": 2
          }
         }
        },
        "title": {
         "text": "Comparision between original co2 Level vs predicted co2 level"
        },
        "xaxis": {
         "anchor": "y",
         "domain": [
          0,
          1
         ],
         "showgrid": false,
         "title": {
          "text": "Year"
         }
        },
        "yaxis": {
         "anchor": "x",
         "domain": [
          0,
          1
         ],
         "showgrid": false,
         "title": {
          "text": "co2"
         }
        }
       }
      },
      "text/html": [
       "<div>                            <div id=\"9e93c827-f29a-453b-94db-a86710cfe5c1\" class=\"plotly-graph-div\" style=\"height:525px; width:100%;\"></div>            <script type=\"text/javascript\">                require([\"plotly\"], function(Plotly) {                    window.PLOTLYENV=window.PLOTLYENV || {};                                    if (document.getElementById(\"9e93c827-f29a-453b-94db-a86710cfe5c1\")) {                    Plotly.newPlot(                        \"9e93c827-f29a-453b-94db-a86710cfe5c1\",                        [{\"hovertemplate\":\"variable=original_CO2<br>Year=%{x}<br>co2=%{y}<extra></extra>\",\"legendgroup\":\"original_CO2\",\"line\":{\"color\":\"#636efa\",\"dash\":\"solid\"},\"marker\":{\"symbol\":\"circle\"},\"mode\":\"lines\",\"name\":\"original_CO2\",\"orientation\":\"v\",\"showlegend\":true,\"x\":[1800,1801,1802,1803,1804,1805,1806,1807,1808,1809,1810,1811,1812,1813,1814,1815,1816,1817,1818,1819,1820,1821,1822,1823,1824,1825,1826,1827,1828,1829,1830,1831,1832,1833,1834,1835,1836,1837,1838,1839,1840,1841,1842,1843,1844,1845,1846,1847,1848,1849,1850,1851,1852,1853,1854,1855,1856,1857,1858,1859,1860,1861,1862,1863,1864,1865,1866,1867,1868,1869,1870,1871,1872,1873,1874,1875,1876,1877,1878,1879,1880,1881,1882,1883,1884,1885,1886,1887,1888,1889,1890,1891,1892,1893,1894,1895,1896,1897,1898,1899,1900,1901,1902,1903,1904,1905,1906,1907,1908,1909,1910,1911,1912,1913,1914,1915,1916,1917,1918,1919,1920,1921,1922,1923,1924,1925,1926,1927,1928,1929,1930,1931,1932,1933,1934,1935,1936,1937,1938,1939,1940,1941,1942,1943,1944,1945,1946,1947,1948,1949,1950,1951,1952,1953,1954,1955,1956,1957,1958,1959,1960,1961,1962,1963,1964,1965,1966,1967,1968,1969,1970,1971,1972,1973,1974,1975,1976,1977,1978,1979,1980,1981,1982,1983,1984,1985,1986,1987,1988,1989,1990,1991,1992,1993,1994,1995,1996,1997,1998,1999,2000,2001,2002,2003,2004,2005,2006,2007,2008,2009,2010,2011,2012,2013,2014],\"xaxis\":\"x\",\"y\":[0.00568,0.00561,0.00555,0.00548,0.00542,0.00536,0.00529,0.00523,0.00517,0.00511,0.00504,0.00497,0.0049,0.00483,0.00475,0.00466,0.00457,0.00447,0.00438,0.00427,0.00417,0.00406,0.00395,0.00384,0.00373,0.00362,0.0035,0.00339,0.00327,0.00316,0.00305,0.00294,0.00283,0.00273,0.00263,0.00253,0.00244,0.00235,0.00227,0.00218,0.0021,0.00202,0.00195,0.00188,0.00181,0.00175,0.0118,0.0147,0.0174,0.0198,0.0236,0.0271,0.0318,0.0376,0.0445,0.0522,0.0608,0.0715,0.0853,0.0996,0.118,0.139,0.167,0.206,0.242,0.288,0.346,0.436,0.255,0.182,0.321,0.461,0.471,0.406,0.404,0.461,0.45,0.484,0.456,0.508,1.2,1.27,1.48,1.64,1.87,1.78,1.87,2.14,2.77,2.33,2.53,2.81,2.78,2.94,2.78,2.62,2.81,2.8,2.94,3.53,3.73,4.24,4.49,4.78,5.5,5.72,5.87,7.18,7.02,6.51,7.2,8.18,8.86,10.1,8.53,7.51,9.33,10.3,10.7,8.91,9.64,8.98,7.6,10.1,8.27,7.91,8.75,9.32,9.32,9.66,9.04,7.15,6.53,6.39,7.28,7.11,7.7,8.27,7.5,8.25,9.33,10.2,11.0,11.4,11.5,10.5,11.0,11.2,12.1,10.8,11.2,11.5,11.0,10.8,10.7,10.8,11.7,11.0,10.7,10.5,10.8,10.6,11.1,11.1,12.3,12.8,12.9,13.8,14.6,14.6,15.9,16.2,17.2,17.0,17.1,17.2,17.0,17.2,17.3,18.2,18.1,17.3,16.6,16.2,16.6,16.3,15.5,16.2,16.9,17.0,15.7,15.2,15.5,15.5,15.7,15.9,16.2,16.6,16.8,16.9,17.4,17.0,16.6,17.5,17.3,17.3,16.7,16.8,16.8,15.9,15.6,15.6,14.8,14.7,15.1],\"yaxis\":\"y\",\"type\":\"scatter\"},{\"hovertemplate\":\"variable=train_predicted_CO2<br>Year=%{x}<br>co2=%{y}<extra></extra>\",\"legendgroup\":\"train_predicted_CO2\",\"line\":{\"color\":\"#EF553B\",\"dash\":\"solid\"},\"marker\":{\"symbol\":\"circle\"},\"mode\":\"lines\",\"name\":\"train_predicted_CO2\",\"orientation\":\"v\",\"showlegend\":true,\"x\":[1800,1801,1802,1803,1804,1805,1806,1807,1808,1809,1810,1811,1812,1813,1814,1815,1816,1817,1818,1819,1820,1821,1822,1823,1824,1825,1826,1827,1828,1829,1830,1831,1832,1833,1834,1835,1836,1837,1838,1839,1840,1841,1842,1843,1844,1845,1846,1847,1848,1849,1850,1851,1852,1853,1854,1855,1856,1857,1858,1859,1860,1861,1862,1863,1864,1865,1866,1867,1868,1869,1870,1871,1872,1873,1874,1875,1876,1877,1878,1879,1880,1881,1882,1883,1884,1885,1886,1887,1888,1889,1890,1891,1892,1893,1894,1895,1896,1897,1898,1899,1900,1901,1902,1903,1904,1905,1906,1907,1908,1909,1910,1911,1912,1913,1914,1915,1916,1917,1918,1919,1920,1921,1922,1923,1924,1925,1926,1927,1928,1929,1930,1931,1932,1933,1934,1935,1936,1937,1938,1939,1940,1941,1942,1943,1944,1945,1946,1947,1948,1949,1950,1951,1952,1953,1954,1955,1956,1957,1958,1959,1960,1961,1962,1963,1964,1965,1966,1967,1968,1969,1970,1971,1972,1973,1974,1975,1976,1977,1978,1979,1980,1981,1982,1983,1984,1985,1986,1987,1988,1989,1990,1991,1992,1993,1994,1995,1996,1997,1998,1999,2000,2001,2002,2003,2004,2005,2006,2007,2008,2009,2010,2011,2012,2013,2014],\"xaxis\":\"x\",\"y\":[null,null,null,null,null,null,null,null,null,null,null,null,null,null,null,1.832782202635109,1.832773980561363,1.8327655611363336,1.8327567123533137,1.8327477869243074,1.8327383373715853,1.8327286378766618,1.8327185590727022,1.8327081379089187,1.8326974159543241,1.8326864182543119,1.832675209593131,1.832663545431215,1.832651728484228,1.8326395188650217,1.8326272662488632,1.8326149229276858,1.8326024751284489,1.8325899954760023,1.8325775760022642,1.8325653356365643,1.8325531437519231,1.8325412381600352,1.8325295103800519,1.8325181523292602,1.8325068709054684,1.8324958582999886,1.832485165269024,1.8324748790125405,1.8324649447245236,1.8324552662528486,1.832446031061334,1.832625152918714,1.8328047333679076,1.8329796271200995,1.833150665509569,1.8333830534968827,1.833661572893319,1.833980889197508,1.834346657432445,1.8347708118389918,1.8352814005380826,1.835872634500164,1.8366259884940985,1.8375846858403335,1.8387084447067812,1.8400942049669404,1.841725112761522,1.8438146406915592,1.8466337726808344,1.8500681775641161,1.854425846001544,1.860133796791263,1.8684216260782074,1.869610801237062,1.8691612555358423,1.8738909895098133,1.8836362568042078,1.8918788294672566,1.8956600087882194,1.8996003117299682,1.9068846349321424,1.9139897360012157,1.9212355473789218,1.9261892261547537,1.932168623790776,1.9755994907657624,2.0191190678947257,2.073558029948573,2.141321102595657,2.2308245107711473,2.3061353814595966,2.3846936255606965,2.4876336372474417,2.663510019312897,2.7716245204102044,2.8946773620769743,3.0563331769607505,3.212299289677533,3.380833463511889,3.5140819364672056,3.5984852238068195,3.7061202551095835,3.8005020521288,3.898018440542771,4.071846450590532,4.2581259791115675,4.4980841476496956,4.753102646565201,4.989649266015042,5.367118594315675,5.725304772572956,6.026564601867153,6.543588204950092,6.913668935001114,7.101538147099635,7.408784685624682,7.841016421628997,8.28142845593084,8.799403678611606,8.733056397853684,8.496004025985519,8.854271994299864,9.31235800184231,9.675312495430553,9.363343632167288,9.220958756491582,9.106131116800235,8.906340326689744,9.320849669494214,9.028338495198659,8.684512142841939,8.566078933597879,8.795953759685522,8.928732960050782,9.174769266435035,8.96624625042366,8.345335843550627,8.206839285790965,7.87611219649391,8.054751424311716,8.06532272764087,7.890048844481828,7.959962889236801,7.938847974541166,8.163941560772077,8.617049118910828,9.173292057633944,9.581255401803594,9.889914804138062,10.106830025721777,10.12243231723246,10.386044491682807,10.619597061192954,11.142132335937156,11.001791363892165,11.016773196705621,11.227859498731426,11.254620731550654,11.287640003880739,11.224642072420346,11.211457537506545,11.431681887638167,11.38316830443747,11.156332848032031,11.025047308775187,11.048132947993789,10.956591967391391,11.128770414046917,11.119813375339792,11.486280235828856,11.967916423822178,12.289019495692825,12.887366287080493,13.570072848682251,14.082613267196784,14.793959158899828,15.381205648032044,15.879482503371953,16.225805652430804,16.451144424104513,16.57662744642369,16.62988388619869,16.57781794050532,16.442411770869402,16.281428330997915,null,null,null,null,null,null,null,null,null,null,null,null,null,null,null,null,null,null,null,null,null,null,null,null,null,null,null,null,null,null,null,null,null,null],\"yaxis\":\"y\",\"type\":\"scatter\"},{\"hovertemplate\":\"variable=test_predicted_CO2<br>Year=%{x}<br>co2=%{y}<extra></extra>\",\"legendgroup\":\"test_predicted_CO2\",\"line\":{\"color\":\"#00cc96\",\"dash\":\"solid\"},\"marker\":{\"symbol\":\"circle\"},\"mode\":\"lines\",\"name\":\"test_predicted_CO2\",\"orientation\":\"v\",\"showlegend\":true,\"x\":[1800,1801,1802,1803,1804,1805,1806,1807,1808,1809,1810,1811,1812,1813,1814,1815,1816,1817,1818,1819,1820,1821,1822,1823,1824,1825,1826,1827,1828,1829,1830,1831,1832,1833,1834,1835,1836,1837,1838,1839,1840,1841,1842,1843,1844,1845,1846,1847,1848,1849,1850,1851,1852,1853,1854,1855,1856,1857,1858,1859,1860,1861,1862,1863,1864,1865,1866,1867,1868,1869,1870,1871,1872,1873,1874,1875,1876,1877,1878,1879,1880,1881,1882,1883,1884,1885,1886,1887,1888,1889,1890,1891,1892,1893,1894,1895,1896,1897,1898,1899,1900,1901,1902,1903,1904,1905,1906,1907,1908,1909,1910,1911,1912,1913,1914,1915,1916,1917,1918,1919,1920,1921,1922,1923,1924,1925,1926,1927,1928,1929,1930,1931,1932,1933,1934,1935,1936,1937,1938,1939,1940,1941,1942,1943,1944,1945,1946,1947,1948,1949,1950,1951,1952,1953,1954,1955,1956,1957,1958,1959,1960,1961,1962,1963,1964,1965,1966,1967,1968,1969,1970,1971,1972,1973,1974,1975,1976,1977,1978,1979,1980,1981,1982,1983,1984,1985,1986,1987,1988,1989,1990,1991,1992,1993,1994,1995,1996,1997,1998,1999,2000,2001,2002,2003,2004,2005,2006,2007,2008,2009,2010,2011,2012,2013,2014],\"xaxis\":\"x\",\"y\":[null,null,null,null,null,null,null,null,null,null,null,null,null,null,null,null,null,null,null,null,null,null,null,null,null,null,null,null,null,null,null,null,null,null,null,null,null,null,null,null,null,null,null,null,null,null,null,null,null,null,null,null,null,null,null,null,null,null,null,null,null,null,null,null,null,null,null,null,null,null,null,null,null,null,null,null,null,null,null,null,null,null,null,null,null,null,null,null,null,null,null,null,null,null,null,null,null,null,null,null,null,null,null,null,null,null,null,null,null,null,null,null,null,null,null,null,null,null,null,null,null,null,null,null,null,null,null,null,null,null,null,null,null,null,null,null,null,null,null,null,null,null,null,null,null,null,null,null,null,null,null,null,null,null,null,null,null,null,null,null,null,null,null,null,null,null,null,null,null,null,null,null,null,null,null,null,null,null,null,null,null,null,null,null,null,null,null,null,null,null,null,null,null,null,null,null,null,14.986035644263882,15.058524881813266,15.121607039332472,15.242972797846537,15.34268418643728,15.285939463756625,15.285466796403284,15.481553368126935,15.641692396396179,15.559266113065194,15.370359888565257,15.220050263349982,15.046677235509664,14.83795787142885,14.640937080531211,14.498583648264736,14.345262384998284,null],\"yaxis\":\"y\",\"type\":\"scatter\"}],                        {\"template\":{\"data\":{\"bar\":[{\"error_x\":{\"color\":\"#2a3f5f\"},\"error_y\":{\"color\":\"#2a3f5f\"},\"marker\":{\"line\":{\"color\":\"#E5ECF6\",\"width\":0.5},\"pattern\":{\"fillmode\":\"overlay\",\"size\":10,\"solidity\":0.2}},\"type\":\"bar\"}],\"barpolar\":[{\"marker\":{\"line\":{\"color\":\"#E5ECF6\",\"width\":0.5},\"pattern\":{\"fillmode\":\"overlay\",\"size\":10,\"solidity\":0.2}},\"type\":\"barpolar\"}],\"carpet\":[{\"aaxis\":{\"endlinecolor\":\"#2a3f5f\",\"gridcolor\":\"white\",\"linecolor\":\"white\",\"minorgridcolor\":\"white\",\"startlinecolor\":\"#2a3f5f\"},\"baxis\":{\"endlinecolor\":\"#2a3f5f\",\"gridcolor\":\"white\",\"linecolor\":\"white\",\"minorgridcolor\":\"white\",\"startlinecolor\":\"#2a3f5f\"},\"type\":\"carpet\"}],\"choropleth\":[{\"colorbar\":{\"outlinewidth\":0,\"ticks\":\"\"},\"type\":\"choropleth\"}],\"contour\":[{\"colorbar\":{\"outlinewidth\":0,\"ticks\":\"\"},\"colorscale\":[[0.0,\"#0d0887\"],[0.1111111111111111,\"#46039f\"],[0.2222222222222222,\"#7201a8\"],[0.3333333333333333,\"#9c179e\"],[0.4444444444444444,\"#bd3786\"],[0.5555555555555556,\"#d8576b\"],[0.6666666666666666,\"#ed7953\"],[0.7777777777777778,\"#fb9f3a\"],[0.8888888888888888,\"#fdca26\"],[1.0,\"#f0f921\"]],\"type\":\"contour\"}],\"contourcarpet\":[{\"colorbar\":{\"outlinewidth\":0,\"ticks\":\"\"},\"type\":\"contourcarpet\"}],\"heatmap\":[{\"colorbar\":{\"outlinewidth\":0,\"ticks\":\"\"},\"colorscale\":[[0.0,\"#0d0887\"],[0.1111111111111111,\"#46039f\"],[0.2222222222222222,\"#7201a8\"],[0.3333333333333333,\"#9c179e\"],[0.4444444444444444,\"#bd3786\"],[0.5555555555555556,\"#d8576b\"],[0.6666666666666666,\"#ed7953\"],[0.7777777777777778,\"#fb9f3a\"],[0.8888888888888888,\"#fdca26\"],[1.0,\"#f0f921\"]],\"type\":\"heatmap\"}],\"heatmapgl\":[{\"colorbar\":{\"outlinewidth\":0,\"ticks\":\"\"},\"colorscale\":[[0.0,\"#0d0887\"],[0.1111111111111111,\"#46039f\"],[0.2222222222222222,\"#7201a8\"],[0.3333333333333333,\"#9c179e\"],[0.4444444444444444,\"#bd3786\"],[0.5555555555555556,\"#d8576b\"],[0.6666666666666666,\"#ed7953\"],[0.7777777777777778,\"#fb9f3a\"],[0.8888888888888888,\"#fdca26\"],[1.0,\"#f0f921\"]],\"type\":\"heatmapgl\"}],\"histogram\":[{\"marker\":{\"pattern\":{\"fillmode\":\"overlay\",\"size\":10,\"solidity\":0.2}},\"type\":\"histogram\"}],\"histogram2d\":[{\"colorbar\":{\"outlinewidth\":0,\"ticks\":\"\"},\"colorscale\":[[0.0,\"#0d0887\"],[0.1111111111111111,\"#46039f\"],[0.2222222222222222,\"#7201a8\"],[0.3333333333333333,\"#9c179e\"],[0.4444444444444444,\"#bd3786\"],[0.5555555555555556,\"#d8576b\"],[0.6666666666666666,\"#ed7953\"],[0.7777777777777778,\"#fb9f3a\"],[0.8888888888888888,\"#fdca26\"],[1.0,\"#f0f921\"]],\"type\":\"histogram2d\"}],\"histogram2dcontour\":[{\"colorbar\":{\"outlinewidth\":0,\"ticks\":\"\"},\"colorscale\":[[0.0,\"#0d0887\"],[0.1111111111111111,\"#46039f\"],[0.2222222222222222,\"#7201a8\"],[0.3333333333333333,\"#9c179e\"],[0.4444444444444444,\"#bd3786\"],[0.5555555555555556,\"#d8576b\"],[0.6666666666666666,\"#ed7953\"],[0.7777777777777778,\"#fb9f3a\"],[0.8888888888888888,\"#fdca26\"],[1.0,\"#f0f921\"]],\"type\":\"histogram2dcontour\"}],\"mesh3d\":[{\"colorbar\":{\"outlinewidth\":0,\"ticks\":\"\"},\"type\":\"mesh3d\"}],\"parcoords\":[{\"line\":{\"colorbar\":{\"outlinewidth\":0,\"ticks\":\"\"}},\"type\":\"parcoords\"}],\"pie\":[{\"automargin\":true,\"type\":\"pie\"}],\"scatter\":[{\"marker\":{\"colorbar\":{\"outlinewidth\":0,\"ticks\":\"\"}},\"type\":\"scatter\"}],\"scatter3d\":[{\"line\":{\"colorbar\":{\"outlinewidth\":0,\"ticks\":\"\"}},\"marker\":{\"colorbar\":{\"outlinewidth\":0,\"ticks\":\"\"}},\"type\":\"scatter3d\"}],\"scattercarpet\":[{\"marker\":{\"colorbar\":{\"outlinewidth\":0,\"ticks\":\"\"}},\"type\":\"scattercarpet\"}],\"scattergeo\":[{\"marker\":{\"colorbar\":{\"outlinewidth\":0,\"ticks\":\"\"}},\"type\":\"scattergeo\"}],\"scattergl\":[{\"marker\":{\"colorbar\":{\"outlinewidth\":0,\"ticks\":\"\"}},\"type\":\"scattergl\"}],\"scattermapbox\":[{\"marker\":{\"colorbar\":{\"outlinewidth\":0,\"ticks\":\"\"}},\"type\":\"scattermapbox\"}],\"scatterpolar\":[{\"marker\":{\"colorbar\":{\"outlinewidth\":0,\"ticks\":\"\"}},\"type\":\"scatterpolar\"}],\"scatterpolargl\":[{\"marker\":{\"colorbar\":{\"outlinewidth\":0,\"ticks\":\"\"}},\"type\":\"scatterpolargl\"}],\"scatterternary\":[{\"marker\":{\"colorbar\":{\"outlinewidth\":0,\"ticks\":\"\"}},\"type\":\"scatterternary\"}],\"surface\":[{\"colorbar\":{\"outlinewidth\":0,\"ticks\":\"\"},\"colorscale\":[[0.0,\"#0d0887\"],[0.1111111111111111,\"#46039f\"],[0.2222222222222222,\"#7201a8\"],[0.3333333333333333,\"#9c179e\"],[0.4444444444444444,\"#bd3786\"],[0.5555555555555556,\"#d8576b\"],[0.6666666666666666,\"#ed7953\"],[0.7777777777777778,\"#fb9f3a\"],[0.8888888888888888,\"#fdca26\"],[1.0,\"#f0f921\"]],\"type\":\"surface\"}],\"table\":[{\"cells\":{\"fill\":{\"color\":\"#EBF0F8\"},\"line\":{\"color\":\"white\"}},\"header\":{\"fill\":{\"color\":\"#C8D4E3\"},\"line\":{\"color\":\"white\"}},\"type\":\"table\"}]},\"layout\":{\"annotationdefaults\":{\"arrowcolor\":\"#2a3f5f\",\"arrowhead\":0,\"arrowwidth\":1},\"autotypenumbers\":\"strict\",\"coloraxis\":{\"colorbar\":{\"outlinewidth\":0,\"ticks\":\"\"}},\"colorscale\":{\"diverging\":[[0,\"#8e0152\"],[0.1,\"#c51b7d\"],[0.2,\"#de77ae\"],[0.3,\"#f1b6da\"],[0.4,\"#fde0ef\"],[0.5,\"#f7f7f7\"],[0.6,\"#e6f5d0\"],[0.7,\"#b8e186\"],[0.8,\"#7fbc41\"],[0.9,\"#4d9221\"],[1,\"#276419\"]],\"sequential\":[[0.0,\"#0d0887\"],[0.1111111111111111,\"#46039f\"],[0.2222222222222222,\"#7201a8\"],[0.3333333333333333,\"#9c179e\"],[0.4444444444444444,\"#bd3786\"],[0.5555555555555556,\"#d8576b\"],[0.6666666666666666,\"#ed7953\"],[0.7777777777777778,\"#fb9f3a\"],[0.8888888888888888,\"#fdca26\"],[1.0,\"#f0f921\"]],\"sequentialminus\":[[0.0,\"#0d0887\"],[0.1111111111111111,\"#46039f\"],[0.2222222222222222,\"#7201a8\"],[0.3333333333333333,\"#9c179e\"],[0.4444444444444444,\"#bd3786\"],[0.5555555555555556,\"#d8576b\"],[0.6666666666666666,\"#ed7953\"],[0.7777777777777778,\"#fb9f3a\"],[0.8888888888888888,\"#fdca26\"],[1.0,\"#f0f921\"]]},\"colorway\":[\"#636efa\",\"#EF553B\",\"#00cc96\",\"#ab63fa\",\"#FFA15A\",\"#19d3f3\",\"#FF6692\",\"#B6E880\",\"#FF97FF\",\"#FECB52\"],\"font\":{\"color\":\"#2a3f5f\"},\"geo\":{\"bgcolor\":\"white\",\"lakecolor\":\"white\",\"landcolor\":\"#E5ECF6\",\"showlakes\":true,\"showland\":true,\"subunitcolor\":\"white\"},\"hoverlabel\":{\"align\":\"left\"},\"hovermode\":\"closest\",\"mapbox\":{\"style\":\"light\"},\"paper_bgcolor\":\"white\",\"plot_bgcolor\":\"#E5ECF6\",\"polar\":{\"angularaxis\":{\"gridcolor\":\"white\",\"linecolor\":\"white\",\"ticks\":\"\"},\"bgcolor\":\"#E5ECF6\",\"radialaxis\":{\"gridcolor\":\"white\",\"linecolor\":\"white\",\"ticks\":\"\"}},\"scene\":{\"xaxis\":{\"backgroundcolor\":\"#E5ECF6\",\"gridcolor\":\"white\",\"gridwidth\":2,\"linecolor\":\"white\",\"showbackground\":true,\"ticks\":\"\",\"zerolinecolor\":\"white\"},\"yaxis\":{\"backgroundcolor\":\"#E5ECF6\",\"gridcolor\":\"white\",\"gridwidth\":2,\"linecolor\":\"white\",\"showbackground\":true,\"ticks\":\"\",\"zerolinecolor\":\"white\"},\"zaxis\":{\"backgroundcolor\":\"#E5ECF6\",\"gridcolor\":\"white\",\"gridwidth\":2,\"linecolor\":\"white\",\"showbackground\":true,\"ticks\":\"\",\"zerolinecolor\":\"white\"}},\"shapedefaults\":{\"line\":{\"color\":\"#2a3f5f\"}},\"ternary\":{\"aaxis\":{\"gridcolor\":\"white\",\"linecolor\":\"white\",\"ticks\":\"\"},\"baxis\":{\"gridcolor\":\"white\",\"linecolor\":\"white\",\"ticks\":\"\"},\"bgcolor\":\"#E5ECF6\",\"caxis\":{\"gridcolor\":\"white\",\"linecolor\":\"white\",\"ticks\":\"\"}},\"title\":{\"x\":0.05},\"xaxis\":{\"automargin\":true,\"gridcolor\":\"white\",\"linecolor\":\"white\",\"ticks\":\"\",\"title\":{\"standoff\":15},\"zerolinecolor\":\"white\",\"zerolinewidth\":2},\"yaxis\":{\"automargin\":true,\"gridcolor\":\"white\",\"linecolor\":\"white\",\"ticks\":\"\",\"title\":{\"standoff\":15},\"zerolinecolor\":\"white\",\"zerolinewidth\":2}}},\"xaxis\":{\"anchor\":\"y\",\"domain\":[0.0,1.0],\"title\":{\"text\":\"Year\"},\"showgrid\":false},\"yaxis\":{\"anchor\":\"x\",\"domain\":[0.0,1.0],\"title\":{\"text\":\"co2\"},\"showgrid\":false},\"legend\":{\"title\":{\"text\":\"Close Price\"},\"tracegroupgap\":0},\"margin\":{\"t\":60},\"title\":{\"text\":\"Comparision between original co2 Level vs predicted co2 level\"},\"font\":{\"size\":15,\"color\":\"black\"},\"plot_bgcolor\":\"white\"},                        {\"responsive\": true}                    ).then(function(){\n",
       "                            \n",
       "var gd = document.getElementById('9e93c827-f29a-453b-94db-a86710cfe5c1');\n",
       "var x = new MutationObserver(function (mutations, observer) {{\n",
       "        var display = window.getComputedStyle(gd).display;\n",
       "        if (!display || display === 'none') {{\n",
       "            console.log([gd, 'removed!']);\n",
       "            Plotly.purge(gd);\n",
       "            observer.disconnect();\n",
       "        }}\n",
       "}});\n",
       "\n",
       "// Listen for the removal of the full notebook cells\n",
       "var notebookContainer = gd.closest('#notebook-container');\n",
       "if (notebookContainer) {{\n",
       "    x.observe(notebookContainer, {childList: true});\n",
       "}}\n",
       "\n",
       "// Listen for the clearing of the current output cell\n",
       "var outputEl = gd.closest('.output');\n",
       "if (outputEl) {{\n",
       "    x.observe(outputEl, {childList: true});\n",
       "}}\n",
       "\n",
       "                        })                };                });            </script>        </div>"
      ]
     },
     "metadata": {},
     "output_type": "display_data"
    }
   ],
   "source": [
    "look_back=time_step\n",
    "trainPredictPlot = np.empty_like(air)\n",
    "trainPredictPlot[:, :] = np.nan\n",
    "trainPredictPlot[look_back:len(train_predict)+look_back, :] = train_predict\n",
    "print(\"Train predicted data: \", trainPredictPlot.shape)\n",
    "\n",
    "# shift test predictions for plotting\n",
    "testPredictPlot = np.empty_like(air)\n",
    "testPredictPlot[:, :] = np.nan\n",
    "testPredictPlot[len(train_predict)+(look_back*2)+1:len(air)-1, :] = test_predict\n",
    "print(\"Test predicted data: \", testPredictPlot.shape)\n",
    "\n",
    "\n",
    "\n",
    "plotdf = pd.DataFrame({'Year': air_data['Year'],\n",
    "                       'original_CO2': air_data['CO2'],\n",
    "                      'train_predicted_CO2': trainPredictPlot.reshape(1,-1)[0].tolist(),\n",
    "                      'test_predicted_CO2': testPredictPlot.reshape(1,-1)[0].tolist()})\n",
    "\n",
    "fig = px.line(plotdf,x=plotdf['Year'], y=[plotdf['original_CO2'],plotdf['train_predicted_CO2'],\n",
    "                                          plotdf['test_predicted_CO2']],\n",
    "              labels={'value':'co2','year': 'Year'})\n",
    "fig.update_layout(title_text='Comparision between original co2 Level vs predicted co2 level',\n",
    "                  plot_bgcolor='white', font_size=15, font_color='black',legend_title_text='Close Price')\n",
    "\n",
    "\n",
    "fig.update_xaxes(showgrid=False)\n",
    "fig.update_yaxes(showgrid=False)\n",
    "fig.show()"
   ]
  },
  {
   "cell_type": "code",
   "execution_count": null,
   "id": "0c6d5fb2",
   "metadata": {
    "executionInfo": {
     "elapsed": 78,
     "status": "aborted",
     "timestamp": 1642166200086,
     "user": {
      "displayName": "Pustode Ayush",
      "photoUrl": "https://lh3.googleusercontent.com/a-/AOh14GiJlrCGz-UuexLNV8mFDI-NmLjTcQ047vLC8lOAsp0=s64",
      "userId": "17475338800285129425"
     },
     "user_tz": -330
    },
    "id": "0c6d5fb2",
    "scrolled": true
   },
   "outputs": [],
   "source": [
    "x_input=test_data[len(test_data)-time_step:].reshape(1,-1)\n",
    "temp_input=list(x_input)\n",
    "temp_input=temp_input[0].tolist()\n",
    "\n",
    "from numpy import array\n",
    "\n",
    "lst_output=[]\n",
    "n_steps=time_step\n",
    "i=0\n",
    "pred_days = 10\n",
    "while(i<pred_days):\n",
    "    \n",
    "    if(len(temp_input)>time_step):\n",
    "        \n",
    "        x_input=np.array(temp_input[1:])\n",
    "        #print(\"{} day input {}\".format(i,x_input))\n",
    "        x_input = x_input.reshape(1,-1)\n",
    "        x_input = x_input.reshape((1, n_steps, 1))\n",
    "        \n",
    "        yhat = model.predict(x_input, verbose=0)\n",
    "        #print(\"{} day output {}\".format(i,yhat))\n",
    "        temp_input.extend(yhat[0].tolist())\n",
    "        temp_input=temp_input[1:]\n",
    "        #print(temp_input)\n",
    "       \n",
    "        lst_output.extend(yhat.tolist())\n",
    "        i=i+1\n",
    "        \n",
    "    else:\n",
    "        \n",
    "        x_input = x_input.reshape((1, n_steps,1))\n",
    "        yhat = model.predict(x_input, verbose=0)\n",
    "        temp_input.extend(yhat[0].tolist())\n",
    "        \n",
    "        lst_output.extend(yhat.tolist())\n",
    "        i=i+1\n",
    "               \n",
    "print(\"Output of predicted next years: \", len(lst_output))"
   ]
  },
  {
   "cell_type": "code",
   "execution_count": 457,
   "id": "fc4a8119",
   "metadata": {
    "executionInfo": {
     "elapsed": 79,
     "status": "aborted",
     "timestamp": 1642166200087,
     "user": {
      "displayName": "Pustode Ayush",
      "photoUrl": "https://lh3.googleusercontent.com/a-/AOh14GiJlrCGz-UuexLNV8mFDI-NmLjTcQ047vLC8lOAsp0=s64",
      "userId": "17475338800285129425"
     },
     "user_tz": -330
    },
    "id": "fc4a8119",
    "scrolled": true
   },
   "outputs": [
    {
     "data": {
      "text/plain": [
       "[0.9560397290948306,\n",
       " 0.9340595936422459,\n",
       " 0.9120794581896613,\n",
       " 0.9615347629579768,\n",
       " 0.9505446952316845,\n",
       " 0.9505446952316845,\n",
       " 0.9175744920528073,\n",
       " 0.9230695259159536,\n",
       " 0.9230695259159536,\n",
       " 0.8736142211476379,\n",
       " 0.8571291195581994,\n",
       " 0.8571291195581994,\n",
       " 0.81316884865303,\n",
       " 0.8076738147898836,\n",
       " 0.8296539502424685]"
      ]
     },
     "execution_count": 457,
     "metadata": {},
     "output_type": "execute_result"
    }
   ],
   "source": [
    "x_input\n",
    "temp_input\n",
    "temp_input"
   ]
  },
  {
   "cell_type": "code",
   "execution_count": 458,
   "id": "3cd61406",
   "metadata": {
    "executionInfo": {
     "elapsed": 79,
     "status": "aborted",
     "timestamp": 1642166200087,
     "user": {
      "displayName": "Pustode Ayush",
      "photoUrl": "https://lh3.googleusercontent.com/a-/AOh14GiJlrCGz-UuexLNV8mFDI-NmLjTcQ047vLC8lOAsp0=s64",
      "userId": "17475338800285129425"
     },
     "user_tz": -330
    },
    "id": "3cd61406",
    "scrolled": true
   },
   "outputs": [
    {
     "name": "stdout",
     "output_type": "stream",
     "text": [
      "[ 1  2  3  4  5  6  7  8  9 10 11 12 13 14]\n",
      "[16 17 18 19 20 21 22 23 24 25]\n"
     ]
    }
   ],
   "source": [
    "last_days=np.arange(1,time_step*1)\n",
    "day_pred=np.arange(time_step+1,time_step+pred_days+1)\n",
    "print(last_days)\n",
    "print(day_pred)"
   ]
  },
  {
   "cell_type": "code",
   "execution_count": null,
   "id": "1ed8a1a3",
   "metadata": {
    "executionInfo": {
     "elapsed": 80,
     "status": "aborted",
     "timestamp": 1642166200088,
     "user": {
      "displayName": "Pustode Ayush",
      "photoUrl": "https://lh3.googleusercontent.com/a-/AOh14GiJlrCGz-UuexLNV8mFDI-NmLjTcQ047vLC8lOAsp0=s64",
      "userId": "17475338800285129425"
     },
     "user_tz": -330
    },
    "id": "1ed8a1a3",
    "scrolled": true
   },
   "outputs": [],
   "source": [
    "temp_mat = np.empty((len(last_days)+pred_days+1,1))\n",
    "temp_mat[:] = np.nan\n",
    "temp_mat = temp_mat.reshape(1,-1).tolist()[0]\n",
    "\n",
    "last_original_days_value = temp_mat\n",
    "next_predicted_days_value = temp_mat\n",
    "\n",
    "last_original_days_value[0:time_step+1] = scaler.inverse_transform(air[len(air)-time_step:]).reshape(1,-1).tolist()[0]\n",
    "next_predicted_days_value[time_step+1:] = scaler.inverse_transform(np.array(lst_output).reshape(-1,1)).reshape(1,-1).tolist()[0]\n",
    "\n",
    "new_pred_plot = pd.DataFrame({\n",
    "    'last_original_days_value':last_original_days_value,\n",
    "    'next_predicted_days_value':next_predicted_days_value\n",
    "})\n",
    "\n",
    "names = cycler(['Last 15 days close price','Predicted next 10 days close price'])\n",
    "\n",
    "fig = px.line(new_pred_plot,x=new_pred_plot.index, y=[new_pred_plot['last_original_days_value'],\n",
    "                                                      new_pred_plot['next_predicted_days_value']],\n",
    "              labels={'value': 'Stock price','index': 'Timestamp'})\n",
    "fig.update_layout(title_text='Compare last 15 days vs next 10 days',\n",
    "                  plot_bgcolor='white', font_size=15, font_color='black',legend_title_text='Close Price')\n",
    "\n",
    "fig.for_each_trace(lambda t:  t.update(name = next(names)))\n",
    "fig.update_xaxes(showgrid=False)\n",
    "fig.update_yaxes(showgrid=False)\n",
    "fig.show()"
   ]
  },
  {
   "cell_type": "markdown",
   "id": "f3b0729c",
   "metadata": {
    "id": "f3b0729c"
   },
   "source": [
    "--------------------------------------------------------------------------------------------------------------------------------------------------------"
   ]
  },
  {
   "cell_type": "markdown",
   "id": "7fb8b317",
   "metadata": {
    "id": "7fb8b317"
   },
   "source": [
    "# Compare the results"
   ]
  },
  {
   "cell_type": "code",
   "execution_count": 460,
   "id": "b05bc9fc",
   "metadata": {
    "executionInfo": {
     "elapsed": 79,
     "status": "aborted",
     "timestamp": 1642166200088,
     "user": {
      "displayName": "Pustode Ayush",
      "photoUrl": "https://lh3.googleusercontent.com/a-/AOh14GiJlrCGz-UuexLNV8mFDI-NmLjTcQ047vLC8lOAsp0=s64",
      "userId": "17475338800285129425"
     },
     "user_tz": -330
    },
    "id": "b05bc9fc",
    "scrolled": true
   },
   "outputs": [
    {
     "data": {
      "text/html": [
       "<div>\n",
       "<style scoped>\n",
       "    .dataframe tbody tr th:only-of-type {\n",
       "        vertical-align: middle;\n",
       "    }\n",
       "\n",
       "    .dataframe tbody tr th {\n",
       "        vertical-align: top;\n",
       "    }\n",
       "\n",
       "    .dataframe thead th {\n",
       "        text-align: right;\n",
       "    }\n",
       "</style>\n",
       "<table border=\"1\" class=\"dataframe\">\n",
       "  <thead>\n",
       "    <tr style=\"text-align: right;\">\n",
       "      <th></th>\n",
       "      <th>MODEL</th>\n",
       "      <th>RMSE_Values</th>\n",
       "    </tr>\n",
       "  </thead>\n",
       "  <tbody>\n",
       "    <tr>\n",
       "      <th>7</th>\n",
       "      <td>rmse_ARIMA</td>\n",
       "      <td>0.622874</td>\n",
       "    </tr>\n",
       "    <tr>\n",
       "      <th>0</th>\n",
       "      <td>rmse_SARIMA</td>\n",
       "      <td>1.123000</td>\n",
       "    </tr>\n",
       "    <tr>\n",
       "      <th>8</th>\n",
       "      <td>rmse_LSTM</td>\n",
       "      <td>1.307614</td>\n",
       "    </tr>\n",
       "    <tr>\n",
       "      <th>1</th>\n",
       "      <td>rmse_SVR</td>\n",
       "      <td>1.478754</td>\n",
       "    </tr>\n",
       "    <tr>\n",
       "      <th>5</th>\n",
       "      <td>rmse_AR</td>\n",
       "      <td>2.094495</td>\n",
       "    </tr>\n",
       "    <tr>\n",
       "      <th>2</th>\n",
       "      <td>rmse_linear</td>\n",
       "      <td>3.646347</td>\n",
       "    </tr>\n",
       "    <tr>\n",
       "      <th>6</th>\n",
       "      <td>rmse_MA</td>\n",
       "      <td>9.201726</td>\n",
       "    </tr>\n",
       "    <tr>\n",
       "      <th>4</th>\n",
       "      <td>rmse_Quad</td>\n",
       "      <td>34.830881</td>\n",
       "    </tr>\n",
       "    <tr>\n",
       "      <th>3</th>\n",
       "      <td>rmse_Exp</td>\n",
       "      <td>1819.210162</td>\n",
       "    </tr>\n",
       "  </tbody>\n",
       "</table>\n",
       "</div>"
      ],
      "text/plain": [
       "         MODEL  RMSE_Values\n",
       "7   rmse_ARIMA     0.622874\n",
       "0  rmse_SARIMA     1.123000\n",
       "8    rmse_LSTM     1.307614\n",
       "1     rmse_SVR     1.478754\n",
       "5      rmse_AR     2.094495\n",
       "2  rmse_linear     3.646347\n",
       "6      rmse_MA     9.201726\n",
       "4    rmse_Quad    34.830881\n",
       "3     rmse_Exp  1819.210162"
      ]
     },
     "execution_count": 460,
     "metadata": {},
     "output_type": "execute_result"
    }
   ],
   "source": [
    "data = {\"MODEL\":pd.Series([\"rmse_SARIMA\",\"rmse_SVR\", \"rmse_linear\",\"rmse_Exp\",\"rmse_Quad\",\"rmse_AR\",\"rmse_MA\",\"rmse_ARIMA\",\"rmse_LSTM\"]),\"RMSE_Values\":pd.Series([rmse_SARIMA,rmse_svr,rmse_linear,rmse_Exp,rmse_Quad,rmse_AR,rmse_MA,rmse_ARIMA,lstm_rmse])}\n",
    "table_rmse=pd.DataFrame(data)\n",
    "table_rmse.sort_values(['RMSE_Values'])"
   ]
  },
  {
   "cell_type": "markdown",
   "id": "39e7d09c",
   "metadata": {
    "id": "39e7d09c"
   },
   "source": [
    "# Deployment"
   ]
  },
  {
   "cell_type": "code",
   "execution_count": 461,
   "id": "98930bbc",
   "metadata": {
    "executionInfo": {
     "elapsed": 79,
     "status": "aborted",
     "timestamp": 1642166200088,
     "user": {
      "displayName": "Pustode Ayush",
      "photoUrl": "https://lh3.googleusercontent.com/a-/AOh14GiJlrCGz-UuexLNV8mFDI-NmLjTcQ047vLC8lOAsp0=s64",
      "userId": "17475338800285129425"
     },
     "user_tz": -330
    },
    "id": "98930bbc",
    "scrolled": true
   },
   "outputs": [],
   "source": [
    "import numpy as np\n",
    "import pandas as pd\n",
    "import seaborn as sns\n",
    "import matplotlib.pylab\n",
    "import matplotlib.pyplot as plt\n",
    "import scipy.stats as stats\n",
    "import datetime\n",
    "import itertools\n",
    "\n",
    "import warnings\n",
    "from math import sqrt\n",
    "from pandas import read_csv\n",
    "from statsmodels.tsa.arima.model import ARIMA\n",
    "from pandas.tseries.offsets import DateOffset\n",
    "import warnings\n",
    "warnings.filterwarnings(\"ignore\") # specify to ignore warning messages\n"
   ]
  },
  {
   "cell_type": "code",
   "execution_count": 463,
   "id": "672b1544",
   "metadata": {
    "executionInfo": {
     "elapsed": 79,
     "status": "aborted",
     "timestamp": 1642166200088,
     "user": {
      "displayName": "Pustode Ayush",
      "photoUrl": "https://lh3.googleusercontent.com/a-/AOh14GiJlrCGz-UuexLNV8mFDI-NmLjTcQ047vLC8lOAsp0=s64",
      "userId": "17475338800285129425"
     },
     "user_tz": -330
    },
    "id": "672b1544",
    "scrolled": true
   },
   "outputs": [],
   "source": [
    "import pandas as pd \n",
    "from datetime import datetime\n",
    "\n",
    "\n",
    "def dateparse(dates):\n",
    "    return datetime.strptime(dates, '%Y')\n",
    "\n",
    "\n",
    "data = pd.read_excel(\"CO2.xlsx\",\n",
    "                           parse_dates=['Year'],\n",
    "                           index_col='Year',\n",
    "                           date_parser=dateparse)"
   ]
  },
  {
   "cell_type": "markdown",
   "id": "e7bddc0d",
   "metadata": {
    "id": "e7bddc0d"
   },
   "source": [
    "##  Creating new dataframe with user input"
   ]
  },
  {
   "cell_type": "code",
   "execution_count": 464,
   "id": "1523a485",
   "metadata": {
    "executionInfo": {
     "elapsed": 80,
     "status": "aborted",
     "timestamp": 1642166200089,
     "user": {
      "displayName": "Pustode Ayush",
      "photoUrl": "https://lh3.googleusercontent.com/a-/AOh14GiJlrCGz-UuexLNV8mFDI-NmLjTcQ047vLC8lOAsp0=s64",
      "userId": "17475338800285129425"
     },
     "user_tz": -330
    },
    "id": "1523a485",
    "scrolled": true
   },
   "outputs": [],
   "source": [
    "df = 12"
   ]
  },
  {
   "cell_type": "code",
   "execution_count": 465,
   "id": "cfdf3aff",
   "metadata": {
    "executionInfo": {
     "elapsed": 80,
     "status": "aborted",
     "timestamp": 1642166200089,
     "user": {
      "displayName": "Pustode Ayush",
      "photoUrl": "https://lh3.googleusercontent.com/a-/AOh14GiJlrCGz-UuexLNV8mFDI-NmLjTcQ047vLC8lOAsp0=s64",
      "userId": "17475338800285129425"
     },
     "user_tz": -330
    },
    "id": "cfdf3aff",
    "scrolled": false
   },
   "outputs": [],
   "source": [
    "future_dates=[data.index[-1]+ DateOffset(years=x)for x in range(0,df)]"
   ]
  },
  {
   "cell_type": "code",
   "execution_count": 466,
   "id": "316a1cb9",
   "metadata": {
    "executionInfo": {
     "elapsed": 80,
     "status": "aborted",
     "timestamp": 1642166200089,
     "user": {
      "displayName": "Pustode Ayush",
      "photoUrl": "https://lh3.googleusercontent.com/a-/AOh14GiJlrCGz-UuexLNV8mFDI-NmLjTcQ047vLC8lOAsp0=s64",
      "userId": "17475338800285129425"
     },
     "user_tz": -330
    },
    "id": "316a1cb9",
    "scrolled": true
   },
   "outputs": [],
   "source": [
    "future_data=pd.DataFrame(index=future_dates[1:],columns=data.columns)"
   ]
  },
  {
   "cell_type": "markdown",
   "id": "5170e66e",
   "metadata": {
    "id": "5170e66e"
   },
   "source": [
    "## Model building with arima"
   ]
  },
  {
   "cell_type": "code",
   "execution_count": 467,
   "id": "e92d91a3",
   "metadata": {
    "executionInfo": {
     "elapsed": 80,
     "status": "aborted",
     "timestamp": 1642166200089,
     "user": {
      "displayName": "Pustode Ayush",
      "photoUrl": "https://lh3.googleusercontent.com/a-/AOh14GiJlrCGz-UuexLNV8mFDI-NmLjTcQ047vLC8lOAsp0=s64",
      "userId": "17475338800285129425"
     },
     "user_tz": -330
    },
    "id": "e92d91a3",
    "scrolled": true
   },
   "outputs": [],
   "source": [
    "final_arima = ARIMA(data['CO2'],order = (3,1,4))\n",
    "final_arima = final_arima.fit()"
   ]
  },
  {
   "cell_type": "code",
   "execution_count": 468,
   "id": "53c5bd65",
   "metadata": {
    "executionInfo": {
     "elapsed": 80,
     "status": "aborted",
     "timestamp": 1642166200089,
     "user": {
      "displayName": "Pustode Ayush",
      "photoUrl": "https://lh3.googleusercontent.com/a-/AOh14GiJlrCGz-UuexLNV8mFDI-NmLjTcQ047vLC8lOAsp0=s64",
      "userId": "17475338800285129425"
     },
     "user_tz": -330
    },
    "id": "53c5bd65",
    "scrolled": true
   },
   "outputs": [
    {
     "data": {
      "text/plain": [
       "Year\n",
       "2010-01-01    15.748893\n",
       "2011-01-01    15.438530\n",
       "2012-01-01    15.305237\n",
       "2013-01-01    14.562158\n",
       "2014-01-01    14.552655\n",
       "dtype: float64"
      ]
     },
     "execution_count": 468,
     "metadata": {},
     "output_type": "execute_result"
    }
   ],
   "source": [
    "final_arima.fittedvalues.tail()"
   ]
  },
  {
   "cell_type": "code",
   "execution_count": 469,
   "id": "f67b6180",
   "metadata": {
    "executionInfo": {
     "elapsed": 80,
     "status": "aborted",
     "timestamp": 1642166200089,
     "user": {
      "displayName": "Pustode Ayush",
      "photoUrl": "https://lh3.googleusercontent.com/a-/AOh14GiJlrCGz-UuexLNV8mFDI-NmLjTcQ047vLC8lOAsp0=s64",
      "userId": "17475338800285129425"
     },
     "user_tz": -330
    },
    "id": "f67b6180",
    "scrolled": true
   },
   "outputs": [],
   "source": [
    "future_data['CO2'] = final_arima.predict(start = 215, end = 225, dynamic= True)  \n",
    "#future_df[['CO2', 'forecast']].plot(figsize=(12, 8))\n",
    "#plt.title('Forecast for next 5 years')"
   ]
  },
  {
   "cell_type": "code",
   "execution_count": 470,
   "id": "743eaceb",
   "metadata": {
    "executionInfo": {
     "elapsed": 81,
     "status": "aborted",
     "timestamp": 1642166200090,
     "user": {
      "displayName": "Pustode Ayush",
      "photoUrl": "https://lh3.googleusercontent.com/a-/AOh14GiJlrCGz-UuexLNV8mFDI-NmLjTcQ047vLC8lOAsp0=s64",
      "userId": "17475338800285129425"
     },
     "user_tz": -330
    },
    "id": "743eaceb",
    "scrolled": true
   },
   "outputs": [
    {
     "data": {
      "image/png": "[encoded data removed]",
      "text/plain": [
       "<Figure size 1200x500 with 1 Axes>"
      ]
     },
     "metadata": {
      "needs_background": "light"
     },
     "output_type": "display_data"
    }
   ],
   "source": [
    "\n",
    "plt.figure(figsize=(12,5), dpi=100)\n",
    "plt.plot(data, label='original')\n",
    "#plt.plot(test, label='actual')\n",
    "plt.plot(future_data['CO2'], label='forecast')\n",
    "plt.title('Forecast')\n",
    "plt.legend(loc='upper left', fontsize=8)\n",
    "plt.show()"
   ]
  },
  {
   "cell_type": "code",
   "execution_count": null,
   "id": "821665a8",
   "metadata": {
    "executionInfo": {
     "elapsed": 80,
     "status": "aborted",
     "timestamp": 1642166200090,
     "user": {
      "displayName": "Pustode Ayush",
      "photoUrl": "https://lh3.googleusercontent.com/a-/AOh14GiJlrCGz-UuexLNV8mFDI-NmLjTcQ047vLC8lOAsp0=s64",
      "userId": "17475338800285129425"
     },
     "user_tz": -330
    },
    "id": "821665a8",
    "scrolled": true
   },
   "outputs": [],
   "source": [
    "future_data.tail(df)"
   ]
  },
  {
   "cell_type": "code",
   "execution_count": null,
   "id": "e3ace864",
   "metadata": {
    "executionInfo": {
     "elapsed": 80,
     "status": "aborted",
     "timestamp": 1642166200090,
     "user": {
      "displayName": "Pustode Ayush",
      "photoUrl": "https://lh3.googleusercontent.com/a-/AOh14GiJlrCGz-UuexLNV8mFDI-NmLjTcQ047vLC8lOAsp0=s64",
      "userId": "17475338800285129425"
     },
     "user_tz": -330
    },
    "id": "e3ace864",
    "scrolled": true
   },
   "outputs": [],
   "source": []
  },
  {
   "cell_type": "code",
   "execution_count": null,
   "id": "6853c428",
   "metadata": {},
   "outputs": [],
   "source": []
  },
  {
   "cell_type": "code",
   "execution_count": null,
   "id": "012c576b",
   "metadata": {},
   "outputs": [],
   "source": []
  }
 ],
 "metadata": {
  "colab": {
   "name": "DEPLOYMENT FINAL.ipynb",
   "provenance": []
  },
  "kernelspec": {
   "display_name": "Python 3",
   "language": "python",
   "name": "python3"
  },
  "language_info": {
   "codemirror_mode": {
    "name": "ipython",
    "version": 3
   },
   "file_extension": ".py",
   "mimetype": "text/x-python",
   "name": "python",
   "nbconvert_exporter": "python",
   "pygments_lexer": "ipython3",
   "version": "3.8.8"
  },
  "toc": {
   "base_numbering": 1,
   "nav_menu": {},
   "number_sections": true,
   "sideBar": true,
   "skip_h1_title": false,
   "title_cell": "Table of Contents",
   "title_sidebar": "Contents",
   "toc_cell": false,
   "toc_position": {},
   "toc_section_display": true,
   "toc_window_display": false
  }
 },
 "nbformat": 4,
 "nbformat_minor": 5
}
